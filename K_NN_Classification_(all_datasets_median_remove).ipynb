{
  "nbformat": 4,
  "nbformat_minor": 0,
  "metadata": {
    "colab": {
      "name": "K-NN Classification (all datasets median/remove).ipynb",
      "provenance": [],
      "collapsed_sections": [],
      "authorship_tag": "ABX9TyNlhnLyE3zGbZn3DgBMeHQV",
      "include_colab_link": true
    },
    "kernelspec": {
      "name": "python3",
      "display_name": "Python 3"
    },
    "language_info": {
      "name": "python"
    }
  },
  "cells": [
    {
      "cell_type": "markdown",
      "metadata": {
        "id": "view-in-github",
        "colab_type": "text"
      },
      "source": [
        "<a href=\"https://colab.research.google.com/github/cpappas18/articulaite/blob/main/K_NN_Classification_(all_datasets_median_remove).ipynb\" target=\"_parent\"><img src=\"https://colab.research.google.com/assets/colab-badge.svg\" alt=\"Open In Colab\"/></a>"
      ]
    },
    {
      "cell_type": "code",
      "metadata": {
        "colab": {
          "base_uri": "https://localhost:8080/"
        },
        "id": "JX33vrU7we_X",
        "outputId": "95ca52c1-bb16-4b84-d970-5919d96b8b55"
      },
      "source": [
        "import pandas as pd\n",
        "import numpy as np\n",
        "import matplotlib.pyplot as plt\n",
        "%matplotlib inline\n",
        "import seaborn as sns\n",
        "from sklearn.neighbors import KNeighborsClassifier\n",
        "from sklearn.model_selection import train_test_split\n",
        "from sklearn.metrics import accuracy_score, confusion_matrix\n",
        "from os import system\n",
        "from collections import Counter\n",
        "from imblearn.over_sampling import SMOTE\n",
        "from numpy import where, random\n",
        "!pip install scikit-multilearn"
      ],
      "execution_count": null,
      "outputs": [
        {
          "output_type": "stream",
          "text": [
            "/usr/local/lib/python3.7/dist-packages/sklearn/externals/six.py:31: FutureWarning: The module is deprecated in version 0.21 and will be removed in version 0.23 since we've dropped support for Python 2.7. Please rely on the official version of six (https://pypi.org/project/six/).\n",
            "  \"(https://pypi.org/project/six/).\", FutureWarning)\n",
            "/usr/local/lib/python3.7/dist-packages/sklearn/utils/deprecation.py:144: FutureWarning: The sklearn.neighbors.base module is  deprecated in version 0.22 and will be removed in version 0.24. The corresponding classes / functions should instead be imported from sklearn.neighbors. Anything that cannot be imported from sklearn.neighbors is now part of the private API.\n",
            "  warnings.warn(message, FutureWarning)\n"
          ],
          "name": "stderr"
        },
        {
          "output_type": "stream",
          "text": [
            "Collecting scikit-multilearn\n",
            "\u001b[?25l  Downloading https://files.pythonhosted.org/packages/bb/1f/e6ff649c72a1cdf2c7a1d31eb21705110ce1c5d3e7e26b2cc300e1637272/scikit_multilearn-0.2.0-py3-none-any.whl (89kB)\n",
            "\u001b[K     |████████████████████████████████| 92kB 2.3MB/s \n",
            "\u001b[?25hInstalling collected packages: scikit-multilearn\n",
            "Successfully installed scikit-multilearn-0.2.0\n"
          ],
          "name": "stdout"
        }
      ]
    },
    {
      "cell_type": "code",
      "metadata": {
        "id": "3F3FqSEoxBJD"
      },
      "source": [
        "data = pd.read_csv('all_disorders_median_std.csv')\n",
        "data2=pd.read_csv('all_disorders_remove_std.csv')"
      ],
      "execution_count": null,
      "outputs": []
    },
    {
      "cell_type": "code",
      "metadata": {
        "id": "F0iJnV0jxXlQ"
      },
      "source": [
        "def smote_multiclass(df, num_samples_dict=None, one_hot_encoded=False):\n",
        "  \"\"\"\n",
        "  Performs data augmentation and/or downsampling on a dataframe with multiple classes.\n",
        "  Supports both numerical and one-hot encoded class values.\n",
        "  The SMOTE algorithm is used for augmentation and random sampling is used for downsampling of the specified classes.\n",
        "  Keyword arguments:\n",
        "  df -- the dataframe to manipulate\n",
        "  num_samples_dict -- a dictionary of the form {0: num_desired_samples, 1: num_desired_samples, ...} that indicates the\n",
        "                      number of samples that the returned dataframe should have in each class\n",
        "  one_hot_encoded -- Boolean value indicating if the dataframe is one-hot encoded\n",
        "  \"\"\"\n",
        "\n",
        "  if df.columns[[0]] == 'Unnamed: 0':\n",
        "    df.drop(df.columns[[0]], axis=1, inplace=True)  # remove first column\n",
        "\n",
        "  # change one hot encoded dataset into numerical labels\n",
        "  if one_hot_encoded:\n",
        "    df.insert(loc=0, column='Status', value=np.nan)\n",
        "    for i, row in df.iterrows():\n",
        "      if df.iloc[i]['Control'] == 1:\n",
        "          status = 0\n",
        "      elif df.iloc[i]['Parkinsons'] == 1:\n",
        "          status = 1\n",
        "      elif df.iloc[i]['ALS'] == 1:\n",
        "          status = 2\n",
        "      elif df.iloc[i]['Cerebral_palsy'] == 1:\n",
        "          status = 3\n",
        "      df.at[i,'Status'] = status\n",
        "    df = df.drop(columns=['Control', 'Parkinsons', 'ALS', 'Cerebral_palsy'])\n",
        "\n",
        "\n",
        "  if num_samples_dict is not None:\n",
        "    strategy = num_samples_dict\n",
        "\n",
        "    # downsampling classes if needed\n",
        "    counter = Counter(df.Status)\n",
        "    class_samples = []\n",
        "    for i in range(4):\n",
        "      if counter[i] > num_samples_dict[i]: # class i needs to be downsampled\n",
        "        class_i = df.loc[df['Status'] == i]\n",
        "        class_i_sample = class_i.sample(n=num_samples_dict[i])\n",
        "        class_samples.append(class_i_sample)\n",
        "      else: # class i does not need downsampling\n",
        "        class_i = df.loc[df['Status'] == i]\n",
        "        class_samples.append(class_i)\n",
        "\n",
        "    df = pd.concat(class_samples).reset_index(drop=True)\n",
        "\n",
        "  else:\n",
        "    strategy = 'auto'\n",
        "\n",
        "  y = df.Status # labels\n",
        "  x = df.drop(['Status', 'Gender'], axis=1) # features only, Gender also removed because it must be binary\n",
        "  gender = df.Gender\n",
        "\n",
        "  oversample = SMOTE(sampling_strategy=strategy)\n",
        "  x_oversampled, y_oversampled = oversample.fit_resample(x, y)\n",
        "\n",
        "  # get sample counts for augmented dataset\n",
        "  counter = Counter(y_oversampled)\n",
        "\n",
        "  if num_samples_dict is not None and (counter[0] != num_samples_dict[0] or counter[1] != num_samples_dict[1]\n",
        "                                       or counter[2] != num_samples_dict[2] or counter[3] != num_samples_dict[3]):\n",
        "    print(\"Sampling failed\")\n",
        "  elif num_samples_dict is None and (counter[0] != counter[1] or counter[1] != counter[2] or counter[2] != counter[3]):\n",
        "    print(\"Sampling failed\")\n",
        "\n",
        "  # regenerate dataframe with new samples\n",
        "  df_concat = pd.concat([pd.DataFrame(y_oversampled), pd.DataFrame(gender), pd.DataFrame(x_oversampled)], axis=1)\n",
        "  df_concat.columns = df.columns\n",
        "\n",
        "  # fill missing gender values with a random choice of 0 or 1\n",
        "  for row in df_concat.loc[df_concat.Gender.isnull(), 'Gender'].index:\n",
        "    df_concat.at[row, 'Gender'] = random.randint(0, 2)\n",
        "\n",
        "  # change numerical class values back into one-hot encoded values\n",
        "  if one_hot_encoded:\n",
        "    one_hot = pd.get_dummies(df_concat['Status'])\n",
        "    one_hot.rename(columns={0:'Control', 1:'Parkinsons', 2:'ALS', 3:'Cerebral_palsy'}, inplace=True)\n",
        "    df_concat = df_concat.drop(columns=['Status'], axis=1)\n",
        "    df_concat = pd.concat([one_hot, df_concat], axis=1)\n",
        "\n",
        "  return df_concat, x, y"
      ],
      "execution_count": null,
      "outputs": []
    },
    {
      "cell_type": "code",
      "metadata": {
        "colab": {
          "base_uri": "https://localhost:8080/",
          "height": 737
        },
        "id": "DebqW3SMxpiW",
        "outputId": "22f6df10-503c-40bc-c15d-056dc8b666b0"
      },
      "source": [
        "data, x, y = smote_multiclass(data, num_samples_dict={0: 200, 1: 180, 2: 150, 3:60},one_hot_encoded=False)\n",
        "data2, x2, y2 = smote_multiclass(data2, num_samples_dict={0: 200, 1: 180, 2: 150, 3:60},one_hot_encoded=False)\n",
        "#Visualizing data distribution for data 1\n",
        "plt.scatter(x['MDVP:Jitter(%)'],y,color='red')\n",
        "plt.scatter(x['MDVP:Jitter(Abs)'],y,color='green')\n",
        "plt.scatter(x['Jitter:PPQ5'],y,color='blue')\n",
        "plt.scatter(x['Jitter:DDP'],y,color='yellow')\n",
        "plt.scatter(x['MDVP:Shimmer'],y,color='orange')\n",
        "plt.scatter(x['MDVP:Shimmer(dB)'],y,color='cyan')\n",
        "plt.scatter(x['Shimmer:APQ3'],y,color='pink')\n",
        "plt.scatter(x['Shimmer:APQ5'],y,color='black')\n",
        "plt.scatter(x['Shimmer:APQ11'],y,color='purple')\n",
        "plt.scatter(x['DFA'],y,color='lime')\n",
        "plt.show()\n",
        "\n",
        "#Visualizing data distribution for data 2\n",
        "plt.scatter(x2['MDVP:Jitter(%)'],y2,color='red')\n",
        "plt.scatter(x2['MDVP:Jitter(Abs)'],y2,color='green')\n",
        "plt.scatter(x2['Jitter:PPQ5'],y2,color='blue')\n",
        "plt.scatter(x2['Jitter:DDP'],y2,color='yellow')\n",
        "plt.scatter(x2['MDVP:Shimmer'],y2,color='orange')\n",
        "plt.scatter(x2['MDVP:Shimmer(dB)'],y2,color='cyan')\n",
        "plt.scatter(x2['Shimmer:APQ3'],y2,color='pink')\n",
        "plt.scatter(x2['Shimmer:APQ5'],y2,color='black')\n",
        "plt.scatter(x2['Shimmer:APQ11'],y2,color='purple')\n",
        "plt.scatter(x2['DFA'],y2,color='lime')\n",
        "plt.show()"
      ],
      "execution_count": null,
      "outputs": [
        {
          "output_type": "stream",
          "text": [
            "/usr/local/lib/python3.7/dist-packages/sklearn/utils/deprecation.py:87: FutureWarning: Function safe_indexing is deprecated; safe_indexing is deprecated in version 0.22 and will be removed in version 0.24.\n",
            "  warnings.warn(msg, category=FutureWarning)\n",
            "/usr/local/lib/python3.7/dist-packages/sklearn/utils/deprecation.py:87: FutureWarning: Function safe_indexing is deprecated; safe_indexing is deprecated in version 0.22 and will be removed in version 0.24.\n",
            "  warnings.warn(msg, category=FutureWarning)\n",
            "/usr/local/lib/python3.7/dist-packages/sklearn/utils/deprecation.py:87: FutureWarning: Function safe_indexing is deprecated; safe_indexing is deprecated in version 0.22 and will be removed in version 0.24.\n",
            "  warnings.warn(msg, category=FutureWarning)\n",
            "/usr/local/lib/python3.7/dist-packages/sklearn/utils/deprecation.py:87: FutureWarning: Function safe_indexing is deprecated; safe_indexing is deprecated in version 0.22 and will be removed in version 0.24.\n",
            "  warnings.warn(msg, category=FutureWarning)\n",
            "/usr/local/lib/python3.7/dist-packages/sklearn/utils/deprecation.py:87: FutureWarning: Function safe_indexing is deprecated; safe_indexing is deprecated in version 0.22 and will be removed in version 0.24.\n",
            "  warnings.warn(msg, category=FutureWarning)\n",
            "/usr/local/lib/python3.7/dist-packages/sklearn/utils/deprecation.py:87: FutureWarning: Function safe_indexing is deprecated; safe_indexing is deprecated in version 0.22 and will be removed in version 0.24.\n",
            "  warnings.warn(msg, category=FutureWarning)\n"
          ],
          "name": "stderr"
        },
        {
          "output_type": "display_data",
          "data": {
            "image/png": "[encoded data removed]",
            "text/plain": [
              "<Figure size 432x288 with 1 Axes>"
            ]
          },
          "metadata": {
            "tags": [],
            "needs_background": "light"
          }
        },
        {
          "output_type": "display_data",
          "data": {
            "image/png": "[encoded data removed]",
            "text/plain": [
              "<Figure size 432x288 with 1 Axes>"
            ]
          },
          "metadata": {
            "tags": [],
            "needs_background": "light"
          }
        }
      ]
    },
    {
      "cell_type": "code",
      "metadata": {
        "colab": {
          "base_uri": "https://localhost:8080/"
        },
        "id": "PJDbEmzoxvYl",
        "outputId": "4846e5b2-9d9e-48b4-8eb7-c149c37ded46"
      },
      "source": [
        "'''Splitting Data for median dataset'''\n",
        "# Splitting Data into 70% Training data and 30% Testing Data:\n",
        "X_train, X_test, y_train,  y_test = train_test_split(x, y,train_size=0.7, test_size=0.3, random_state=42,stratify=y)\n",
        "print(f\"X_test length is {len(X_test)}.\")\n",
        "print(f\"Y_test length is {len(y_test)}.\")\n",
        "print(f\"X_train length is {len(X_train)}.\")\n",
        "print(f\"Y_train length is {len(y_train)}.\")\n",
        "\n",
        "#Seeing the number/percentage of the split\n",
        "s=np.unique(y_train, return_counts=True)\n",
        "print()\n",
        "print(f\"The split is as follows:{s}\")\n",
        "print()\n",
        "\n",
        "'''Splitting Data for remove dataset'''\n",
        "# Splitting Data into 70% Training data and 30% Testing Data:\n",
        "X_train2, X_test2, y_train2,  y_test2 = train_test_split(x2, y2,train_size=0.7, test_size=0.3, random_state=42,stratify=y2)\n",
        "print(f\"X_test2 length is {len(X_test2)}.\")\n",
        "print(f\"Y_test2 length is {len(y_test2)}.\")\n",
        "print(f\"X_train2 length is {len(X_train2)}.\")\n",
        "print(f\"Y_train2 length is {len(y_train2)}.\")\n",
        "\n",
        "#Seeing the number/percentage of the split\n",
        "s2=np.unique(y_train2, return_counts=True)\n",
        "print()\n",
        "print(f\"The split is as follows:{s2}\")"
      ],
      "execution_count": null,
      "outputs": [
        {
          "output_type": "stream",
          "text": [
            "X_test length is 177.\n",
            "Y_test length is 177.\n",
            "X_train length is 413.\n",
            "Y_train length is 413.\n",
            "\n",
            "The split is as follows:(array([0, 1, 2, 3]), array([140, 126, 105,  42]))\n",
            "\n",
            "X_test2 length is 177.\n",
            "Y_test2 length is 177.\n",
            "X_train2 length is 413.\n",
            "Y_train2 length is 413.\n",
            "\n",
            "The split is as follows:(array([0, 1, 2, 3]), array([140, 126, 105,  42]))\n"
          ],
          "name": "stdout"
        }
      ]
    },
    {
      "cell_type": "markdown",
      "metadata": {
        "id": "lGPbUH3e41g9"
      },
      "source": [
        "# K-Nearest Neighbor Classification"
      ]
    },
    {
      "cell_type": "code",
      "metadata": {
        "colab": {
          "base_uri": "https://localhost:8080/"
        },
        "id": "9D4we7an4YE-",
        "outputId": "953e224c-ac6a-4378-82b9-0d2079ea284f"
      },
      "source": [
        "'''k-NN for Median Dataset'''\n",
        "#k-NN\n",
        "from sklearn.neighbors import KNeighborsClassifier\n",
        "#To use the build in multilabel adabtor use:\n",
        "#from skmultilearn.adapt import MLkNN\n",
        "#knn_model= MLkNN(k=20)\n",
        "\n",
        "#fiting training data on model\n",
        "#Setup arrays to store training and test accuracies\n",
        "neighbors = np.arange(1,9)\n",
        "train_accuracy =np.empty(len(neighbors))\n",
        "test_accuracy = np.empty(len(neighbors))\n",
        "\n",
        "for i,k in enumerate(neighbors):\n",
        "    #Setup a knn classifier with k neighbors\n",
        "    knn_model = KNeighborsClassifier(n_neighbors=k)\n",
        "    \n",
        "    #Fit the model\n",
        "    knn_model.fit(X_train, y_train)\n",
        "    \n",
        "    #Compute accuracy on the training set\n",
        "    train_accuracy[i] = knn_model.score(X_train, y_train)\n",
        "    \n",
        "    #Compute accuracy on the test set\n",
        "    test_accuracy[i] = knn_model.score(X_test, y_test) \n",
        "    print(f\"Train Accuracy:\")\n",
        "    print(train_accuracy[i])\n",
        "    print(f\"Test Accuracy:\")\n",
        "    print(test_accuracy[i])\n",
        "\n",
        "#prediction using K-NN\n",
        "y_pred = knn_model.predict(X_test)\n",
        "print(f\"The predictions for the data is {y_pred}\")\n",
        "\n",
        "#Looking at accuracy by counting the number of misclassified cases\n",
        "count_misclassified = (y_test != y_pred).sum()\n",
        "print('Misclassified samples in KNN: {}'.format(count_misclassified))\n",
        "\n",
        "#Mean Square Error\n",
        "from sklearn.metrics import mean_squared_error\n",
        "from math import sqrt\n",
        "train_preds = knn_model.predict(X_train)\n",
        "mse = mean_squared_error(y_train, train_preds)\n",
        "rmse1 = sqrt(mse)\n",
        "print(f\"Mean square error for training data is {rmse1}\")\n",
        "\n",
        "#evaluating the predictive performance of our model\n",
        "test_preds = knn_model.predict(X_test)\n",
        "mse = mean_squared_error(y_test, test_preds)\n",
        "rmse2 = sqrt(mse)\n",
        "print(f\"Mean square error for test data is {rmse2}\")"
      ],
      "execution_count": null,
      "outputs": [
        {
          "output_type": "stream",
          "text": [
            "Train Accuracy:\n",
            "1.0\n",
            "Test Accuracy:\n",
            "0.7909604519774012\n",
            "Train Accuracy:\n",
            "0.9128329297820823\n",
            "Test Accuracy:\n",
            "0.7853107344632768\n",
            "Train Accuracy:\n",
            "0.9176755447941889\n",
            "Test Accuracy:\n",
            "0.7401129943502824\n",
            "Train Accuracy:\n",
            "0.8595641646489104\n",
            "Test Accuracy:\n",
            "0.7853107344632768\n",
            "Train Accuracy:\n",
            "0.87409200968523\n",
            "Test Accuracy:\n",
            "0.751412429378531\n",
            "Train Accuracy:\n",
            "0.8450363196125908\n",
            "Test Accuracy:\n",
            "0.7853107344632768\n",
            "Train Accuracy:\n",
            "0.8571428571428571\n",
            "Test Accuracy:\n",
            "0.7570621468926554\n",
            "Train Accuracy:\n",
            "0.8184019370460048\n",
            "Test Accuracy:\n",
            "0.751412429378531\n",
            "The predictions for the data is [0 0 0 0 3 0 0 2 0 0 0 1 2 0 1 0 1 1 2 3 1 2 0 0 0 0 3 0 0 2 2 1 0 0 1 2 0\n",
            " 0 2 2 1 1 0 1 2 0 2 2 2 3 1 0 2 1 3 0 1 0 1 2 2 0 0 1 0 1 0 1 2 0 2 2 1 0\n",
            " 1 0 2 2 1 0 0 3 1 0 1 1 0 2 2 2 0 0 3 2 3 0 2 0 2 2 1 0 0 1 1 0 0 2 3 1 2\n",
            " 0 0 1 1 2 0 2 0 2 0 0 0 0 1 1 1 2 1 0 0 3 0 2 2 2 1 1 0 0 2 0 0 0 0 3 2 2\n",
            " 2 0 1 2 1 2 0 2 1 0 3 0 3 0 0 0 0 0 3 0 2 1 0 0 0 0 3 2 2]\n",
            "Misclassified samples in KNN: 44\n",
            "Mean square error for training data is 0.5435066841709482\n",
            "Mean square error for test data is 0.5420196589926082\n"
          ],
          "name": "stdout"
        }
      ]
    },
    {
      "cell_type": "code",
      "metadata": {
        "colab": {
          "base_uri": "https://localhost:8080/"
        },
        "id": "fP3UrVmkgGQC",
        "outputId": "ee96209c-6d27-4ac5-ea20-47376c65165f"
      },
      "source": [
        "'''k-NN for Remove Dataset'''\n",
        "#k-NN\n",
        "from sklearn.neighbors import KNeighborsClassifier\n",
        "#To use the build in multilabel adabtor use:\n",
        "#from skmultilearn.adapt import MLkNN\n",
        "#knn_model= MLkNN(k=20)\n",
        "\n",
        "#fiting training data on model\n",
        "#Setup arrays to store training and test accuracies\n",
        "neighbors2 = np.arange(1,9)\n",
        "train_accuracy2 =np.empty(len(neighbors2))\n",
        "test_accuracy2 = np.empty(len(neighbors2))\n",
        "\n",
        "for i,K in enumerate(neighbors2):\n",
        "    #Setup a knn classifier with k neighbors\n",
        "    knn_model2 = KNeighborsClassifier(n_neighbors=K)\n",
        "    \n",
        "    #Fit the model\n",
        "    knn_model2.fit(X_train2, y_train2)\n",
        "    \n",
        "    #Compute accuracy on the training set\n",
        "    train_accuracy2[i] = knn_model2.score(X_train2, y_train2)\n",
        "    \n",
        "    #Compute accuracy on the test set\n",
        "    test_accuracy2[i] = knn_model2.score(X_test2, y_test2) \n",
        "    print(f\"Train Accuracy:\")\n",
        "    print(train_accuracy2[i])\n",
        "    print(f\"Test Accuracy:\")\n",
        "    print(test_accuracy2[i])\n",
        "\n",
        "#prediction using K-NN\n",
        "y_pred2 = knn_model2.predict(X_test2)\n",
        "print(f\"The predictions for the data is {y_pred2}\")\n",
        "\n",
        "#Looking at accuracy by counting the number of misclassified cases\n",
        "count_misclassified2 = (y_test2 != y_pred2).sum()\n",
        "print('Misclassified samples in KNN: {}'.format(count_misclassified2))\n",
        "\n",
        "#Mean Square Error\n",
        "from sklearn.metrics import mean_squared_error\n",
        "from math import sqrt\n",
        "train_preds2 = knn_model2.predict(X_train2)\n",
        "mse2 = mean_squared_error(y_train2, train_preds2)\n",
        "rmse_a = sqrt(mse2)\n",
        "print(f\"Mean square error for training data is {rmse_a}\")\n",
        "\n",
        "#evaluating the predictive performance of our model\n",
        "test_preds2 = knn_model2.predict(X_test2)\n",
        "mse2 = mean_squared_error(y_test2, test_preds2)\n",
        "rmse_b = sqrt(mse2)\n",
        "print(f\"Mean square error for test data is {rmse_b}\")"
      ],
      "execution_count": null,
      "outputs": [
        {
          "output_type": "stream",
          "text": [
            "Train Accuracy:\n",
            "1.0\n",
            "Test Accuracy:\n",
            "0.7909604519774012\n",
            "Train Accuracy:\n",
            "0.9297820823244553\n",
            "Test Accuracy:\n",
            "0.7570621468926554\n",
            "Train Accuracy:\n",
            "0.9007263922518159\n",
            "Test Accuracy:\n",
            "0.7796610169491526\n",
            "Train Accuracy:\n",
            "0.8789346246973365\n",
            "Test Accuracy:\n",
            "0.7909604519774012\n",
            "Train Accuracy:\n",
            "0.8765133171912833\n",
            "Test Accuracy:\n",
            "0.7966101694915254\n",
            "Train Accuracy:\n",
            "0.864406779661017\n",
            "Test Accuracy:\n",
            "0.7796610169491526\n",
            "Train Accuracy:\n",
            "0.8765133171912833\n",
            "Test Accuracy:\n",
            "0.7966101694915254\n",
            "Train Accuracy:\n",
            "0.8353510895883777\n",
            "Test Accuracy:\n",
            "0.768361581920904\n",
            "The predictions for the data is [1 0 0 0 3 1 0 2 0 1 1 1 2 0 0 0 1 0 2 3 1 2 0 1 1 0 3 0 2 2 2 1 0 1 1 2 1\n",
            " 0 2 2 0 0 0 0 2 1 2 2 2 3 1 3 2 0 3 1 1 0 0 2 2 1 0 1 0 0 0 0 2 1 1 2 0 0\n",
            " 0 0 2 2 0 0 0 3 0 0 0 0 3 2 2 2 0 0 3 2 3 1 2 0 2 2 1 0 0 1 0 0 0 2 3 0 2\n",
            " 0 0 1 1 2 1 2 1 2 0 0 0 0 0 1 0 2 0 1 1 3 1 2 2 2 0 1 0 0 2 0 3 0 0 3 3 2\n",
            " 2 0 1 2 1 2 1 2 1 1 3 1 3 0 1 0 0 0 3 0 2 1 0 1 0 0 3 2 2]\n",
            "Misclassified samples in KNN: 41\n",
            "Mean square error for training data is 0.5501485601695769\n",
            "Mean square error for test data is 0.5966005392134929\n"
          ],
          "name": "stdout"
        }
      ]
    },
    {
      "cell_type": "markdown",
      "metadata": {
        "id": "iJR4CdTL-MFw"
      },
      "source": [
        "# Parameter Tuning & Model Evaluation"
      ]
    },
    {
      "cell_type": "code",
      "metadata": {
        "colab": {
          "base_uri": "https://localhost:8080/"
        },
        "id": "qW50wM11-UXb",
        "outputId": "a177f9c3-130e-416a-d53f-1032859464d8"
      },
      "source": [
        "'''K prediction for Median Dataset'''\n",
        "\n",
        "#Predicting the best value of k \n",
        "from sklearn.model_selection import GridSearchCV\n",
        "parameters = {\"n_neighbors\": range(1, 20)}\n",
        "gridsearch = GridSearchCV(KNeighborsClassifier(), parameters)\n",
        "gridsearch.fit(X_train, y_train)\n",
        "\n",
        "#using .best_params_ to find the best performing k\n",
        "print(f\"The best value for k is {gridsearch.best_params_}\")\n",
        "\n",
        "#Seeing how this predicted k affects the training and testing performances\n",
        "train_preds_grid = gridsearch.predict(X_train)\n",
        "train_mse = mean_squared_error(y_train, train_preds_grid)\n",
        "train_rmse = sqrt(train_mse)\n",
        "test_preds_grid = gridsearch.predict(X_test)\n",
        "test_mse = mean_squared_error(y_test, test_preds_grid)\n",
        "test_rmse = sqrt(test_mse)\n",
        "train_rmse\n",
        "\n",
        "print(f\"Mean square error for test data is {test_rmse}\")"
      ],
      "execution_count": null,
      "outputs": [
        {
          "output_type": "stream",
          "text": [
            "The best value for k is {'n_neighbors': 1}\n",
            "Mean square error for test data is 0.5042194840896107\n"
          ],
          "name": "stdout"
        }
      ]
    },
    {
      "cell_type": "code",
      "metadata": {
        "colab": {
          "base_uri": "https://localhost:8080/"
        },
        "id": "ym8dlTkl0u5g",
        "outputId": "b5986b8b-7941-48c2-b175-65ad1a72b5a1"
      },
      "source": [
        "'''K prediction for Remove Dataset'''\n",
        "\n",
        "#Predicting the best value of k \n",
        "from sklearn.model_selection import GridSearchCV\n",
        "parameters = {\"n_neighbors\": range(1, 20)}\n",
        "gridsearch = GridSearchCV(KNeighborsClassifier(), parameters)\n",
        "gridsearch.fit(X_train2, y_train2)\n",
        "\n",
        "#using .best_params_ to find the best performing k\n",
        "print(f\"The best value for k is {gridsearch.best_params_}\")\n",
        "\n",
        "#Seeing how this predicted k affects the training and testing performances\n",
        "train_preds_grid2 = gridsearch.predict(X_train2)\n",
        "train_mse2 = mean_squared_error(y_train2, train_preds_grid2)\n",
        "train_rmse2 = sqrt(train_mse2)\n",
        "test_preds_grid2 = gridsearch.predict(X_test2)\n",
        "test_mse2 = mean_squared_error(y_test2, test_preds_grid2)\n",
        "test_rmse2 = sqrt(test_mse2)\n",
        "train_rmse2\n",
        "\n",
        "print(f\"Mean square error for test data is {test_rmse2}\")"
      ],
      "execution_count": null,
      "outputs": [
        {
          "output_type": "stream",
          "text": [
            "The best value for k is {'n_neighbors': 1}\n",
            "Mean square error for test data is 0.5624803825832155\n"
          ],
          "name": "stdout"
        }
      ]
    },
    {
      "cell_type": "code",
      "metadata": {
        "colab": {
          "base_uri": "https://localhost:8080/",
          "height": 421
        },
        "id": "vv-umcME-s4o",
        "outputId": "20325090-2933-4983-e91c-22211ffa2bc6"
      },
      "source": [
        "error = []\n",
        "\n",
        "# Calculating error for K values between 1 and 40 for MEDIAN DATASET\n",
        "for i in range(1, 30):\n",
        "    knn = KNeighborsClassifier(n_neighbors=i)\n",
        "    knn.fit(X_train, y_train)\n",
        "    pred_i = knn.predict(X_test)\n",
        "    error.append(np.mean(pred_i != y_test))\n",
        "    \n",
        "# plot the error values against K values using the elbow graph method\n",
        "plt.figure(figsize=(12, 6))\n",
        "plt.plot(range(1, 30), error, color='red', linestyle='dashed', marker='o',\n",
        "         markerfacecolor='blue', markersize=10)\n",
        "plt.title('Error Rate K Value')\n",
        "plt.xlabel('K Value')\n",
        "plt.ylabel('Mean Error')"
      ],
      "execution_count": null,
      "outputs": [
        {
          "output_type": "execute_result",
          "data": {
            "text/plain": [
              "Text(0, 0.5, 'Mean Error')"
            ]
          },
          "metadata": {
            "tags": []
          },
          "execution_count": 28
        },
        {
          "output_type": "display_data",
          "data": {
            "image/png": "[encoded data removed]",
            "text/plain": [
              "<Figure size 864x432 with 1 Axes>"
            ]
          },
          "metadata": {
            "tags": [],
            "needs_background": "light"
          }
        }
      ]
    },
    {
      "cell_type": "code",
      "metadata": {
        "colab": {
          "base_uri": "https://localhost:8080/",
          "height": 421
        },
        "id": "ARTVFu-Die5x",
        "outputId": "154e3869-2cc4-43d0-e3e1-6f7c6d4e2020"
      },
      "source": [
        "error2 = []\n",
        "\n",
        "# Calculating error for K values between 1 and 30 for REMOVE DATASET\n",
        "for i in range(1, 30):\n",
        "    knn2 = KNeighborsClassifier(n_neighbors=i)\n",
        "    knn2.fit(X_train2, y_train2)\n",
        "    pred2_i = knn2.predict(X_test2)\n",
        "    error2.append(np.mean(pred2_i != y_test2))\n",
        "    \n",
        "# plot the error values against K values using the elbow graph method\n",
        "plt.figure(figsize=(12, 6))\n",
        "plt.plot(range(1, 30), error2, color='blue', linestyle='dashed', marker='o', markerfacecolor='red', markersize=10)\n",
        "plt.title('Error Rate K Value')\n",
        "plt.xlabel('K Value')\n",
        "plt.ylabel('Mean Error')"
      ],
      "execution_count": null,
      "outputs": [
        {
          "output_type": "execute_result",
          "data": {
            "text/plain": [
              "Text(0, 0.5, 'Mean Error')"
            ]
          },
          "metadata": {
            "tags": []
          },
          "execution_count": 29
        },
        {
          "output_type": "display_data",
          "data": {
            "image/png": "[encoded data removed]",
            "text/plain": [
              "<Figure size 864x432 with 1 Axes>"
            ]
          },
          "metadata": {
            "tags": [],
            "needs_background": "light"
          }
        }
      ]
    },
    {
      "cell_type": "code",
      "metadata": {
        "colab": {
          "base_uri": "https://localhost:8080/",
          "height": 534
        },
        "id": "ujTLCcBo_9va",
        "outputId": "041fb7e1-4c33-4d56-cdb2-13bfed1a6dff"
      },
      "source": [
        "'''Confusion Matrix for Remove Dataset'''\n",
        "#Evaluating the Algorithm using a confusion matrix and classification report\n",
        "from sklearn.metrics import classification_report, confusion_matrix\n",
        "y_pred = knn_model.predict(X_test)\n",
        "target_names = ['Control', 'Parkinsons', 'ALS','Cerebral Palsy']\n",
        "print(confusion_matrix(y_test, y_pred))\n",
        "Classification_rep=classification_report(y_test, y_pred,target_names=target_names)\n",
        "print(Classification_rep)\n",
        "\n",
        "#Plotting Confusion Matrix\n",
        "from sklearn.metrics import plot_confusion_matrix\n",
        "plot_confusion_matrix(knn_model, X_test, y_test, display_labels=['Control', 'Parkinsons', 'ALS', 'Cerebral Palsy'])  \n",
        "plt.show() "
      ],
      "execution_count": null,
      "outputs": [
        {
          "output_type": "stream",
          "text": [
            "[[47 13  0  0]\n",
            " [28 26  0  0]\n",
            " [ 0  0 45  0]\n",
            " [ 1  0  2 15]]\n",
            "                precision    recall  f1-score   support\n",
            "\n",
            "       Control       0.62      0.78      0.69        60\n",
            "    Parkinsons       0.67      0.48      0.56        54\n",
            "           ALS       0.96      1.00      0.98        45\n",
            "Cerebral Palsy       1.00      0.83      0.91        18\n",
            "\n",
            "      accuracy                           0.75       177\n",
            "     macro avg       0.81      0.77      0.78       177\n",
            "  weighted avg       0.76      0.75      0.75       177\n",
            "\n"
          ],
          "name": "stdout"
        },
        {
          "output_type": "display_data",
          "data": {
            "image/png": "[encoded data removed]",
            "text/plain": [
              "<Figure size 432x288 with 2 Axes>"
            ]
          },
          "metadata": {
            "tags": [],
            "needs_background": "light"
          }
        }
      ]
    },
    {
      "cell_type": "code",
      "metadata": {
        "colab": {
          "base_uri": "https://localhost:8080/",
          "height": 466
        },
        "id": "LzKjv-KMlSJ0",
        "outputId": "1953dc50-f4ba-43d9-ba32-29f95ffb3cfa"
      },
      "source": [
        "'''Confusion Matrix for Remove Dataset'''\n",
        "#Evaluating the Algorithm using a confusion matrix and classification report\n",
        "from sklearn.metrics import classification_report, confusion_matrix\n",
        "y_pred2 = knn_model2.predict(X_test2)\n",
        "Classification_rep2=classification_report(y_test2, y_pred2,target_names=target_names)\n",
        "print(Classification_rep2)\n",
        "\n",
        "#Plotting Confusion Matrix for Test set\n",
        "from sklearn.metrics import plot_confusion_matrix\n",
        "plot_confusion_matrix(knn_model2, X_test2, y_test2, display_labels=['Control', 'Parkinsons', 'ALS', 'Cerebral Palsy'])  \n",
        "plt.show() \n",
        "\n"
      ],
      "execution_count": null,
      "outputs": [
        {
          "output_type": "stream",
          "text": [
            "                precision    recall  f1-score   support\n",
            "\n",
            "       Control       0.63      0.77      0.69        60\n",
            "    Parkinsons       0.71      0.54      0.61        54\n",
            "           ALS       0.62      1.00      0.77         5\n",
            "Cerebral Palsy       1.00      0.25      0.40         4\n",
            "\n",
            "      accuracy                           0.66       123\n",
            "     macro avg       0.74      0.64      0.62       123\n",
            "  weighted avg       0.68      0.66      0.65       123\n",
            "\n"
          ],
          "name": "stdout"
        },
        {
          "output_type": "display_data",
          "data": {
            "image/png": "[encoded data removed]",
            "text/plain": [
              "<Figure size 432x288 with 2 Axes>"
            ]
          },
          "metadata": {
            "tags": [],
            "needs_background": "light"
          }
        }
      ]
    },
    {
      "cell_type": "code",
      "metadata": {
        "id": "EgsnMFH3BDic"
      },
      "source": [
        "'''Median Dataset'''\n",
        "#Loglos Evaluation\n",
        "from sklearn import model_selection\n",
        "# log loss (closer to 0 is better)\n",
        "for k in range(2,6,4):\n",
        "  kfold = model_selection.KFold(n_splits=k, shuffle=True)\n",
        "  results = model_selection.cross_val_score(knn_model, x, y, cv=kfold, scoring='neg_log_loss')\n",
        "  print(\"Logloss: %.3f (%.f)\" % (results.mean(), k))"
      ],
      "execution_count": null,
      "outputs": []
    },
    {
      "cell_type": "code",
      "metadata": {
        "id": "6t7_ctep-meD"
      },
      "source": [
        "'''Remove Dataset'''\n",
        "#Loglos Evaluation\n",
        "from sklearn import model_selection\n",
        "# log loss (closer to 0 is better)\n",
        "for k in range(2,6,4):\n",
        "  kfold = model_selection.KFold(n_splits=k, shuffle=True)\n",
        "  results2 = model_selection.cross_val_score(knn_model2, x2, y2, cv=kfold, scoring='neg_log_loss')\n",
        "  print(\"Logloss: %.3f (%.f)\" % (results2.mean(), k))"
      ],
      "execution_count": null,
      "outputs": []
    },
    {
      "cell_type": "code",
      "metadata": {
        "id": "1K7DOB3_B21G"
      },
      "source": [
        "'''Median Dataset'''\n",
        "#Looking at the ROC of our Model\n",
        "from sklearn import metrics\n",
        "\n",
        "fpr, tpr, thresholds = metrics.roc_curve(y_test, y_pred, pos_label=2)\n",
        "print(f\"The False Positive Rate prediction is {fpr}\")\n",
        "print(f\"The True Positive Rate prediction is {tpr}\")\n",
        "print(f\"The Thresholds are {thresholds}\")"
      ],
      "execution_count": null,
      "outputs": []
    },
    {
      "cell_type": "code",
      "metadata": {
        "id": "ng4p37nF9f2D"
      },
      "source": [
        "'''Remove Dataset'''\n",
        "#Looking at the ROC of our Model\n",
        "fpr2, tpr2, thresholds2 = metrics.roc_curve(y_test2, y_pred2, pos_label=2)\n",
        "print(f\"The False Positive Rate prediction is {fpr2}\")\n",
        "print(f\"The True Positive Rate prediction is {tpr2}\")\n",
        "print(f\"The Thresholds are {thresholds2}\")"
      ],
      "execution_count": null,
      "outputs": []
    },
    {
      "cell_type": "markdown",
      "metadata": {
        "id": "TiARmz25GSLg"
      },
      "source": [
        "# Conclusion"
      ]
    },
    {
      "cell_type": "code",
      "metadata": {
        "id": "dwbsXRQ8Guld"
      },
      "source": [
        "from tabulate import tabulate\n",
        "print(f\"Median Dataset\")\n",
        "print(tabulate([['Train Accuracies (k=1-9)', train_accuracy], ['Test Accuracies (k=1-9)', test_accuracy],['Data Split', s], ['Logloss', results],[\"Predictions\", y_pred],['Number of Misclassifications',count_misclassified],['Mean Square Error for Training',rmse1],['Mean Square Error for Test',rmse2],['Classification Report',Classification_rep],['False Positive Rate', fpr], ['True positive Rate', tpr], ['Thresholds', thresholds]],headers=['Evaluations', 'Output']))"
      ],
      "execution_count": null,
      "outputs": []
    },
    {
      "cell_type": "code",
      "metadata": {
        "id": "x_iYI8DLIqTG"
      },
      "source": [
        "print(f\"Remove Dataset (Trained on Validation Set)\")\n",
        "print(tabulate([['Train Accuracies (k=1-9)', train_accuracy2], ['Test Accuracies (k=1-9)', test_accuracy2], ['Data Split',s2],['Logloss', results2],[\"Predictions\", y_pred2],['Number of Misclassifications',count_misclassified2],['Mean Square Error for Training',rmse_a],['Mean Square Error for Test',rmse_b],['Classification Report',Classification_rep2],['False Positive Rate', fpr2], ['True positive Rate', tpr2], ['Thresholds', thresholds2]],headers=['Evaluations', 'Output']))"
      ],
      "execution_count": null,
      "outputs": []
    },
    {
      "cell_type": "code",
      "metadata": {
        "id": "reMH7EX99UIl"
      },
      "source": [
        "import csv\n",
        "import matplotlib.pyplot as plt\n",
        "import os\n",
        "import secrets  # to generate jpg name\n",
        "\n",
        "def performance_report(model, X, y, X_test, y_test, y_pred, model_label):\n",
        "\n",
        "  # classification accuracy\n",
        "  try:\n",
        "    from sklearn.metrics import accuracy_score\n",
        "    accuracy = accuracy_score(y_test, y_pred)\n",
        "  except:\n",
        "    accuracy = \"NA\"\n",
        "\n",
        "  # confusion matrix\n",
        "  from sklearn.metrics import confusion_matrix\n",
        "  from sklearn.metrics import plot_confusion_matrix\n",
        "\n",
        "  try:\n",
        "    conf = confusion_matrix(y_test, y_pred)\n",
        "    TP = conf[1][1]\n",
        "    TN = conf[0][0]\n",
        "    FP = conf[0][1]\n",
        "    FN = conf[1][0]\n",
        "\n",
        "    disp = plot_confusion_matrix(model, X_test, y_test, cmap=plt.cm.Blues, values_format='.0f')\n",
        "    title = secrets.token_hex(4)\n",
        "    plt.savefig(title, format=\"jpg\")\n",
        "\n",
        "    path1 = os.path.abspath(title+\".jpg\")\n",
        "  except:\n",
        "    TP = TN = FP = FN = path1 = \"\"\n",
        "\n",
        "  # k-fold cross validation\n",
        "  from sklearn import model_selection\n",
        "  try:\n",
        "    kfold = model_selection.KFold(n_splits=6, shuffle=True)\n",
        "    KCV = model_selection.cross_val_score(model, X, y, cv=kfold, scoring='accuracy').mean()\n",
        "  except:\n",
        "    KCV = \"\"\n",
        "\n",
        "  # log loss (closer to 0 is better)\n",
        "  try:\n",
        "    logloss = model_selection.cross_val_score(model, X, y, cv=kfold, scoring='neg_log_loss').mean()\n",
        "  except:\n",
        "    logloss = \"\"\n",
        "\n",
        "  # AUC (1 is perfect predictions, 0.5 is as good as random)\n",
        "  try:\n",
        "    AUC = model_selection.cross_val_score(model, X, y, cv=kfold, scoring='roc_auc').mean()\n",
        "  except:\n",
        "    AUC = \"\"\n",
        "\n",
        "  # precision recall curve\n",
        "  from sklearn.metrics import plot_precision_recall_curve\n",
        "  from sklearn.metrics import average_precision_score\n",
        "\n",
        "  try:\n",
        "    y_score = model.decision_function(X_test)\n",
        "    average_precision = average_precision_score(y_test, y_score)\n",
        "\n",
        "    disp = plot_precision_recall_curve(model, X_test, y_test)\n",
        "    title = secrets.token_hex(4)  \n",
        "    plt.savefig(title, format=\"jpg\")\n",
        "\n",
        "    path2 = os.path.abspath(title+\".jpg\")\n",
        "  except:\n",
        "    average_precision = path2 = \"\"\n",
        "\n",
        "  # appending metrics to csv file\n",
        "  with open('metrics.csv', 'a', newline='') as file:\n",
        "    writer = csv.writer(file)\n",
        "    if os.stat(\"metrics.csv\").st_size == 0:\n",
        "      writer.writerow([\"Model label\", \"Accuracy score\", \"TP\", \"TN\", \"FP\", \"FN\", \"Confusion matrix file\",\"KCV\", \"Log-loss\", \"AUC\", \"Average precision\", \"Precision-recall file\"])\n",
        "    writer.writerow([model_label, accuracy, TP, TN, FP, FN, path1, KCV, logloss, AUC, average_precision, path2])"
      ],
      "execution_count": null,
      "outputs": []
    },
    {
      "cell_type": "code",
      "metadata": {
        "colab": {
          "base_uri": "https://localhost:8080/",
          "height": 1000
        },
        "id": "ISlR0ALs61zt",
        "outputId": "ab07f58b-e5de-4b0a-ff3c-405f3410ea50"
      },
      "source": [
        "\n",
        "# performance reports\n",
        "urls = ['https://raw.githubusercontent.com/cpappas18/Dysarthria-Classifier/main/PD_remove_std_all_datasets.csv',\n",
        "        'https://raw.githubusercontent.com/cpappas18/Dysarthria-Classifier/main/PD_median_std_all_datasets.csv']\n",
        "titles = ['PD_remove_std_all',\n",
        "          'PD_median_std_all']\n",
        "for i in range(0,len(urls)):\n",
        "  performance_report(knn_model, x, y, X_test, y_test, y_pred, titles[i])\n",
        "  performance_report(knn_model2, x, y, X_test2, y_test2, y_pred2, titles[i])"
      ],
      "execution_count": null,
      "outputs": [
        {
          "output_type": "display_data",
          "data": {
            "image/png": "[encoded data removed]",
            "text/plain": [
              "<Figure size 432x288 with 2 Axes>"
            ]
          },
          "metadata": {
            "tags": [],
            "needs_background": "light"
          }
        },
        {
          "output_type": "display_data",
          "data": {
            "image/png": "[encoded data removed]",
            "text/plain": [
              "<Figure size 432x288 with 2 Axes>"
            ]
          },
          "metadata": {
            "tags": [],
            "needs_background": "light"
          }
        },
        {
          "output_type": "display_data",
          "data": {
            "image/png": "[encoded data removed]",
            "text/plain": [
              "<Figure size 432x288 with 2 Axes>"
            ]
          },
          "metadata": {
            "tags": [],
            "needs_background": "light"
          }
        },
        {
          "output_type": "display_data",
          "data": {
            "image/png": "[encoded data removed]",
            "text/plain": [
              "<Figure size 432x288 with 2 Axes>"
            ]
          },
          "metadata": {
            "tags": [],
            "needs_background": "light"
          }
        }
      ]
    },
    {
      "cell_type": "code",
      "metadata": {
        "id": "mE5rNVem8FhU"
      },
      "source": [
        ""
      ],
      "execution_count": null,
      "outputs": []
    }
  ]
}