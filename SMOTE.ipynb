{
  "nbformat": 4,
  "nbformat_minor": 0,
  "metadata": {
    "colab": {
      "name": "SMOTE.ipynb",
      "provenance": [],
      "collapsed_sections": []
    },
    "kernelspec": {
      "name": "python3",
      "display_name": "Python 3"
    },
    "language_info": {
      "name": "python"
    }
  },
  "cells": [
    {
      "cell_type": "markdown",
      "metadata": {
        "id": "ZbLZuB3mJMyY"
      },
      "source": [
        "## Synthetic Minority Oversampling Technique (SMOTE)\n",
        "This script demonstrates how to transform an imbalanced dataset (used for binary classification) into a balanced dataset by oversampling from the minority class.\n",
        "\n",
        "Reference: \n",
        "https://machinelearningmastery.com/smote-oversampling-for-imbalanced-classification/"
      ]
    },
    {
      "cell_type": "code",
      "metadata": {
        "id": "HOqs4F6j3fAm"
      },
      "source": [
        "import pandas as pd\n",
        "import numpy as np\n",
        "import imblearn\n",
        "from collections import Counter\n",
        "from matplotlib import pyplot\n",
        "from numpy import where\n",
        "from imblearn.over_sampling import SMOTE"
      ],
      "execution_count": 71,
      "outputs": []
    },
    {
      "cell_type": "code",
      "metadata": {
        "id": "CMrEBm9s4vWZ"
      },
      "source": [
        "df = pd.read_csv(\"PD_median_std_all_datasets.csv\")\n",
        "df.drop(df.columns[[0]], axis=1, inplace=True) # remove first column\n",
        "\n",
        "y = df.Status # labels\n",
        "x = df.drop('Status',axis=1) # features"
      ],
      "execution_count": 72,
      "outputs": []
    },
    {
      "cell_type": "code",
      "metadata": {
        "colab": {
          "base_uri": "https://localhost:8080/"
        },
        "id": "8LpdoyBG5HSK",
        "outputId": "60acb962-21f0-4e1e-e0c7-3f1618916bd8"
      },
      "source": [
        "# display counts for PD and control, highly imbalanced\n",
        "counter = Counter(y)\n",
        "print(counter)"
      ],
      "execution_count": 73,
      "outputs": [
        {
          "output_type": "stream",
          "text": [
            "Counter({1: 6706, 0: 360})\n"
          ],
          "name": "stdout"
        }
      ]
    },
    {
      "cell_type": "code",
      "metadata": {
        "colab": {
          "base_uri": "https://localhost:8080/"
        },
        "id": "L4dsOUBM5dpw",
        "outputId": "c7c0ed72-0264-4316-b1bd-df341291e082"
      },
      "source": [
        "oversample = SMOTE()\n",
        "x_oversampled, y_oversampled = oversample.fit_resample(x, y)"
      ],
      "execution_count": 74,
      "outputs": [
        {
          "output_type": "stream",
          "text": [
            "/usr/local/lib/python3.7/dist-packages/sklearn/utils/deprecation.py:87: FutureWarning: Function safe_indexing is deprecated; safe_indexing is deprecated in version 0.22 and will be removed in version 0.24.\n",
            "  warnings.warn(msg, category=FutureWarning)\n"
          ],
          "name": "stderr"
        }
      ]
    },
    {
      "cell_type": "code",
      "metadata": {
        "colab": {
          "base_uri": "https://localhost:8080/"
        },
        "id": "7emgiH4T6flI",
        "outputId": "309d1dab-8f1c-4e26-e5ab-9c681569ccc9"
      },
      "source": [
        "# display counts for PD and control, data is balanced now\n",
        "counter = Counter(y_oversampled)\n",
        "print(counter)"
      ],
      "execution_count": 75,
      "outputs": [
        {
          "output_type": "stream",
          "text": [
            "Counter({1: 6706, 0: 6706})\n"
          ],
          "name": "stdout"
        }
      ]
    },
    {
      "cell_type": "code",
      "metadata": {
        "id": "-InBrWXj7Yy3"
      },
      "source": [
        "# regenerate dataframe with new samples\n",
        "df = pd.concat([pd.DataFrame(y_oversampled), pd.DataFrame(x_oversampled)], axis=1)\n",
        "df.columns = ['Status'] + x.columns.to_list()"
      ],
      "execution_count": 77,
      "outputs": []
    },
    {
      "cell_type": "code",
      "metadata": {
        "id": "-avPckub8qDZ"
      },
      "source": [
        "df.to_csv(\"PD_median_std_all_datasets_SMOTE.csv\")"
      ],
      "execution_count": 78,
      "outputs": []
    }
  ]
}