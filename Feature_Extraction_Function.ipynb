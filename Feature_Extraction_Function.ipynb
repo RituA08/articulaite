{
  "nbformat": 4,
  "nbformat_minor": 0,
  "metadata": {
    "colab": {
      "name": "Feature Extraction Function.ipynb",
      "provenance": [],
      "collapsed_sections": [],
      "authorship_tag": "ABX9TyPMXyh3b1tgEt08iDE+Abe7",
      "include_colab_link": true
    },
    "kernelspec": {
      "name": "python3",
      "display_name": "Python 3"
    },
    "language_info": {
      "name": "python"
    }
  },
  "cells": [
    {
      "cell_type": "markdown",
      "metadata": {
        "id": "view-in-github",
        "colab_type": "text"
      },
      "source": [
        "<a href=\"https://colab.research.google.com/github/cpappas18/Articulaite/blob/main/Feature_Extraction_Function.ipynb\" target=\"_parent\"><img src=\"https://colab.research.google.com/assets/colab-badge.svg\" alt=\"Open In Colab\"/></a>"
      ]
    },
    {
      "cell_type": "code",
      "metadata": {
        "colab": {
          "base_uri": "https://localhost:8080/",
          "height": 1000
        },
        "id": "ynA79bv6Faqg",
        "outputId": "5dc6e3ad-4413-4c97-d667-239135fe6bdd"
      },
      "source": [
        "import librosa \n",
        "!pip install surfboard\n",
        "from surfboard.sound import Waveform\n",
        "from surfboard.feature_extraction import extract_features\n",
        "!pip install Signal_Analysis\n",
        "import Signal_Analysis.features.signal\n",
        "from scipy.io.wavfile import read\n",
        "import numpy as np"
      ],
      "execution_count": null,
      "outputs": [
        {
          "output_type": "stream",
          "text": [
            "Collecting surfboard\n",
            "  Downloading https://files.pythonhosted.org/packages/73/ce/ea63141ac51c25ff5a631d2203a7fe9ad0d94bb9660bf417e322f8fc8a0a/surfboard-0.2.0.tar.gz\n",
            "Requirement already satisfied: librosa>=0.7.2 in /usr/local/lib/python3.7/dist-packages (from surfboard) (0.8.1)\n",
            "Collecting numba==0.48.0\n",
            "\u001b[?25l  Downloading https://files.pythonhosted.org/packages/39/dc/5ce4a94d98e8a31cab21b150e23ca2f09a7dd354c06a69f71801ecd890db/numba-0.48.0-1-cp37-cp37m-manylinux2014_x86_64.whl (3.5MB)\n",
            "\u001b[K     |████████████████████████████████| 3.6MB 5.5MB/s \n",
            "\u001b[?25hCollecting pysptk>=0.1.18\n",
            "\u001b[?25l  Downloading https://files.pythonhosted.org/packages/7c/25/4ea0932fbf0f1db42934b85011c1c825bcf57055ecde7e511f05e9fb9197/pysptk-0.1.18.tar.gz (419kB)\n",
            "\u001b[K     |████████████████████████████████| 419kB 43.2MB/s \n",
            "\u001b[?25hCollecting PeakUtils>=1.3.3\n",
            "  Downloading https://files.pythonhosted.org/packages/0a/11/6416c8aebba4d5f73e23e1f070a419a8944f3ba17eed9efdf9cdc95f0411/PeakUtils-1.3.3-py3-none-any.whl\n",
            "Collecting pyloudnorm==0.1.0\n",
            "  Downloading https://files.pythonhosted.org/packages/e0/a7/124736cf96bd9bb5b5ee8a777fe02aa531d142c3a3280f00dcf4dafcdfda/pyloudnorm-0.1.0-py3-none-any.whl\n",
            "Requirement already satisfied: pandas>=1.0.1 in /usr/local/lib/python3.7/dist-packages (from surfboard) (1.1.5)\n",
            "Collecting tqdm>=4.42.1\n",
            "\u001b[?25l  Downloading https://files.pythonhosted.org/packages/b4/20/9f1e974bb4761128fc0d0a32813eaa92827309b1756c4b892d28adfb4415/tqdm-4.61.1-py2.py3-none-any.whl (75kB)\n",
            "\u001b[K     |████████████████████████████████| 81kB 9.1MB/s \n",
            "\u001b[?25hCollecting pyyaml>=5.3\n",
            "\u001b[?25l  Downloading https://files.pythonhosted.org/packages/7a/a5/393c087efdc78091afa2af9f1378762f9821c9c1d7a22c5753fb5ac5f97a/PyYAML-5.4.1-cp37-cp37m-manylinux1_x86_64.whl (636kB)\n",
            "\u001b[K     |████████████████████████████████| 645kB 45.2MB/s \n",
            "\u001b[?25hRequirement already satisfied: Cython>=0.29.15 in /usr/local/lib/python3.7/dist-packages (from surfboard) (0.29.23)\n",
            "Collecting pytest>=5.4.1\n",
            "\u001b[?25l  Downloading https://files.pythonhosted.org/packages/a1/59/6821e900592fbe261f19d67e4def0cb27e52ef8ed16d9922c144961cc1ee/pytest-6.2.4-py3-none-any.whl (280kB)\n",
            "\u001b[K     |████████████████████████████████| 286kB 54.3MB/s \n",
            "\u001b[?25hRequirement already satisfied: SoundFile>=0.10.3.post1 in /usr/local/lib/python3.7/dist-packages (from surfboard) (0.10.3.post1)\n",
            "Requirement already satisfied: decorator>=3.0.0 in /usr/local/lib/python3.7/dist-packages (from librosa>=0.7.2->surfboard) (4.4.2)\n",
            "Requirement already satisfied: joblib>=0.14 in /usr/local/lib/python3.7/dist-packages (from librosa>=0.7.2->surfboard) (1.0.1)\n",
            "Requirement already satisfied: scipy>=1.0.0 in /usr/local/lib/python3.7/dist-packages (from librosa>=0.7.2->surfboard) (1.4.1)\n",
            "Requirement already satisfied: resampy>=0.2.2 in /usr/local/lib/python3.7/dist-packages (from librosa>=0.7.2->surfboard) (0.2.2)\n",
            "Requirement already satisfied: scikit-learn!=0.19.0,>=0.14.0 in /usr/local/lib/python3.7/dist-packages (from librosa>=0.7.2->surfboard) (0.22.2.post1)\n",
            "Requirement already satisfied: numpy>=1.15.0 in /usr/local/lib/python3.7/dist-packages (from librosa>=0.7.2->surfboard) (1.19.5)\n",
            "Requirement already satisfied: pooch>=1.0 in /usr/local/lib/python3.7/dist-packages (from librosa>=0.7.2->surfboard) (1.4.0)\n",
            "Requirement already satisfied: packaging>=20.0 in /usr/local/lib/python3.7/dist-packages (from librosa>=0.7.2->surfboard) (20.9)\n",
            "Requirement already satisfied: audioread>=2.0.0 in /usr/local/lib/python3.7/dist-packages (from librosa>=0.7.2->surfboard) (2.1.9)\n",
            "Requirement already satisfied: setuptools in /usr/local/lib/python3.7/dist-packages (from numba==0.48.0->surfboard) (57.0.0)\n",
            "Collecting llvmlite<0.32.0,>=0.31.0dev0\n",
            "\u001b[?25l  Downloading https://files.pythonhosted.org/packages/a0/10/d02c0ac683fc47ecda3426249509cf771d748b6a2c0e9d5ebbee76a7b80a/llvmlite-0.31.0-cp37-cp37m-manylinux1_x86_64.whl (20.2MB)\n",
            "\u001b[K     |████████████████████████████████| 20.2MB 58.7MB/s \n",
            "\u001b[?25hRequirement already satisfied: six in /usr/local/lib/python3.7/dist-packages (from pysptk>=0.1.18->surfboard) (1.15.0)\n",
            "Requirement already satisfied: future>=0.16.0 in /usr/local/lib/python3.7/dist-packages (from pyloudnorm==0.1.0->surfboard) (0.16.0)\n",
            "Requirement already satisfied: python-dateutil>=2.7.3 in /usr/local/lib/python3.7/dist-packages (from pandas>=1.0.1->surfboard) (2.8.1)\n",
            "Requirement already satisfied: pytz>=2017.2 in /usr/local/lib/python3.7/dist-packages (from pandas>=1.0.1->surfboard) (2018.9)\n",
            "Collecting pluggy<1.0.0a1,>=0.12\n",
            "  Downloading https://files.pythonhosted.org/packages/a0/28/85c7aa31b80d150b772fbe4a229487bc6644da9ccb7e427dd8cc60cb8a62/pluggy-0.13.1-py2.py3-none-any.whl\n",
            "Requirement already satisfied: attrs>=19.2.0 in /usr/local/lib/python3.7/dist-packages (from pytest>=5.4.1->surfboard) (21.2.0)\n",
            "Requirement already satisfied: importlib-metadata>=0.12; python_version < \"3.8\" in /usr/local/lib/python3.7/dist-packages (from pytest>=5.4.1->surfboard) (4.5.0)\n",
            "Requirement already satisfied: toml in /usr/local/lib/python3.7/dist-packages (from pytest>=5.4.1->surfboard) (0.10.2)\n",
            "Requirement already satisfied: py>=1.8.2 in /usr/local/lib/python3.7/dist-packages (from pytest>=5.4.1->surfboard) (1.10.0)\n",
            "Requirement already satisfied: iniconfig in /usr/local/lib/python3.7/dist-packages (from pytest>=5.4.1->surfboard) (1.1.1)\n",
            "Requirement already satisfied: cffi>=1.0 in /usr/local/lib/python3.7/dist-packages (from SoundFile>=0.10.3.post1->surfboard) (1.14.5)\n",
            "Requirement already satisfied: requests in /usr/local/lib/python3.7/dist-packages (from pooch>=1.0->librosa>=0.7.2->surfboard) (2.23.0)\n",
            "Requirement already satisfied: appdirs in /usr/local/lib/python3.7/dist-packages (from pooch>=1.0->librosa>=0.7.2->surfboard) (1.4.4)\n",
            "Requirement already satisfied: pyparsing>=2.0.2 in /usr/local/lib/python3.7/dist-packages (from packaging>=20.0->librosa>=0.7.2->surfboard) (2.4.7)\n",
            "Requirement already satisfied: typing-extensions>=3.6.4; python_version < \"3.8\" in /usr/local/lib/python3.7/dist-packages (from importlib-metadata>=0.12; python_version < \"3.8\"->pytest>=5.4.1->surfboard) (3.7.4.3)\n",
            "Requirement already satisfied: zipp>=0.5 in /usr/local/lib/python3.7/dist-packages (from importlib-metadata>=0.12; python_version < \"3.8\"->pytest>=5.4.1->surfboard) (3.4.1)\n",
            "Requirement already satisfied: pycparser in /usr/local/lib/python3.7/dist-packages (from cffi>=1.0->SoundFile>=0.10.3.post1->surfboard) (2.20)\n",
            "Requirement already satisfied: idna<3,>=2.5 in /usr/local/lib/python3.7/dist-packages (from requests->pooch>=1.0->librosa>=0.7.2->surfboard) (2.10)\n",
            "Requirement already satisfied: certifi>=2017.4.17 in /usr/local/lib/python3.7/dist-packages (from requests->pooch>=1.0->librosa>=0.7.2->surfboard) (2021.5.30)\n",
            "Requirement already satisfied: urllib3!=1.25.0,!=1.25.1,<1.26,>=1.21.1 in /usr/local/lib/python3.7/dist-packages (from requests->pooch>=1.0->librosa>=0.7.2->surfboard) (1.24.3)\n",
            "Requirement already satisfied: chardet<4,>=3.0.2 in /usr/local/lib/python3.7/dist-packages (from requests->pooch>=1.0->librosa>=0.7.2->surfboard) (3.0.4)\n",
            "Building wheels for collected packages: surfboard, pysptk\n",
            "  Building wheel for surfboard (setup.py) ... \u001b[?25l\u001b[?25hdone\n",
            "  Created wheel for surfboard: filename=surfboard-0.2.0-cp37-none-any.whl size=33231 sha256=c987fe279aac8f1e16d6b3b165bd6653335189f2c273dc6edd489105bec6b07c\n",
            "  Stored in directory: /root/.cache/pip/wheels/d3/b6/19/72a52f64534dcb26d0c67155ce67e317570cbff6f56cb0f7cf\n",
            "  Building wheel for pysptk (setup.py) ... \u001b[?25l\u001b[?25hdone\n",
            "  Created wheel for pysptk: filename=pysptk-0.1.18-cp37-cp37m-linux_x86_64.whl size=951853 sha256=23f088f6c0e870e85a722f904c2986807199b5daf6b5546f723689b6f63ac3f3\n",
            "  Stored in directory: /root/.cache/pip/wheels/c7/96/d2/a163240019c59504402fab713af259026af81a99dea943404a\n",
            "Successfully built surfboard pysptk\n",
            "\u001b[31mERROR: datascience 0.10.6 has requirement folium==0.2.1, but you'll have folium 0.8.3 which is incompatible.\u001b[0m\n",
            "Installing collected packages: llvmlite, numba, pysptk, PeakUtils, pyloudnorm, tqdm, pyyaml, pluggy, pytest, surfboard\n",
            "  Found existing installation: llvmlite 0.34.0\n",
            "    Uninstalling llvmlite-0.34.0:\n",
            "      Successfully uninstalled llvmlite-0.34.0\n",
            "  Found existing installation: numba 0.51.2\n",
            "    Uninstalling numba-0.51.2:\n",
            "      Successfully uninstalled numba-0.51.2\n",
            "  Found existing installation: tqdm 4.41.1\n",
            "    Uninstalling tqdm-4.41.1:\n",
            "      Successfully uninstalled tqdm-4.41.1\n",
            "  Found existing installation: PyYAML 3.13\n",
            "    Uninstalling PyYAML-3.13:\n",
            "      Successfully uninstalled PyYAML-3.13\n",
            "  Found existing installation: pluggy 0.7.1\n",
            "    Uninstalling pluggy-0.7.1:\n",
            "      Successfully uninstalled pluggy-0.7.1\n",
            "  Found existing installation: pytest 3.6.4\n",
            "    Uninstalling pytest-3.6.4:\n",
            "      Successfully uninstalled pytest-3.6.4\n",
            "Successfully installed PeakUtils-1.3.3 llvmlite-0.31.0 numba-0.48.0 pluggy-0.13.1 pyloudnorm-0.1.0 pysptk-0.1.18 pytest-6.2.4 pyyaml-5.4.1 surfboard-0.2.0 tqdm-4.61.1\n"
          ],
          "name": "stdout"
        },
        {
          "output_type": "display_data",
          "data": {
            "application/vnd.colab-display-data+json": {
              "pip_warning": {
                "packages": [
                  "llvmlite",
                  "numba",
                  "tqdm",
                  "yaml"
                ]
              }
            }
          },
          "metadata": {
            "tags": []
          }
        },
        {
          "output_type": "stream",
          "text": [
            "Collecting Signal_Analysis\n",
            "\u001b[?25l  Downloading https://files.pythonhosted.org/packages/9b/77/f395f3d5a70394de295889b70551497852787e19f4cf5940fa9709151497/Signal_Analysis-0.1.26.tar.gz (378kB)\n",
            "\r\u001b[K     |▉                               | 10kB 14.9MB/s eta 0:00:01\r\u001b[K     |█▊                              | 20kB 14.2MB/s eta 0:00:01\r\u001b[K     |██▋                             | 30kB 9.8MB/s eta 0:00:01\r\u001b[K     |███▌                            | 40kB 8.6MB/s eta 0:00:01\r\u001b[K     |████▎                           | 51kB 4.4MB/s eta 0:00:01\r\u001b[K     |█████▏                          | 61kB 5.1MB/s eta 0:00:01\r\u001b[K     |██████                          | 71kB 5.2MB/s eta 0:00:01\r\u001b[K     |███████                         | 81kB 5.5MB/s eta 0:00:01\r\u001b[K     |███████▉                        | 92kB 5.6MB/s eta 0:00:01\r\u001b[K     |████████▋                       | 102kB 4.3MB/s eta 0:00:01\r\u001b[K     |█████████▌                      | 112kB 4.3MB/s eta 0:00:01\r\u001b[K     |██████████▍                     | 122kB 4.3MB/s eta 0:00:01\r\u001b[K     |███████████▎                    | 133kB 4.3MB/s eta 0:00:01\r\u001b[K     |████████████                    | 143kB 4.3MB/s eta 0:00:01\r\u001b[K     |█████████████                   | 153kB 4.3MB/s eta 0:00:01\r\u001b[K     |█████████████▉                  | 163kB 4.3MB/s eta 0:00:01\r\u001b[K     |██████████████▊                 | 174kB 4.3MB/s eta 0:00:01\r\u001b[K     |███████████████▋                | 184kB 4.3MB/s eta 0:00:01\r\u001b[K     |████████████████▍               | 194kB 4.3MB/s eta 0:00:01\r\u001b[K     |█████████████████▎              | 204kB 4.3MB/s eta 0:00:01\r\u001b[K     |██████████████████▏             | 215kB 4.3MB/s eta 0:00:01\r\u001b[K     |███████████████████             | 225kB 4.3MB/s eta 0:00:01\r\u001b[K     |████████████████████            | 235kB 4.3MB/s eta 0:00:01\r\u001b[K     |████████████████████▊           | 245kB 4.3MB/s eta 0:00:01\r\u001b[K     |█████████████████████▋          | 256kB 4.3MB/s eta 0:00:01\r\u001b[K     |██████████████████████▌         | 266kB 4.3MB/s eta 0:00:01\r\u001b[K     |███████████████████████▍        | 276kB 4.3MB/s eta 0:00:01\r\u001b[K     |████████████████████████▏       | 286kB 4.3MB/s eta 0:00:01\r\u001b[K     |█████████████████████████       | 296kB 4.3MB/s eta 0:00:01\r\u001b[K     |██████████████████████████      | 307kB 4.3MB/s eta 0:00:01\r\u001b[K     |██████████████████████████▉     | 317kB 4.3MB/s eta 0:00:01\r\u001b[K     |███████████████████████████▊    | 327kB 4.3MB/s eta 0:00:01\r\u001b[K     |████████████████████████████▌   | 337kB 4.3MB/s eta 0:00:01\r\u001b[K     |█████████████████████████████▍  | 348kB 4.3MB/s eta 0:00:01\r\u001b[K     |██████████████████████████████▎ | 358kB 4.3MB/s eta 0:00:01\r\u001b[K     |███████████████████████████████▏| 368kB 4.3MB/s eta 0:00:01\r\u001b[K     |████████████████████████████████| 378kB 4.3MB/s \n",
            "\u001b[?25hRequirement already satisfied: numpy in /usr/local/lib/python3.7/dist-packages (from Signal_Analysis) (1.19.5)\n",
            "Requirement already satisfied: peakutils in /usr/local/lib/python3.7/dist-packages (from Signal_Analysis) (1.3.3)\n",
            "Requirement already satisfied: scipy in /usr/local/lib/python3.7/dist-packages (from peakutils->Signal_Analysis) (1.4.1)\n",
            "Building wheels for collected packages: Signal-Analysis\n",
            "  Building wheel for Signal-Analysis (setup.py) ... \u001b[?25l\u001b[?25hdone\n",
            "  Created wheel for Signal-Analysis: filename=Signal_Analysis-0.1.26-cp37-none-any.whl size=14532 sha256=06fe999d60a54aeeed6a6a3a6d4b885ff30edacab20b5c1e629cf5a6db9f0b0f\n",
            "  Stored in directory: /root/.cache/pip/wheels/50/06/bb/04aa9ef50b93b5961b9817600ca1ff379f7091e63e09831655\n",
            "Successfully built Signal-Analysis\n",
            "Installing collected packages: Signal-Analysis\n",
            "Successfully installed Signal-Analysis-0.1.26\n"
          ],
          "name": "stdout"
        }
      ]
    },
    {
      "cell_type": "markdown",
      "metadata": {
        "id": "k_oRpGrMGcwK"
      },
      "source": [
        "Note: the input to the function must be in .wav format "
      ]
    },
    {
      "cell_type": "code",
      "metadata": {
        "id": "60E5l0efF0D9"
      },
      "source": [
        "def extract_features(sound_wav_file):\n",
        "\n",
        "  import Signal_Analysis.features.signal \n",
        "  import surfboard\n",
        "\n",
        "  #converting audio file into a vector and getting the sample rate\n",
        "  audio, sr = librosa.load(sound_wav_file, sr= None)\n",
        "\n",
        "  #converting our audio vector into a waveform object \n",
        "  sound = Waveform(signal= audio, sample_rate=sr)\n",
        "\n",
        "  features = []\n",
        "\n",
        "  #extracting features\n",
        "  #Shimmers\n",
        "  shimmers = sound.shimmers()\n",
        "  #Jitters\n",
        "  jitters = Signal_Analysis.features.signal.get_Jitter(audio, sr)\n",
        "  #HNR \n",
        "  HNR_value = Signal_Analysis.features.signal.get_HNR(audio, sr, time_step=0, min_pitch=75, silence_threshold=0.1, periods_per_window=4.5) \n",
        "  #DFA(1024 is the default window_length)\n",
        "  dfa_feature = surfboard.dfa.get_dfa(audio, [1024])\n",
        "  #Fundamental Mean Frequency \n",
        "  F_0 = Signal_Analysis.features.signal.get_F_0(audio, sr, time_step=0, min_pitch=75) \n",
        "\n",
        "\n",
        "  features.append(shimmers)\n",
        "  features.append(jitters)\n",
        "  features.append(HNR_value)\n",
        "  features.append(dfa_feature)\n",
        "  features.append(F_0[0])\n",
        "\n",
        "\n",
        "  return features "
      ],
      "execution_count": null,
      "outputs": []
    },
    {
      "cell_type": "code",
      "metadata": {
        "colab": {
          "base_uri": "https://localhost:8080/"
        },
        "id": "W442umLfH0rs",
        "outputId": "7bd24d60-3c58-4899-c84b-99ca3b5421d9"
      },
      "source": [
        "features = extract_features('SPA2019_Pathology_008.wav')"
      ],
      "execution_count": null,
      "outputs": [
        {
          "output_type": "stream",
          "text": [
            "<class 'numpy.float64'> \n",
            "\n"
          ],
          "name": "stdout"
        },
        {
          "output_type": "stream",
          "text": [
            "/usr/local/lib/python3.7/dist-packages/ipykernel_launcher.py:22: RankWarning: Polyfit may be poorly conditioned\n"
          ],
          "name": "stderr"
        },
        {
          "output_type": "stream",
          "text": [
            "<class 'numpy.float64'> \n",
            "\n"
          ],
          "name": "stdout"
        }
      ]
    },
    {
      "cell_type": "code",
      "metadata": {
        "colab": {
          "base_uri": "https://localhost:8080/"
        },
        "id": "LGzkWOLrIX_I",
        "outputId": "ba189ebb-c197-4450-c22a-b6c33349de06"
      },
      "source": [
        "print(features)"
      ],
      "execution_count": null,
      "outputs": [
        {
          "output_type": "stream",
          "text": [
            "[{'localShimmer': 0.031374544978488184, 'localdbShimmer': 0.2905283651613699, 'apq3Shimmer': 0.01712417587386974, 'apq5Shimmer': 0.026710235316557106, 'apq11Shimmer': 0.04715150541554222}, {'local': 0.013933561794690907, 'local, absolute': 9.878224061661178e-05, 'rap': 0.008209612015453824, 'ppq5': 0.007942359891278977, 'ddp': 0.02462883604636147}, 12.682138693790627, 0.23932718393530703, 140.6549520766773]\n"
          ],
          "name": "stdout"
        }
      ]
    }
  ]
}