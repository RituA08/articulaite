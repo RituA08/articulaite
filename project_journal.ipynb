{
  "nbformat": 4,
  "nbformat_minor": 0,
  "metadata": {
    "colab": {
      "name": "project_journal.ipynb",
      "provenance": [],
      "collapsed_sections": [],
      "authorship_tag": "ABX9TyOJ9kMVX/XzjYFyh7xKnNK9",
      "include_colab_link": true
    },
    "kernelspec": {
      "name": "python3",
      "display_name": "Python 3"
    },
    "language_info": {
      "name": "python"
    },
    "widgets": {
      "application/vnd.jupyter.widget-state+json": {
        "3fe44ac57daa496ab3cfb193c6cb05a3": {
          "model_module": "@jupyter-widgets/controls",
          "model_name": "VBoxModel",
          "state": {
            "_view_name": "VBoxView",
            "_dom_classes": [
              "widget-interact"
            ],
            "_model_name": "VBoxModel",
            "_view_module": "@jupyter-widgets/controls",
            "_model_module_version": "1.5.0",
            "_view_count": null,
            "_view_module_version": "1.5.0",
            "box_style": "",
            "layout": "IPY_MODEL_db1e8688364b482e8b39a93edd850adf",
            "_model_module": "@jupyter-widgets/controls",
            "children": [
              "IPY_MODEL_56dd149e1096467797da3e264bd7832d",
              "IPY_MODEL_bfae18cdf75a48f9b2302ce710da23bf",
              "IPY_MODEL_89dcc23313e84cf48a076bbf6e6847c5",
              "IPY_MODEL_95a995aad48d4bfaa8cddf87397deb67"
            ]
          }
        },
        "db1e8688364b482e8b39a93edd850adf": {
          "model_module": "@jupyter-widgets/base",
          "model_name": "LayoutModel",
          "state": {
            "_view_name": "LayoutView",
            "grid_template_rows": null,
            "right": null,
            "justify_content": null,
            "_view_module": "@jupyter-widgets/base",
            "overflow": null,
            "_model_module_version": "1.2.0",
            "_view_count": null,
            "flex_flow": null,
            "width": null,
            "min_width": null,
            "border": null,
            "align_items": null,
            "bottom": null,
            "_model_module": "@jupyter-widgets/base",
            "top": null,
            "grid_column": null,
            "overflow_y": null,
            "overflow_x": null,
            "grid_auto_flow": null,
            "grid_area": null,
            "grid_template_columns": null,
            "flex": null,
            "_model_name": "LayoutModel",
            "justify_items": null,
            "grid_row": null,
            "max_height": null,
            "align_content": null,
            "visibility": null,
            "align_self": null,
            "height": null,
            "min_height": null,
            "padding": null,
            "grid_auto_rows": null,
            "grid_gap": null,
            "max_width": null,
            "order": null,
            "_view_module_version": "1.2.0",
            "grid_template_areas": null,
            "object_position": null,
            "object_fit": null,
            "grid_auto_columns": null,
            "margin": null,
            "display": null,
            "left": null
          }
        },
        "56dd149e1096467797da3e264bd7832d": {
          "model_module": "@jupyter-widgets/controls",
          "model_name": "DropdownModel",
          "state": {
            "_options_labels": [
              "MDVP:Jitter(%)",
              "MDVP:Jitter(Abs)",
              "Jitter:PPQ5",
              "Jitter:DDP",
              "MDVP:Shimmer",
              "MDVP:Shimmer(dB)",
              "Shimmer:APQ3",
              "Shimmer:APQ5",
              "Shimmer:APQ11",
              "DFA"
            ],
            "_view_name": "DropdownView",
            "style": "IPY_MODEL_126913f8d7fc42309bcf10b12f5fa1ff",
            "_dom_classes": [],
            "description": "Feature:",
            "_model_name": "DropdownModel",
            "index": 0,
            "_view_module": "@jupyter-widgets/controls",
            "_model_module_version": "1.5.0",
            "_view_count": null,
            "disabled": false,
            "_view_module_version": "1.5.0",
            "description_tooltip": null,
            "_model_module": "@jupyter-widgets/controls",
            "layout": "IPY_MODEL_93a21f6d38b54e6892ad7c742d0d038f"
          }
        },
        "bfae18cdf75a48f9b2302ce710da23bf": {
          "model_module": "@jupyter-widgets/controls",
          "model_name": "DropdownModel",
          "state": {
            "_options_labels": [
              "Parkinsons",
              "ALS",
              "Cerebral_palsy"
            ],
            "_view_name": "DropdownView",
            "style": "IPY_MODEL_76027014e3704b618fecf9837a4d81c8",
            "_dom_classes": [],
            "description": "Condition:",
            "_model_name": "DropdownModel",
            "index": 0,
            "_view_module": "@jupyter-widgets/controls",
            "_model_module_version": "1.5.0",
            "_view_count": null,
            "disabled": false,
            "_view_module_version": "1.5.0",
            "description_tooltip": null,
            "_model_module": "@jupyter-widgets/controls",
            "layout": "IPY_MODEL_88271144791b4bfe82f58dd905b5f5b3"
          }
        },
        "89dcc23313e84cf48a076bbf6e6847c5": {
          "model_module": "@jupyter-widgets/controls",
          "model_name": "ButtonModel",
          "state": {
            "_view_name": "ButtonView",
            "style": "IPY_MODEL_547971991a394c298c99c81290c25f1d",
            "_dom_classes": [],
            "description": "Run Interact",
            "_model_name": "ButtonModel",
            "button_style": "",
            "_view_module": "@jupyter-widgets/controls",
            "_model_module_version": "1.5.0",
            "tooltip": "",
            "_view_count": null,
            "disabled": false,
            "_view_module_version": "1.5.0",
            "layout": "IPY_MODEL_592d9d56e98747658ddf1460913fa2f4",
            "_model_module": "@jupyter-widgets/controls",
            "icon": ""
          }
        },
        "95a995aad48d4bfaa8cddf87397deb67": {
          "model_module": "@jupyter-widgets/output",
          "model_name": "OutputModel",
          "state": {
            "_view_name": "OutputView",
            "msg_id": "",
            "_dom_classes": [],
            "_model_name": "OutputModel",
            "outputs": [
              {
                "output_type": "display_data",
                "metadata": {
                  "tags": [],
                  "needs_background": "light"
                },
                "image/png": "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\n",
                "text/plain": "<Figure size 432x288 with 1 Axes>"
              },
              {
                "output_type": "stream",
                "metadata": {
                  "tags": []
                },
                "text": "There are 2230 men and 4476 women in this dataset who have Parkinsons\nThere are 142 men and 243 women in the healthy controls group\n",
                "stream": "stdout"
              }
            ],
            "_view_module": "@jupyter-widgets/output",
            "_model_module_version": "1.0.0",
            "_view_count": null,
            "_view_module_version": "1.0.0",
            "layout": "IPY_MODEL_e643ae0cec7f4eac885bd836bb5bc50a",
            "_model_module": "@jupyter-widgets/output"
          }
        },
        "126913f8d7fc42309bcf10b12f5fa1ff": {
          "model_module": "@jupyter-widgets/controls",
          "model_name": "DescriptionStyleModel",
          "state": {
            "_view_name": "StyleView",
            "_model_name": "DescriptionStyleModel",
            "description_width": "",
            "_view_module": "@jupyter-widgets/base",
            "_model_module_version": "1.5.0",
            "_view_count": null,
            "_view_module_version": "1.2.0",
            "_model_module": "@jupyter-widgets/controls"
          }
        },
        "93a21f6d38b54e6892ad7c742d0d038f": {
          "model_module": "@jupyter-widgets/base",
          "model_name": "LayoutModel",
          "state": {
            "_view_name": "LayoutView",
            "grid_template_rows": null,
            "right": null,
            "justify_content": null,
            "_view_module": "@jupyter-widgets/base",
            "overflow": null,
            "_model_module_version": "1.2.0",
            "_view_count": null,
            "flex_flow": null,
            "width": null,
            "min_width": null,
            "border": null,
            "align_items": null,
            "bottom": null,
            "_model_module": "@jupyter-widgets/base",
            "top": null,
            "grid_column": null,
            "overflow_y": null,
            "overflow_x": null,
            "grid_auto_flow": null,
            "grid_area": null,
            "grid_template_columns": null,
            "flex": null,
            "_model_name": "LayoutModel",
            "justify_items": null,
            "grid_row": null,
            "max_height": null,
            "align_content": null,
            "visibility": null,
            "align_self": null,
            "height": null,
            "min_height": null,
            "padding": null,
            "grid_auto_rows": null,
            "grid_gap": null,
            "max_width": null,
            "order": null,
            "_view_module_version": "1.2.0",
            "grid_template_areas": null,
            "object_position": null,
            "object_fit": null,
            "grid_auto_columns": null,
            "margin": null,
            "display": null,
            "left": null
          }
        },
        "76027014e3704b618fecf9837a4d81c8": {
          "model_module": "@jupyter-widgets/controls",
          "model_name": "DescriptionStyleModel",
          "state": {
            "_view_name": "StyleView",
            "_model_name": "DescriptionStyleModel",
            "description_width": "",
            "_view_module": "@jupyter-widgets/base",
            "_model_module_version": "1.5.0",
            "_view_count": null,
            "_view_module_version": "1.2.0",
            "_model_module": "@jupyter-widgets/controls"
          }
        },
        "88271144791b4bfe82f58dd905b5f5b3": {
          "model_module": "@jupyter-widgets/base",
          "model_name": "LayoutModel",
          "state": {
            "_view_name": "LayoutView",
            "grid_template_rows": null,
            "right": null,
            "justify_content": null,
            "_view_module": "@jupyter-widgets/base",
            "overflow": null,
            "_model_module_version": "1.2.0",
            "_view_count": null,
            "flex_flow": null,
            "width": null,
            "min_width": null,
            "border": null,
            "align_items": null,
            "bottom": null,
            "_model_module": "@jupyter-widgets/base",
            "top": null,
            "grid_column": null,
            "overflow_y": null,
            "overflow_x": null,
            "grid_auto_flow": null,
            "grid_area": null,
            "grid_template_columns": null,
            "flex": null,
            "_model_name": "LayoutModel",
            "justify_items": null,
            "grid_row": null,
            "max_height": null,
            "align_content": null,
            "visibility": null,
            "align_self": null,
            "height": null,
            "min_height": null,
            "padding": null,
            "grid_auto_rows": null,
            "grid_gap": null,
            "max_width": null,
            "order": null,
            "_view_module_version": "1.2.0",
            "grid_template_areas": null,
            "object_position": null,
            "object_fit": null,
            "grid_auto_columns": null,
            "margin": null,
            "display": null,
            "left": null
          }
        },
        "547971991a394c298c99c81290c25f1d": {
          "model_module": "@jupyter-widgets/controls",
          "model_name": "ButtonStyleModel",
          "state": {
            "_view_name": "StyleView",
            "_model_name": "ButtonStyleModel",
            "_view_module": "@jupyter-widgets/base",
            "_model_module_version": "1.5.0",
            "_view_count": null,
            "button_color": null,
            "font_weight": "",
            "_view_module_version": "1.2.0",
            "_model_module": "@jupyter-widgets/controls"
          }
        },
        "592d9d56e98747658ddf1460913fa2f4": {
          "model_module": "@jupyter-widgets/base",
          "model_name": "LayoutModel",
          "state": {
            "_view_name": "LayoutView",
            "grid_template_rows": null,
            "right": null,
            "justify_content": null,
            "_view_module": "@jupyter-widgets/base",
            "overflow": null,
            "_model_module_version": "1.2.0",
            "_view_count": null,
            "flex_flow": null,
            "width": null,
            "min_width": null,
            "border": null,
            "align_items": null,
            "bottom": null,
            "_model_module": "@jupyter-widgets/base",
            "top": null,
            "grid_column": null,
            "overflow_y": null,
            "overflow_x": null,
            "grid_auto_flow": null,
            "grid_area": null,
            "grid_template_columns": null,
            "flex": null,
            "_model_name": "LayoutModel",
            "justify_items": null,
            "grid_row": null,
            "max_height": null,
            "align_content": null,
            "visibility": null,
            "align_self": null,
            "height": null,
            "min_height": null,
            "padding": null,
            "grid_auto_rows": null,
            "grid_gap": null,
            "max_width": null,
            "order": null,
            "_view_module_version": "1.2.0",
            "grid_template_areas": null,
            "object_position": null,
            "object_fit": null,
            "grid_auto_columns": null,
            "margin": null,
            "display": null,
            "left": null
          }
        },
        "e643ae0cec7f4eac885bd836bb5bc50a": {
          "model_module": "@jupyter-widgets/base",
          "model_name": "LayoutModel",
          "state": {
            "_view_name": "LayoutView",
            "grid_template_rows": null,
            "right": null,
            "justify_content": null,
            "_view_module": "@jupyter-widgets/base",
            "overflow": null,
            "_model_module_version": "1.2.0",
            "_view_count": null,
            "flex_flow": null,
            "width": null,
            "min_width": null,
            "border": null,
            "align_items": null,
            "bottom": null,
            "_model_module": "@jupyter-widgets/base",
            "top": null,
            "grid_column": null,
            "overflow_y": null,
            "overflow_x": null,
            "grid_auto_flow": null,
            "grid_area": null,
            "grid_template_columns": null,
            "flex": null,
            "_model_name": "LayoutModel",
            "justify_items": null,
            "grid_row": null,
            "max_height": null,
            "align_content": null,
            "visibility": null,
            "align_self": null,
            "height": null,
            "min_height": null,
            "padding": null,
            "grid_auto_rows": null,
            "grid_gap": null,
            "max_width": null,
            "order": null,
            "_view_module_version": "1.2.0",
            "grid_template_areas": null,
            "object_position": null,
            "object_fit": null,
            "grid_auto_columns": null,
            "margin": null,
            "display": null,
            "left": null
          }
        }
      }
    }
  },
  "cells": [
    {
      "cell_type": "markdown",
      "metadata": {
        "id": "view-in-github",
        "colab_type": "text"
      },
      "source": [
        "<a href=\"https://colab.research.google.com/github/cpappas18/articulaite/blob/main/project_journal.ipynb\" target=\"_parent\"><img src=\"https://colab.research.google.com/assets/colab-badge.svg\" alt=\"Open In Colab\"/></a>"
      ]
    },
    {
      "cell_type": "markdown",
      "metadata": {
        "id": "Fmw55QpqmpDa"
      },
      "source": [
        "# About the dataset\n",
        "\n",
        "We aggregated a few datasets found online into a dataset for **Parkinsons** and a dataset for **Parkinsons, ALS, and cerebral palsy**. We cleaned them and ended up with 2 versions of each : one with the NaN rows **removed**, and one where we replaced them with the **medians**. \n",
        "\n",
        "Let's explore the dataset we trained our final model on :"
      ]
    },
    {
      "cell_type": "code",
      "metadata": {
        "id": "RvSy4mk4hubU"
      },
      "source": [
        "# import libraries\n",
        "import matplotlib.pyplot as plt\n",
        "import numpy as np\n",
        "import seaborn as sns\n",
        "import pandas as pd\n",
        "\n",
        "import ipywidgets as widgets\n",
        "from ipywidgets import interact, interact_manual\n",
        "\n",
        "import warnings\n",
        "warnings.filterwarnings(\"ignore\", category=np.VisibleDeprecationWarning) "
      ],
      "execution_count": null,
      "outputs": []
    },
    {
      "cell_type": "code",
      "metadata": {
        "colab": {
          "base_uri": "https://localhost:8080/",
          "height": 226
        },
        "id": "6mJ3ANgDpBW5",
        "outputId": "915a8644-bdbd-4a44-fd28-f37d3c04b14a"
      },
      "source": [
        "df = pd.read_csv('/content/all_disorders_median_std_onehot.csv')\n",
        "df = df.iloc[:, 1:]\n",
        "\n",
        "# taking a peek\n",
        "df.head()"
      ],
      "execution_count": null,
      "outputs": [
        {
          "output_type": "execute_result",
          "data": {
            "text/html": [
              "<div>\n",
              "<style scoped>\n",
              "    .dataframe tbody tr th:only-of-type {\n",
              "        vertical-align: middle;\n",
              "    }\n",
              "\n",
              "    .dataframe tbody tr th {\n",
              "        vertical-align: top;\n",
              "    }\n",
              "\n",
              "    .dataframe thead th {\n",
              "        text-align: right;\n",
              "    }\n",
              "</style>\n",
              "<table border=\"1\" class=\"dataframe\">\n",
              "  <thead>\n",
              "    <tr style=\"text-align: right;\">\n",
              "      <th></th>\n",
              "      <th>Control</th>\n",
              "      <th>Parkinsons</th>\n",
              "      <th>ALS</th>\n",
              "      <th>Cerebral_palsy</th>\n",
              "      <th>Gender</th>\n",
              "      <th>MDVP:Jitter(%)</th>\n",
              "      <th>MDVP:Jitter(Abs)</th>\n",
              "      <th>Jitter:PPQ5</th>\n",
              "      <th>Jitter:DDP</th>\n",
              "      <th>MDVP:Shimmer</th>\n",
              "      <th>MDVP:Shimmer(dB)</th>\n",
              "      <th>Shimmer:APQ3</th>\n",
              "      <th>Shimmer:APQ5</th>\n",
              "      <th>Shimmer:APQ11</th>\n",
              "      <th>DFA</th>\n",
              "    </tr>\n",
              "  </thead>\n",
              "  <tbody>\n",
              "    <tr>\n",
              "      <th>0</th>\n",
              "      <td>0</td>\n",
              "      <td>1</td>\n",
              "      <td>0</td>\n",
              "      <td>0</td>\n",
              "      <td>0.0</td>\n",
              "      <td>0.037775</td>\n",
              "      <td>0.000503</td>\n",
              "      <td>-0.011752</td>\n",
              "      <td>0.051462</td>\n",
              "      <td>0.098145</td>\n",
              "      <td>0.313568</td>\n",
              "      <td>0.047848</td>\n",
              "      <td>0.149447</td>\n",
              "      <td>-0.102311</td>\n",
              "      <td>1.560809</td>\n",
              "    </tr>\n",
              "    <tr>\n",
              "      <th>1</th>\n",
              "      <td>0</td>\n",
              "      <td>1</td>\n",
              "      <td>0</td>\n",
              "      <td>0</td>\n",
              "      <td>0.0</td>\n",
              "      <td>0.069989</td>\n",
              "      <td>0.000679</td>\n",
              "      <td>-0.011752</td>\n",
              "      <td>0.100932</td>\n",
              "      <td>0.372398</td>\n",
              "      <td>1.049795</td>\n",
              "      <td>0.209514</td>\n",
              "      <td>0.380995</td>\n",
              "      <td>-0.102311</td>\n",
              "      <td>1.602059</td>\n",
              "    </tr>\n",
              "    <tr>\n",
              "      <th>2</th>\n",
              "      <td>0</td>\n",
              "      <td>1</td>\n",
              "      <td>0</td>\n",
              "      <td>0</td>\n",
              "      <td>0.0</td>\n",
              "      <td>0.084345</td>\n",
              "      <td>0.000855</td>\n",
              "      <td>-0.011752</td>\n",
              "      <td>0.142417</td>\n",
              "      <td>0.231999</td>\n",
              "      <td>0.519712</td>\n",
              "      <td>0.145493</td>\n",
              "      <td>0.270893</td>\n",
              "      <td>-0.102311</td>\n",
              "      <td>1.658218</td>\n",
              "    </tr>\n",
              "    <tr>\n",
              "      <th>3</th>\n",
              "      <td>0</td>\n",
              "      <td>1</td>\n",
              "      <td>0</td>\n",
              "      <td>0</td>\n",
              "      <td>0.0</td>\n",
              "      <td>0.075066</td>\n",
              "      <td>0.000855</td>\n",
              "      <td>-0.011752</td>\n",
              "      <td>0.120199</td>\n",
              "      <td>0.272358</td>\n",
              "      <td>0.648551</td>\n",
              "      <td>0.173852</td>\n",
              "      <td>0.295415</td>\n",
              "      <td>-0.102311</td>\n",
              "      <td>1.599274</td>\n",
              "    </tr>\n",
              "    <tr>\n",
              "      <th>4</th>\n",
              "      <td>0</td>\n",
              "      <td>1</td>\n",
              "      <td>0</td>\n",
              "      <td>0</td>\n",
              "      <td>0.0</td>\n",
              "      <td>0.125313</td>\n",
              "      <td>0.001207</td>\n",
              "      <td>-0.011752</td>\n",
              "      <td>0.200219</td>\n",
              "      <td>0.417743</td>\n",
              "      <td>0.895187</td>\n",
              "      <td>0.269969</td>\n",
              "      <td>0.432209</td>\n",
              "      <td>-0.102311</td>\n",
              "      <td>1.640651</td>\n",
              "    </tr>\n",
              "  </tbody>\n",
              "</table>\n",
              "</div>"
            ],
            "text/plain": [
              "   Control  Parkinsons  ALS  ...  Shimmer:APQ5  Shimmer:APQ11       DFA\n",
              "0        0           1    0  ...      0.149447      -0.102311  1.560809\n",
              "1        0           1    0  ...      0.380995      -0.102311  1.602059\n",
              "2        0           1    0  ...      0.270893      -0.102311  1.658218\n",
              "3        0           1    0  ...      0.295415      -0.102311  1.599274\n",
              "4        0           1    0  ...      0.432209      -0.102311  1.640651\n",
              "\n",
              "[5 rows x 15 columns]"
            ]
          },
          "metadata": {
            "tags": []
          },
          "execution_count": 158
        }
      ]
    },
    {
      "cell_type": "code",
      "metadata": {
        "colab": {
          "base_uri": "https://localhost:8080/"
        },
        "id": "eoa1YNMtIJ7V",
        "outputId": "cf36d05d-7b41-49ff-e6da-9048e2925576"
      },
      "source": [
        "# 4 classes\n",
        "classes = list(df.columns[:4])\n",
        "classes"
      ],
      "execution_count": null,
      "outputs": [
        {
          "output_type": "execute_result",
          "data": {
            "text/plain": [
              "['Control', 'Parkinsons', 'ALS', 'Cerebral_palsy']"
            ]
          },
          "metadata": {
            "tags": []
          },
          "execution_count": 159
        }
      ]
    },
    {
      "cell_type": "code",
      "metadata": {
        "colab": {
          "base_uri": "https://localhost:8080/"
        },
        "id": "ZDfy6FLxqi5-",
        "outputId": "22569cf6-b18c-4e25-946e-dbf28ea8236f"
      },
      "source": [
        "# 11 features\n",
        "features = list(df.columns[4:])\n",
        "features"
      ],
      "execution_count": null,
      "outputs": [
        {
          "output_type": "execute_result",
          "data": {
            "text/plain": [
              "['Gender',\n",
              " 'MDVP:Jitter(%)',\n",
              " 'MDVP:Jitter(Abs)',\n",
              " 'Jitter:PPQ5',\n",
              " 'Jitter:DDP',\n",
              " 'MDVP:Shimmer',\n",
              " 'MDVP:Shimmer(dB)',\n",
              " 'Shimmer:APQ3',\n",
              " 'Shimmer:APQ5',\n",
              " 'Shimmer:APQ11',\n",
              " 'DFA']"
            ]
          },
          "metadata": {
            "tags": []
          },
          "execution_count": 160
        }
      ]
    },
    {
      "cell_type": "markdown",
      "metadata": {
        "id": "vJJ6gI9RjRtx"
      },
      "source": [
        "## Comparing features by condition\n",
        "\n",
        "[Run in Colab](https://colab.research.google.com/github/cpappas18/articulaite/blob/main/project_journal.ipynb) to view interactive boxplots."
      ]
    },
    {
      "cell_type": "code",
      "metadata": {
        "id": "kDooi7yPLLLF"
      },
      "source": [
        "# splitting the dataset by health status\n",
        "control = df[df['Control']==1].reset_index().iloc[:, 1:]\n",
        "parkinsons = df[df['Parkinsons']==1].reset_index().iloc[:, 1:]\n",
        "cerebral = df[df['Cerebral_palsy']==1].reset_index().iloc[:, 1:]\n",
        "als = df[df['ALS']==1].reset_index().iloc[:, 1:]"
      ],
      "execution_count": null,
      "outputs": []
    },
    {
      "cell_type": "code",
      "metadata": {
        "colab": {
          "base_uri": "https://localhost:8080/",
          "height": 396,
          "referenced_widgets": [
            "3fe44ac57daa496ab3cfb193c6cb05a3",
            "db1e8688364b482e8b39a93edd850adf",
            "56dd149e1096467797da3e264bd7832d",
            "bfae18cdf75a48f9b2302ce710da23bf",
            "89dcc23313e84cf48a076bbf6e6847c5",
            "95a995aad48d4bfaa8cddf87397deb67",
            "126913f8d7fc42309bcf10b12f5fa1ff",
            "93a21f6d38b54e6892ad7c742d0d038f",
            "76027014e3704b618fecf9837a4d81c8",
            "88271144791b4bfe82f58dd905b5f5b3",
            "547971991a394c298c99c81290c25f1d",
            "592d9d56e98747658ddf1460913fa2f4",
            "e643ae0cec7f4eac885bd836bb5bc50a"
          ]
        },
        "id": "qQrB9bC8Pjzc",
        "outputId": "62b0449b-6f51-463c-caa1-a95a33c43f58"
      },
      "source": [
        "@interact_manual(feature=widgets.Dropdown(description='Feature:', options=features[1:]),\n",
        "                 condition=widgets.Dropdown(description='Condition:', options=classes[1:]))\n",
        "def compare_plots(feature, condition):\n",
        "  \n",
        "  if condition=='Parkinsons':\n",
        "    df = parkinsons\n",
        "  elif condition=='Cerebral_palsy':\n",
        "    df = cerebral\n",
        "  elif condition=='ALS':\n",
        "    df = als\n",
        "\n",
        "  men = df.loc[df.Gender==1.0, feature]\n",
        "  healthyM = healthy.loc[healthy.Gender==1.0, feature]\n",
        "  women = df.loc[df.Gender==0.0, feature]\n",
        "  healthyF = healthy.loc[healthy.Gender==0.0, feature]\n",
        "  data = [men, women, healthyM, healthyF]\n",
        "\n",
        "  box = plt.boxplot(data, showfliers=False, autorange=True, patch_artist=True,\n",
        "             labels=['Sick men', 'Healthy men', 'Sick women', 'Healthy women'])\n",
        "  colors = ['cornflowerblue', 'cornflowerblue', 'lightcoral', 'lightcoral']\n",
        "  for patch, color in zip(box['boxes'], colors):\n",
        "      patch.set_facecolor(color)\n",
        "  plt.axvline(2.5, color = 'black')\n",
        "  plt.show()\n",
        "  \n",
        "  print(\"There are\", len(men), \"men and\", len(women), \"women in this dataset who have\", condition)\n",
        "  print(\"There are\", len(healthyM), \"men and\", len(healthyF), \"women in the healthy controls group\")"
      ],
      "execution_count": null,
      "outputs": [
        {
          "output_type": "display_data",
          "data": {
            "application/vnd.jupyter.widget-view+json": {
              "model_id": "3fe44ac57daa496ab3cfb193c6cb05a3",
              "version_minor": 0,
              "version_major": 2
            },
            "text/plain": [
              "interactive(children=(Dropdown(description='Feature:', options=('MDVP:Jitter(%)', 'MDVP:Jitter(Abs)', 'Jitter:…"
            ]
          },
          "metadata": {
            "tags": []
          }
        }
      ]
    },
    {
      "cell_type": "markdown",
      "metadata": {
        "id": "ap-vCFy9jhgk"
      },
      "source": [
        "## Comparing correlation between features"
      ]
    },
    {
      "cell_type": "code",
      "metadata": {
        "colab": {
          "base_uri": "https://localhost:8080/",
          "height": 605
        },
        "id": "EWmAZKL-sKA3",
        "outputId": "017ddb6f-e655-4d90-8658-c29ac2565411"
      },
      "source": [
        "# correlation heatmap\n",
        "plt.figure(figsize=(15, 8))\n",
        "matrix = np.triu(df[features].corr())\n",
        "sns.heatmap(df[features].corr(), annot = True, cmap='Blues', mask=matrix)\n",
        "plt.title('Correlation map of Parkinson\\'s features')"
      ],
      "execution_count": null,
      "outputs": [
        {
          "output_type": "execute_result",
          "data": {
            "text/plain": [
              "Text(0.5, 1.0, \"Correlation map of Parkinson's features\")"
            ]
          },
          "metadata": {
            "tags": []
          },
          "execution_count": 163
        },
        {
          "output_type": "display_data",
          "data": {
            "image/png": "[encoded data removed]",
            "text/plain": [
              "<Figure size 1080x576 with 2 Axes>"
            ]
          },
          "metadata": {
            "tags": [],
            "needs_background": "light"
          }
        }
      ]
    },
    {
      "cell_type": "markdown",
      "metadata": {
        "id": "nSBOu-KhnSzV"
      },
      "source": [
        "# Picking a model\n",
        "\n",
        "We trained several machine learning models on 8 versions of our dataset:\n",
        "\n",
        "1.   PD and Healthy only **vs** PD, ALS, Cerebral palsy and Healthy\n",
        "2.   NaN removed **vs** NaN replaced by median\n",
        "3.   SMOTE-augmented version **vs** non-augmented\n",
        "\n",
        "We settled on a random forest model since it had pretty good accuracy and recall, as well as the lowest number of false negatives.\n",
        "\n",
        "\n"
      ]
    },
    {
      "cell_type": "markdown",
      "metadata": {
        "id": "DfR3MJUUExtk"
      },
      "source": [
        "Model | Accuracy | AUC | Precision | Recall | TP | FN | F1 | KCV\n",
        "-------------------|------------------|------------------|------------------|------------------|------------------|------------------|------------------|------------------\n",
        "Random forest      | 96.42% | 0.9944 | 0.960 | 0.96 | 1299 | 40 | 0.96 | 0.99\n",
        "Decision tree       | 98.33% |  |  |  | 1153 | 43 |  | 0.98\n",
        "SVM       | 93.19% |  |  |  | 1205 | 83 |  | 0.97\n",
        "Multilayer perceptron     | 93.12% |  | 0.93 | 0.93 | 1204 | 84 | 0.92 | 0.95\n",
        "KNN       | 92.92% | 0.9960 | 0.840 | 0.96 | 1796 | 136 |  | 0.97"
      ]
    },
    {
      "cell_type": "markdown",
      "metadata": {
        "id": "6vPHfGQWHg4G"
      },
      "source": [
        "# User interface prototype\n",
        "\n",
        "Add all of Kamun's app screenshots here"
      ]
    },
    {
      "cell_type": "markdown",
      "metadata": {
        "id": "p6Hl8XheHtqQ"
      },
      "source": [
        ""
      ]
    }
  ]
}