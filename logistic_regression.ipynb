{
  "nbformat": 4,
  "nbformat_minor": 0,
  "metadata": {
    "colab": {
      "name": "logistic_regression",
      "provenance": [],
      "collapsed_sections": []
    },
    "kernelspec": {
      "name": "python3",
      "display_name": "Python 3"
    },
    "language_info": {
      "name": "python"
    }
  },
  "cells": [
    {
      "cell_type": "code",
      "metadata": {
        "id": "6anBneHqT1vD"
      },
      "source": [
        "import matplotlib.pyplot as plt\n",
        "import numpy as np\n",
        "import pandas as pd"
      ],
      "execution_count": 43,
      "outputs": []
    },
    {
      "cell_type": "code",
      "metadata": {
        "colab": {
          "base_uri": "https://localhost:8080/",
          "height": 226
        },
        "id": "ED5aTykKT_rb",
        "outputId": "06988de6-e12e-4243-d728-3d3fd07e05b5"
      },
      "source": [
        "# url is to the RAW csv file on my github for convenience\n",
        "url = 'https://raw.githubusercontent.com/nadiaenh/Dysarthria-Classifier/main/PD_remove_Nadia_update.csv?token=ASKTKFRHIMG6N54VCBV6ZMLAX3M5G'\n",
        "df = pd.read_csv(url)\n",
        "df.head()"
      ],
      "execution_count": 110,
      "outputs": [
        {
          "output_type": "execute_result",
          "data": {
            "text/html": [
              "<div>\n",
              "<style scoped>\n",
              "    .dataframe tbody tr th:only-of-type {\n",
              "        vertical-align: middle;\n",
              "    }\n",
              "\n",
              "    .dataframe tbody tr th {\n",
              "        vertical-align: top;\n",
              "    }\n",
              "\n",
              "    .dataframe thead th {\n",
              "        text-align: right;\n",
              "    }\n",
              "</style>\n",
              "<table border=\"1\" class=\"dataframe\">\n",
              "  <thead>\n",
              "    <tr style=\"text-align: right;\">\n",
              "      <th></th>\n",
              "      <th>Status</th>\n",
              "      <th>Gender</th>\n",
              "      <th>MDVP:Jitter(%)</th>\n",
              "      <th>MDVP:Jitter(Abs)</th>\n",
              "      <th>Jitter:PPQ5</th>\n",
              "      <th>Jitter:DDP</th>\n",
              "      <th>MDVP:Shimmer</th>\n",
              "      <th>MDVP:Shimmer(dB)</th>\n",
              "      <th>Shimmer:APQ3</th>\n",
              "      <th>Shimmer:APQ5</th>\n",
              "      <th>Shimmer:APQ11</th>\n",
              "      <th>Shimmer:DDA</th>\n",
              "      <th>RPDE</th>\n",
              "      <th>DFA</th>\n",
              "      <th>PPE</th>\n",
              "    </tr>\n",
              "  </thead>\n",
              "  <tbody>\n",
              "    <tr>\n",
              "      <th>0</th>\n",
              "      <td>1</td>\n",
              "      <td>0</td>\n",
              "      <td>0.064241</td>\n",
              "      <td>0.074399</td>\n",
              "      <td>0.044886</td>\n",
              "      <td>0.069475</td>\n",
              "      <td>0.085062</td>\n",
              "      <td>0.097701</td>\n",
              "      <td>0.079287</td>\n",
              "      <td>0.056436</td>\n",
              "      <td>0.058637</td>\n",
              "      <td>0.079267</td>\n",
              "      <td>0.328638</td>\n",
              "      <td>0.097793</td>\n",
              "      <td>0.155900</td>\n",
              "    </tr>\n",
              "    <tr>\n",
              "      <th>1</th>\n",
              "      <td>1</td>\n",
              "      <td>0</td>\n",
              "      <td>0.027962</td>\n",
              "      <td>0.036188</td>\n",
              "      <td>0.020860</td>\n",
              "      <td>0.022598</td>\n",
              "      <td>0.064691</td>\n",
              "      <td>0.073276</td>\n",
              "      <td>0.051720</td>\n",
              "      <td>0.044440</td>\n",
              "      <td>0.059611</td>\n",
              "      <td>0.051699</td>\n",
              "      <td>0.348330</td>\n",
              "      <td>0.144300</td>\n",
              "      <td>0.097233</td>\n",
              "    </tr>\n",
              "    <tr>\n",
              "      <th>2</th>\n",
              "      <td>1</td>\n",
              "      <td>0</td>\n",
              "      <td>0.046101</td>\n",
              "      <td>0.053720</td>\n",
              "      <td>0.029204</td>\n",
              "      <td>0.035404</td>\n",
              "      <td>0.051549</td>\n",
              "      <td>0.074234</td>\n",
              "      <td>0.035577</td>\n",
              "      <td>0.032900</td>\n",
              "      <td>0.051276</td>\n",
              "      <td>0.035556</td>\n",
              "      <td>0.381812</td>\n",
              "      <td>0.085362</td>\n",
              "      <td>0.212444</td>\n",
              "    </tr>\n",
              "    <tr>\n",
              "      <th>3</th>\n",
              "      <td>1</td>\n",
              "      <td>0</td>\n",
              "      <td>0.050812</td>\n",
              "      <td>0.058215</td>\n",
              "      <td>0.037261</td>\n",
              "      <td>0.032912</td>\n",
              "      <td>0.075423</td>\n",
              "      <td>0.144157</td>\n",
              "      <td>0.058674</td>\n",
              "      <td>0.054209</td>\n",
              "      <td>0.069498</td>\n",
              "      <td>0.058632</td>\n",
              "      <td>0.412583</td>\n",
              "      <td>0.181761</td>\n",
              "      <td>0.350903</td>\n",
              "    </tr>\n",
              "    <tr>\n",
              "      <th>4</th>\n",
              "      <td>1</td>\n",
              "      <td>0</td>\n",
              "      <td>0.031469</td>\n",
              "      <td>0.043605</td>\n",
              "      <td>0.017983</td>\n",
              "      <td>0.015819</td>\n",
              "      <td>0.052604</td>\n",
              "      <td>0.071839</td>\n",
              "      <td>0.032162</td>\n",
              "      <td>0.037202</td>\n",
              "      <td>0.064302</td>\n",
              "      <td>0.032121</td>\n",
              "      <td>0.393664</td>\n",
              "      <td>0.134202</td>\n",
              "      <td>0.193781</td>\n",
              "    </tr>\n",
              "  </tbody>\n",
              "</table>\n",
              "</div>"
            ],
            "text/plain": [
              "   Status  Gender  MDVP:Jitter(%)  ...      RPDE       DFA       PPE\n",
              "0       1       0        0.064241  ...  0.328638  0.097793  0.155900\n",
              "1       1       0        0.027962  ...  0.348330  0.144300  0.097233\n",
              "2       1       0        0.046101  ...  0.381812  0.085362  0.212444\n",
              "3       1       0        0.050812  ...  0.412583  0.181761  0.350903\n",
              "4       1       0        0.031469  ...  0.393664  0.134202  0.193781\n",
              "\n",
              "[5 rows x 15 columns]"
            ]
          },
          "metadata": {
            "tags": []
          },
          "execution_count": 110
        }
      ]
    },
    {
      "cell_type": "code",
      "metadata": {
        "colab": {
          "base_uri": "https://localhost:8080/"
        },
        "id": "OeE2u85uVPKM",
        "outputId": "0358c6bf-6275-45c0-b5ee-7b63a7d09860"
      },
      "source": [
        "# fitting the LogReg model\n",
        "from sklearn.linear_model import LogisticRegression\n",
        "from sklearn.model_selection import train_test_split\n",
        "\n",
        "X = df.iloc[:,1:]\n",
        "y = df.iloc[:,0]\n",
        "\n",
        "X_train, X_test, y_train, y_test = train_test_split(X, y)\n",
        "logReg = LogisticRegression(solver='lbfgs')\n",
        "logReg.fit(X_train, y_train)"
      ],
      "execution_count": 111,
      "outputs": [
        {
          "output_type": "execute_result",
          "data": {
            "text/plain": [
              "LogisticRegression(C=1.0, class_weight=None, dual=False, fit_intercept=True,\n",
              "                   intercept_scaling=1, l1_ratio=None, max_iter=100,\n",
              "                   multi_class='auto', n_jobs=None, penalty='l2',\n",
              "                   random_state=None, solver='lbfgs', tol=0.0001, verbose=0,\n",
              "                   warm_start=False)"
            ]
          },
          "metadata": {
            "tags": []
          },
          "execution_count": 111
        }
      ]
    },
    {
      "cell_type": "code",
      "metadata": {
        "id": "lXn1ohjdXKth"
      },
      "source": [
        "# predicting the test set \n",
        "y_pred = logReg.predict(X_test)"
      ],
      "execution_count": 112,
      "outputs": []
    },
    {
      "cell_type": "code",
      "metadata": {
        "colab": {
          "base_uri": "https://localhost:8080/"
        },
        "id": "6yHhAt5_XbHB",
        "outputId": "b1c1a06a-d288-41b6-efcd-a10b3a22b9ec"
      },
      "source": [
        "# performance metrics : confusion matrix \n",
        "from sklearn.metrics import confusion_matrix\n",
        "matrix = confusion_matrix(y_test, y_pred) # [TN, FN], [TP, FP]\n",
        "matrix\n",
        "# added metrics on this are coming soon :\n",
        "# results = (matrix[0][0] + matrix[1][0]) / df.row \n",
        "# print(\"Accuracy: %.3f\" % (results))"
      ],
      "execution_count": 114,
      "outputs": [
        {
          "output_type": "execute_result",
          "data": {
            "text/plain": [
              "array([[   7,   45],\n",
              "       [   3, 1603]])"
            ]
          },
          "metadata": {
            "tags": []
          },
          "execution_count": 114
        }
      ]
    },
    {
      "cell_type": "code",
      "metadata": {
        "colab": {
          "base_uri": "https://localhost:8080/"
        },
        "id": "zmvjj4OqZxvp",
        "outputId": "fec85afa-d3ae-42bf-daf1-91d13580beee"
      },
      "source": [
        "# performance metrics : kfolds cross validation (closer to 100 is better)\n",
        "from sklearn import model_selection\n",
        "for k in range(2,30,4):\n",
        "  kfold = model_selection.KFold(n_splits=k, shuffle=True)\n",
        "  results = model_selection.cross_val_score(logReg, X, y, cv=kfold, scoring='accuracy')\n",
        "  print(\"Accuracy: %.3f (%.f)\" % (results.mean(), k))"
      ],
      "execution_count": 115,
      "outputs": [
        {
          "output_type": "stream",
          "text": [
            "Accuracy: 0.972 (2)\n",
            "Accuracy: 0.973 (6)\n",
            "Accuracy: 0.973 (10)\n",
            "Accuracy: 0.973 (14)\n",
            "Accuracy: 0.973 (18)\n",
            "Accuracy: 0.974 (22)\n",
            "Accuracy: 0.973 (26)\n"
          ],
          "name": "stdout"
        }
      ]
    },
    {
      "cell_type": "code",
      "metadata": {
        "colab": {
          "base_uri": "https://localhost:8080/"
        },
        "id": "OFOmw9DYc-oG",
        "outputId": "2b6d2224-b72a-431e-f320-936f03032679"
      },
      "source": [
        "# performance metrics : log loss (closer to 0 is better)\n",
        "for k in range(2,30,4):\n",
        "  kfold = model_selection.KFold(n_splits=k, shuffle=True)\n",
        "  results = model_selection.cross_val_score(logReg, X, y, cv=kfold, scoring='neg_log_loss')\n",
        "  print(\"Logloss: %.3f (%.f)\" % (results.mean(), k))"
      ],
      "execution_count": 106,
      "outputs": [
        {
          "output_type": "stream",
          "text": [
            "Logloss: -0.070 (2)\n",
            "Logloss: -0.068 (6)\n",
            "Logloss: -0.068 (10)\n",
            "Logloss: -0.068 (14)\n",
            "Logloss: -0.068 (18)\n",
            "Logloss: -0.067 (22)\n",
            "Logloss: -0.067 (26)\n"
          ],
          "name": "stdout"
        }
      ]
    },
    {
      "cell_type": "code",
      "metadata": {
        "colab": {
          "base_uri": "https://localhost:8080/"
        },
        "id": "EbxvDYZVd_I6",
        "outputId": "5e116f48-80ce-42e2-bfac-66dc39558be6"
      },
      "source": [
        "# performance metrics : area under curve (1 is perfect predictions, 0.5 is as good as random)\n",
        "for k in range(2,30,4):\n",
        "  kfold = model_selection.KFold(n_splits=k, shuffle=True)\n",
        "  results = model_selection.cross_val_score(logReg, X, y, cv=kfold, scoring='roc_auc')\n",
        "  print(\"AUC: %.3f (%.f)\" % (results.mean(), k))"
      ],
      "execution_count": 107,
      "outputs": [
        {
          "output_type": "stream",
          "text": [
            "AUC: 0.953 (2)\n",
            "AUC: 0.955 (6)\n",
            "AUC: 0.952 (10)\n",
            "AUC: 0.948 (14)\n",
            "AUC: 0.953 (18)\n",
            "AUC: 0.955 (22)\n",
            "AUC: 0.952 (26)\n"
          ],
          "name": "stdout"
        }
      ]
    },
    {
      "cell_type": "code",
      "metadata": {
        "colab": {
          "base_uri": "https://localhost:8080/"
        },
        "id": "IKAjLUY-edbi",
        "outputId": "0980a624-8fba-4dff-9554-911921a41ba6"
      },
      "source": [
        "# performance metrics : classification report\n",
        "from sklearn.metrics import classification_report\n",
        "print(classification_report(y_test, y_pred))\n",
        "\n",
        "# precision = for all instances classified positive, what percent was correct?\n",
        "# recall = for all instances that were actually positive, what percent was classified correctly?\n",
        "# f1 = weighted harmonic mean of precision and recall (1 is best, 0 is worst)\n",
        "# support = number of actual occurrences of the class in the dataset"
      ],
      "execution_count": 108,
      "outputs": [
        {
          "output_type": "stream",
          "text": [
            "              precision    recall  f1-score   support\n",
            "\n",
            "           0       0.60      0.15      0.24        41\n",
            "           1       0.98      1.00      0.99      1617\n",
            "\n",
            "    accuracy                           0.98      1658\n",
            "   macro avg       0.79      0.57      0.61      1658\n",
            "weighted avg       0.97      0.98      0.97      1658\n",
            "\n"
          ],
          "name": "stdout"
        }
      ]
    }
  ]
}