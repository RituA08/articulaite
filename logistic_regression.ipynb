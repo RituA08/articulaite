{
  "nbformat": 4,
  "nbformat_minor": 0,
  "metadata": {
    "colab": {
      "name": "logistic_regression",
      "provenance": [],
      "collapsed_sections": [],
      "authorship_tag": "ABX9TyMeE7osah1m0K6qQyh+P3/Z",
      "include_colab_link": true
    },
    "kernelspec": {
      "name": "python3",
      "display_name": "Python 3"
    },
    "language_info": {
      "name": "python"
    }
  },
  "cells": [
    {
      "cell_type": "markdown",
      "metadata": {
        "id": "view-in-github",
        "colab_type": "text"
      },
      "source": [
        "<a href=\"https://colab.research.google.com/github/nadiaenh/Dysarthria-Classifier/blob/main/logistic_regression.ipynb\" target=\"_parent\"><img src=\"https://colab.research.google.com/assets/colab-badge.svg\" alt=\"Open In Colab\"/></a>"
      ]
    },
    {
      "cell_type": "code",
      "metadata": {
        "id": "6anBneHqT1vD"
      },
      "source": [
        "import matplotlib.pyplot as plt\n",
        "import numpy as np\n",
        "import pandas as pd"
      ],
      "execution_count": 49,
      "outputs": []
    },
    {
      "cell_type": "code",
      "metadata": {
        "colab": {
          "base_uri": "https://localhost:8080/",
          "height": 226
        },
        "id": "ED5aTykKT_rb",
        "outputId": "a2182742-17cb-45c6-da2d-2b592e0dc9d2"
      },
      "source": [
        "# importing the dataset\n",
        "url = 'https://raw.githubusercontent.com/cpappas18/Dysarthria-Classifier/main/PD_remove_std_all_datasets.csv'\n",
        "df = pd.read_csv(url).iloc[: , 1:]\n",
        "df.head()"
      ],
      "execution_count": 50,
      "outputs": [
        {
          "output_type": "execute_result",
          "data": {
            "text/html": [
              "<div>\n",
              "<style scoped>\n",
              "    .dataframe tbody tr th:only-of-type {\n",
              "        vertical-align: middle;\n",
              "    }\n",
              "\n",
              "    .dataframe tbody tr th {\n",
              "        vertical-align: top;\n",
              "    }\n",
              "\n",
              "    .dataframe thead th {\n",
              "        text-align: right;\n",
              "    }\n",
              "</style>\n",
              "<table border=\"1\" class=\"dataframe\">\n",
              "  <thead>\n",
              "    <tr style=\"text-align: right;\">\n",
              "      <th></th>\n",
              "      <th>Status</th>\n",
              "      <th>Gender</th>\n",
              "      <th>MDVP:Jitter(%)</th>\n",
              "      <th>MDVP:Jitter(Abs)</th>\n",
              "      <th>Jitter:PPQ5</th>\n",
              "      <th>Jitter:DDP</th>\n",
              "      <th>MDVP:Shimmer</th>\n",
              "      <th>MDVP:Shimmer(dB)</th>\n",
              "      <th>Shimmer:APQ3</th>\n",
              "      <th>Shimmer:APQ5</th>\n",
              "      <th>Shimmer:APQ11</th>\n",
              "      <th>Shimmer:DDA</th>\n",
              "      <th>RPDE</th>\n",
              "      <th>DFA</th>\n",
              "      <th>PPE</th>\n",
              "    </tr>\n",
              "  </thead>\n",
              "  <tbody>\n",
              "    <tr>\n",
              "      <th>0</th>\n",
              "      <td>1</td>\n",
              "      <td>0.0</td>\n",
              "      <td>0.164045</td>\n",
              "      <td>-0.198870</td>\n",
              "      <td>0.037180</td>\n",
              "      <td>0.424916</td>\n",
              "      <td>-0.403364</td>\n",
              "      <td>-0.425939</td>\n",
              "      <td>-0.304550</td>\n",
              "      <td>-0.488300</td>\n",
              "      <td>-0.591434</td>\n",
              "      <td>-0.304546</td>\n",
              "      <td>-1.089248</td>\n",
              "      <td>-1.523576</td>\n",
              "      <td>-0.607840</td>\n",
              "    </tr>\n",
              "    <tr>\n",
              "      <th>1</th>\n",
              "      <td>1</td>\n",
              "      <td>0.0</td>\n",
              "      <td>-0.493719</td>\n",
              "      <td>-0.673673</td>\n",
              "      <td>-0.424084</td>\n",
              "      <td>-0.458073</td>\n",
              "      <td>-0.582269</td>\n",
              "      <td>-0.615418</td>\n",
              "      <td>-0.589891</td>\n",
              "      <td>-0.610738</td>\n",
              "      <td>-0.580061</td>\n",
              "      <td>-0.589887</td>\n",
              "      <td>-0.939335</td>\n",
              "      <td>-1.297524</td>\n",
              "      <td>-0.871965</td>\n",
              "    </tr>\n",
              "    <tr>\n",
              "      <th>2</th>\n",
              "      <td>1</td>\n",
              "      <td>0.0</td>\n",
              "      <td>-0.164837</td>\n",
              "      <td>-0.455822</td>\n",
              "      <td>-0.263885</td>\n",
              "      <td>-0.216861</td>\n",
              "      <td>-0.697682</td>\n",
              "      <td>-0.607987</td>\n",
              "      <td>-0.756982</td>\n",
              "      <td>-0.728527</td>\n",
              "      <td>-0.677369</td>\n",
              "      <td>-0.756979</td>\n",
              "      <td>-0.684436</td>\n",
              "      <td>-1.583995</td>\n",
              "      <td>-0.353272</td>\n",
              "    </tr>\n",
              "    <tr>\n",
              "      <th>3</th>\n",
              "      <td>1</td>\n",
              "      <td>0.0</td>\n",
              "      <td>-0.079437</td>\n",
              "      <td>-0.399963</td>\n",
              "      <td>-0.109209</td>\n",
              "      <td>-0.263794</td>\n",
              "      <td>-0.488022</td>\n",
              "      <td>-0.065557</td>\n",
              "      <td>-0.517913</td>\n",
              "      <td>-0.511031</td>\n",
              "      <td>-0.464639</td>\n",
              "      <td>-0.518124</td>\n",
              "      <td>-0.450179</td>\n",
              "      <td>-1.115438</td>\n",
              "      <td>0.270084</td>\n",
              "    </tr>\n",
              "    <tr>\n",
              "      <th>4</th>\n",
              "      <td>1</td>\n",
              "      <td>0.0</td>\n",
              "      <td>-0.430123</td>\n",
              "      <td>-0.581505</td>\n",
              "      <td>-0.479325</td>\n",
              "      <td>-0.585774</td>\n",
              "      <td>-0.688422</td>\n",
              "      <td>-0.626564</td>\n",
              "      <td>-0.792329</td>\n",
              "      <td>-0.684614</td>\n",
              "      <td>-0.525299</td>\n",
              "      <td>-0.792540</td>\n",
              "      <td>-0.594208</td>\n",
              "      <td>-1.346606</td>\n",
              "      <td>-0.437298</td>\n",
              "    </tr>\n",
              "  </tbody>\n",
              "</table>\n",
              "</div>"
            ],
            "text/plain": [
              "   Status  Gender  MDVP:Jitter(%)  ...      RPDE       DFA       PPE\n",
              "0       1     0.0        0.164045  ... -1.089248 -1.523576 -0.607840\n",
              "1       1     0.0       -0.493719  ... -0.939335 -1.297524 -0.871965\n",
              "2       1     0.0       -0.164837  ... -0.684436 -1.583995 -0.353272\n",
              "3       1     0.0       -0.079437  ... -0.450179 -1.115438  0.270084\n",
              "4       1     0.0       -0.430123  ... -0.594208 -1.346606 -0.437298\n",
              "\n",
              "[5 rows x 15 columns]"
            ]
          },
          "metadata": {
            "tags": []
          },
          "execution_count": 50
        }
      ]
    },
    {
      "cell_type": "code",
      "metadata": {
        "id": "tu580gTKYnxu"
      },
      "source": [
        "# balancing the dataset (50/50 control and PD)\n",
        "df = pd.concat([df[df['Status']==0], df[df['Status']==1].sample(n=(df['Status']==0).sum())])"
      ],
      "execution_count": 51,
      "outputs": []
    },
    {
      "cell_type": "code",
      "metadata": {
        "colab": {
          "base_uri": "https://localhost:8080/"
        },
        "id": "OeE2u85uVPKM",
        "outputId": "c36fd65b-f957-47a8-d6e2-a33abb540b5d"
      },
      "source": [
        "# fitting the LogReg model\n",
        "from sklearn.linear_model import LogisticRegression\n",
        "from sklearn.model_selection import train_test_split\n",
        "\n",
        "X = df.iloc[:,1:]\n",
        "y = df.iloc[:,0]\n",
        "\n",
        "X_train, X_test, y_train, y_test = train_test_split(X, y, test_size=0.2)\n",
        "logReg = LogisticRegression(solver='lbfgs')\n",
        "logReg.fit(X_train, y_train)"
      ],
      "execution_count": 52,
      "outputs": [
        {
          "output_type": "execute_result",
          "data": {
            "text/plain": [
              "LogisticRegression(C=1.0, class_weight=None, dual=False, fit_intercept=True,\n",
              "                   intercept_scaling=1, l1_ratio=None, max_iter=100,\n",
              "                   multi_class='auto', n_jobs=None, penalty='l2',\n",
              "                   random_state=None, solver='lbfgs', tol=0.0001, verbose=0,\n",
              "                   warm_start=False)"
            ]
          },
          "metadata": {
            "tags": []
          },
          "execution_count": 52
        }
      ]
    },
    {
      "cell_type": "code",
      "metadata": {
        "id": "lXn1ohjdXKth"
      },
      "source": [
        "# predicting the test set \n",
        "y_pred = logReg.predict(X_test)"
      ],
      "execution_count": 53,
      "outputs": []
    },
    {
      "cell_type": "code",
      "metadata": {
        "colab": {
          "base_uri": "https://localhost:8080/",
          "height": 295
        },
        "id": "6yHhAt5_XbHB",
        "outputId": "596ceed9-c650-4181-e24c-781b2701cf19"
      },
      "source": [
        "# confusion matrix\n",
        "from sklearn.metrics import plot_confusion_matrix\n",
        "disp = plot_confusion_matrix(logReg, X_test, y_test, display_labels=['Control', 'Parkinson'], cmap=plt.cm.Blues)\n",
        "disp.ax_.set_title(title)\n",
        "plt.show()"
      ],
      "execution_count": 84,
      "outputs": [
        {
          "output_type": "display_data",
          "data": {
            "image/png": "[encoded data removed]",
            "text/plain": [
              "<Figure size 432x288 with 2 Axes>"
            ]
          },
          "metadata": {
            "tags": [],
            "needs_background": "light"
          }
        }
      ]
    },
    {
      "cell_type": "code",
      "metadata": {
        "colab": {
          "base_uri": "https://localhost:8080/"
        },
        "id": "zmvjj4OqZxvp",
        "outputId": "eed24b3a-6212-47bd-964f-51989a6ac20f"
      },
      "source": [
        "# cross validation\n",
        "from sklearn import model_selection\n",
        "for k in range(2,30,4):\n",
        "  kfold = model_selection.KFold(n_splits=k, shuffle=True)\n",
        "  results = model_selection.cross_val_score(logReg, X_train, y_train, cv=kfold, scoring='accuracy')\n",
        "  print(\"Accuracy: %.3f (%.f)\" % (results.mean(), k))"
      ],
      "execution_count": 85,
      "outputs": [
        {
          "output_type": "stream",
          "text": [
            "Accuracy: 0.954 (2)\n",
            "Accuracy: 0.954 (6)\n",
            "Accuracy: 0.944 (10)\n",
            "Accuracy: 0.945 (14)\n",
            "Accuracy: 0.948 (18)\n",
            "Accuracy: 0.944 (22)\n",
            "Accuracy: 0.944 (26)\n"
          ],
          "name": "stdout"
        }
      ]
    },
    {
      "cell_type": "code",
      "metadata": {
        "colab": {
          "base_uri": "https://localhost:8080/"
        },
        "id": "OFOmw9DYc-oG",
        "outputId": "40f96de7-ad58-431c-8a53-56571c760790"
      },
      "source": [
        "# log loss (closer to 0 is better)\n",
        "for k in range(2,30,4):\n",
        "  kfold = model_selection.KFold(n_splits=k, shuffle=True)\n",
        "  results = model_selection.cross_val_score(logReg, X, y, cv=kfold, scoring='neg_log_loss')\n",
        "  print(\"Logloss: %.3f (%.f)\" % (results.mean(), k))"
      ],
      "execution_count": 86,
      "outputs": [
        {
          "output_type": "stream",
          "text": [
            "Logloss: -0.170 (2)\n",
            "Logloss: -0.175 (6)\n",
            "Logloss: -0.175 (10)\n",
            "Logloss: -0.176 (14)\n",
            "Logloss: -0.182 (18)\n",
            "Logloss: -0.174 (22)\n",
            "Logloss: -0.181 (26)\n"
          ],
          "name": "stdout"
        }
      ]
    },
    {
      "cell_type": "code",
      "metadata": {
        "colab": {
          "base_uri": "https://localhost:8080/"
        },
        "id": "EbxvDYZVd_I6",
        "outputId": "ef68a0f9-3f1d-4d05-9df7-abe971928ddf"
      },
      "source": [
        "# AUC (1 is perfect predictions, 0.5 is as good as random)\n",
        "for k in range(2,30,4):\n",
        "  kfold = model_selection.KFold(n_splits=k, shuffle=True)\n",
        "  results = model_selection.cross_val_score(logReg, X, y, cv=kfold, scoring='roc_auc')\n",
        "  print(\"AUC: %.3f (%.f)\" % (results.mean(), k))"
      ],
      "execution_count": 87,
      "outputs": [
        {
          "output_type": "stream",
          "text": [
            "AUC: 0.978 (2)\n",
            "AUC: 0.978 (6)\n",
            "AUC: 0.977 (10)\n",
            "AUC: 0.979 (14)\n",
            "AUC: 0.977 (18)\n",
            "AUC: 0.977 (22)\n",
            "AUC: 0.979 (26)\n"
          ],
          "name": "stdout"
        }
      ]
    },
    {
      "cell_type": "code",
      "metadata": {
        "colab": {
          "base_uri": "https://localhost:8080/"
        },
        "id": "IKAjLUY-edbi",
        "outputId": "e61aba6d-6d38-4e2f-d2c0-e7c2be8795f6"
      },
      "source": [
        "# classification report\n",
        "from sklearn.metrics import classification_report\n",
        "print(classification_report(y_test, y_pred))\n",
        "\n",
        "# precision = for all instances classified positive, what percent was correct?\n",
        "# recall = for all instances that were actually positive, what percent was classified correctly?\n",
        "# f1 = weighted harmonic mean of precision and recall (1 is best, 0 is worst)\n",
        "# support = number of actual occurrences of the class in the dataset"
      ],
      "execution_count": 88,
      "outputs": [
        {
          "output_type": "stream",
          "text": [
            "              precision    recall  f1-score   support\n",
            "\n",
            "           0       0.91      1.00      0.95        31\n",
            "           1       1.00      0.93      0.97        46\n",
            "\n",
            "    accuracy                           0.96        77\n",
            "   macro avg       0.96      0.97      0.96        77\n",
            "weighted avg       0.96      0.96      0.96        77\n",
            "\n"
          ],
          "name": "stdout"
        }
      ]
    },
    {
      "cell_type": "code",
      "metadata": {
        "id": "ptn02B4oZzxl",
        "colab": {
          "base_uri": "https://localhost:8080/",
          "height": 313
        },
        "outputId": "36f1e803-34ba-4878-98a0-292357bf76f4"
      },
      "source": [
        "# testing on the median dataset \n",
        "url = 'https://raw.githubusercontent.com/cpappas18/Dysarthria-Classifier/main/PD_median_std_all_datasets.csv'\n",
        "df_test = pd.read_csv(url).iloc[: , 1:]\n",
        "\n",
        "X_new = df_test.iloc[: , 1:]\n",
        "y_new = df_test.iloc[: , 0]\n",
        "y_new_pred = logReg.predict(X_new)\n",
        "\n",
        "print(logReg.score(X_new, y_new))\n",
        "\n",
        "disp = plot_confusion_matrix(logReg, X_new, y_new, display_labels=['Control', 'Parkinson'], cmap=plt.cm.Blues, values_format='.0f')\n",
        "disp.ax_.set_title(title)\n",
        "plt.show()"
      ],
      "execution_count": 95,
      "outputs": [
        {
          "output_type": "stream",
          "text": [
            "0.9019247098782904\n"
          ],
          "name": "stdout"
        },
        {
          "output_type": "display_data",
          "data": {
            "image/png": "[encoded data removed]",
            "text/plain": [
              "<Figure size 432x288 with 2 Axes>"
            ]
          },
          "metadata": {
            "tags": [],
            "needs_background": "light"
          }
        }
      ]
    }
  ]
}