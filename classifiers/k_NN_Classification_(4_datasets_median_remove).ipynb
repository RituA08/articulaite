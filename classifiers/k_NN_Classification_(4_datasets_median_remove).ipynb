{
  "nbformat": 4,
  "nbformat_minor": 0,
  "metadata": {
    "colab": {
      "name": "Smote_k-NN Classification (4 datasets median/remove).ipynb",
      "provenance": [],
      "collapsed_sections": [],
      "authorship_tag": "ABX9TyPFLsLCZPicmxywha6T5xWq",
      "include_colab_link": true
    },
    "kernelspec": {
      "name": "python3",
      "display_name": "Python 3"
    },
    "language_info": {
      "name": "python"
    }
  },
  "cells": [
    {
      "cell_type": "markdown",
      "metadata": {
        "id": "view-in-github",
        "colab_type": "text"
      },
      "source": [
        "<a href=\"https://colab.research.google.com/github/cpappas18/articulaite/blob/main/k_NN_Classification_(4_datasets_median_remove).ipynb\" target=\"_parent\"><img src=\"https://colab.research.google.com/assets/colab-badge.svg\" alt=\"Open In Colab\"/></a>"
      ]
    },
    {
      "cell_type": "code",
      "metadata": {
        "id": "JX33vrU7we_X"
      },
      "source": [
        "import pandas as pd\n",
        "import numpy as np\n",
        "import matplotlib.pyplot as plt\n",
        "%matplotlib inline\n",
        "import seaborn as sns\n",
        "from sklearn.neighbors import KNeighborsClassifier\n",
        "from sklearn.model_selection import train_test_split\n",
        "from sklearn.metrics import accuracy_score, confusion_matrix\n",
        "from os import system\n",
        "from collections import Counter\n",
        "from smote import smote_multiclass\n",
        "from numpy import where, random"
      ],
      "execution_count": 17,
      "outputs": []
    },
    {
      "cell_type": "code",
      "metadata": {
        "id": "3F3FqSEoxBJD"
      },
      "source": [
        "data = pd.read_csv('all_disorders_median_std.csv')\n",
        "data=data.drop(['Unnamed: 0'],axis=1)\n",
        "data2=pd.read_csv('all_disorders_remove_std.csv')\n",
        "data2=data2.drop(['Unnamed: 0'],axis=1)\n",
        "\n",
        "x = data.drop(\"Status\",axis=1)\n",
        "y = data[\"Status\"]\n",
        "\n",
        "X=data2.drop(\"Status\",axis=1)\n",
        "Y=data2[\"Status\"]"
      ],
      "execution_count": 18,
      "outputs": []
    },
    {
      "cell_type": "code",
      "metadata": {
        "id": "1KvNlKUjbv_O"
      },
      "source": [
        "'''Splitting Data for median dataset to get stratified testing set'''\n",
        "# Splitting Data into 70% Training data and 30% Testing Data:\n",
        "X_Train, X_Test, y_Train,  y_Test = train_test_split(x, y,train_size=0.7, test_size=0.3, random_state=42,stratify=y)\n",
        "'''Splitting Data for remove dataset'''\n",
        "# Splitting Data into 70% Training data and 30% Testing Data:\n",
        "X_Train2, X_Test2, y_Train2,  y_Test2 = train_test_split(X, Y,train_size=0.7, test_size=0.3, random_state=42,stratify=Y)"
      ],
      "execution_count": 19,
      "outputs": []
    },
    {
      "cell_type": "code",
      "metadata": {
        "id": "MWFUXL3had2t"
      },
      "source": [
        "#Making testing set\n",
        "testing=pd.concat([y_Test,X_Test], axis=1)\n",
        "testing2=pd.concat([y_Test2,X_Test2], axis=1)\n",
        "\n",
        "#creating the x-test and y-test\n",
        "#Median dataset\n",
        "X_test=testing.drop(\"Status\",axis=1)\n",
        "y_test=testing[\"Status\"]\n",
        "#Remove dataset\n",
        "X_test2=testing2.drop(\"Status\",axis=1)\n",
        "y_test2=testing2[\"Status\"]"
      ],
      "execution_count": 20,
      "outputs": []
    },
    {
      "cell_type": "code",
      "metadata": {
        "id": "PJDbEmzoxvYl"
      },
      "source": [
        "'''Splitting Data for median dataset for unstratified training set'''\n",
        "# Splitting Data into 70% Training data and 30% Testing Data:\n",
        "X_train, X_TEST, y_train,  y_TEST = train_test_split(x, y,train_size=0.7, test_size=0.3, random_state=42)\n",
        "\n",
        "'''Splitting Data for remove dataset'''\n",
        "# Splitting Data into 70% Training data and 30% Testing Data:\n",
        "X_train2, X_TEST2, y_train2,  y_TEST2 = train_test_split(X, Y,train_size=0.7, test_size=0.3, random_state=42)"
      ],
      "execution_count": 21,
      "outputs": []
    },
    {
      "cell_type": "code",
      "metadata": {
        "id": "1epFpi8ECS9J"
      },
      "source": [
        "#Applying smote to the training data to standardize trianing\n",
        "training=pd.concat([y_train,X_train], axis=1)\n",
        "training2=pd.concat([y_train2,X_train2], axis=1)\n",
        "training= smote_multiclass(training, num_samples_dict={0: 4500, 1: 4500, 2: 4500, 3:4500},one_hot_encoded=False)\n",
        "training2= smote_multiclass(training2, num_samples_dict={0: 4500, 1: 4500, 2: 4500, 3:4500},one_hot_encoded=False)\n",
        "#Reassigning labels\n",
        "#Median Dataset\n",
        "X_train=training.drop(\"Status\",axis=1)\n",
        "y_train = training[\"Status\"]\n",
        "#Remove Dataset\n",
        "X_train2=training2.drop(\"Status\",axis=1)\n",
        "y_train2 = training2[\"Status\"]"
      ],
      "execution_count": 28,
      "outputs": []
    },
    {
      "cell_type": "markdown",
      "metadata": {
        "id": "lGPbUH3e41g9"
      },
      "source": [
        "# K-Nearest Neighbor Classification"
      ]
    },
    {
      "cell_type": "code",
      "metadata": {
        "colab": {
          "base_uri": "https://localhost:8080/"
        },
        "id": "9D4we7an4YE-",
        "outputId": "363c536b-8045-464b-9d44-6b89225c87ce"
      },
      "source": [
        "'''k-NN for Median Dataset'''\n",
        "#k-NN\n",
        "from sklearn.neighbors import KNeighborsClassifier\n",
        "#To use the build in multilabel adabtor use:\n",
        "#from skmultilearn.adapt import MLkNN\n",
        "#knn_model= MLkNN(k=20)\n",
        "\n",
        "#fiting training data on model\n",
        "#Setup arrays to store training and test accuracies\n",
        "neighbors = np.arange(1,9)\n",
        "train_accuracy =np.empty(len(neighbors))\n",
        "test_accuracy = np.empty(len(neighbors))\n",
        "\n",
        "for i,k in enumerate(neighbors):\n",
        "    #Setup a knn classifier with k neighbors\n",
        "    knn_model = KNeighborsClassifier(n_neighbors=k)\n",
        "    \n",
        "    #Fit the model\n",
        "    knn_model.fit(X_train, y_train)\n",
        "    \n",
        "    #Compute accuracy on the training set\n",
        "    train_accuracy[i] = knn_model.score(X_train, y_train)\n",
        "    \n",
        "    #Compute accuracy on the test set\n",
        "    test_accuracy[i] = knn_model.score(X_test, y_test) \n",
        "    print(f\"Train Accuracy:\")\n",
        "    print(train_accuracy[i])\n",
        "    print(f\"Test Accuracy:\")\n",
        "    print(test_accuracy[i])\n",
        "\n",
        "#Getting Average Accuracy Score\n",
        "from statistics import mean\n",
        "def Average(l): \n",
        "    avg = mean(l) \n",
        "    return avg \n",
        "average_score_train=Average(train_accuracy)\n",
        "average_score_test=Average(test_accuracy)\n",
        "\n",
        "#prediction using K-NN\n",
        "y_pred = knn_model.predict(X_test)\n",
        "print(f\"The predictions for the data is {y_pred}\")\n",
        "\n",
        "#Looking at accuracy by counting the number of misclassified cases\n",
        "count_misclassified = (y_test != y_pred).sum()\n",
        "print('Misclassified samples in KNN: {}'.format(count_misclassified))\n",
        "\n",
        "#Mean Square Error\n",
        "from sklearn.metrics import mean_squared_error\n",
        "from math import sqrt\n",
        "train_preds = knn_model.predict(X_train)\n",
        "mse = mean_squared_error(y_train, train_preds)\n",
        "rmse1 = sqrt(mse)\n",
        "print(f\"Mean square error for training data is {rmse1}\")\n",
        "\n",
        "#evaluating the predictive performance of our model\n",
        "test_preds = knn_model.predict(X_test)\n",
        "mse = mean_squared_error(y_test, test_preds)\n",
        "rmse2 = sqrt(mse)\n",
        "print(f\"Mean square error for test data is {rmse2}\")"
      ],
      "execution_count": 29,
      "outputs": [
        {
          "output_type": "stream",
          "text": [
            "Train Accuracy:\n",
            "1.0\n",
            "Test Accuracy:\n",
            "0.9630149812734082\n",
            "Train Accuracy:\n",
            "0.9882777777777778\n",
            "Test Accuracy:\n",
            "0.9232209737827716\n",
            "Train Accuracy:\n",
            "0.9897777777777778\n",
            "Test Accuracy:\n",
            "0.9349250936329588\n",
            "Train Accuracy:\n",
            "0.9825\n",
            "Test Accuracy:\n",
            "0.9115168539325843\n",
            "Train Accuracy:\n",
            "0.9842777777777778\n",
            "Test Accuracy:\n",
            "0.9232209737827716\n",
            "Train Accuracy:\n",
            "0.9777777777777777\n",
            "Test Accuracy:\n",
            "0.898876404494382\n",
            "Train Accuracy:\n",
            "0.979\n",
            "Test Accuracy:\n",
            "0.9096441947565543\n",
            "Train Accuracy:\n",
            "0.9727222222222223\n",
            "Test Accuracy:\n",
            "0.8885767790262172\n",
            "The predictions for the data is [1 1 1 ... 1 1 1]\n",
            "Misclassified samples in KNN: 238\n",
            "Mean square error for training data is 0.17826322609494585\n",
            "Mean square error for test data is 0.3338011698208722\n"
          ],
          "name": "stdout"
        }
      ]
    },
    {
      "cell_type": "code",
      "metadata": {
        "colab": {
          "base_uri": "https://localhost:8080/"
        },
        "id": "fP3UrVmkgGQC",
        "outputId": "b54025c9-9395-4ce3-f03e-15a57404f8ff"
      },
      "source": [
        "'''k-NN for Remove Dataset'''\n",
        "#k-NN\n",
        "from sklearn.neighbors import KNeighborsClassifier\n",
        "#To use the build in multilabel adabtor use:\n",
        "#from skmultilearn.adapt import MLkNN\n",
        "#knn_model= MLkNN(k=20)\n",
        "\n",
        "#fiting training data on model\n",
        "#Setup arrays to store training and test accuracies\n",
        "neighbors2 = np.arange(1,9)\n",
        "train_accuracy2 =np.empty(len(neighbors2))\n",
        "test_accuracy2 = np.empty(len(neighbors2))\n",
        "\n",
        "for i,K in enumerate(neighbors2):\n",
        "    #Setup a knn classifier with k neighbors\n",
        "    knn_model2 = KNeighborsClassifier(n_neighbors=K)\n",
        "    \n",
        "    #Fit the model\n",
        "    knn_model2.fit(X_train2, y_train2)\n",
        "    \n",
        "    #Compute accuracy on the training set\n",
        "    train_accuracy2[i] = knn_model2.score(X_train2, y_train2)\n",
        "    \n",
        "    #Compute accuracy on the test set\n",
        "    test_accuracy2[i] = knn_model2.score(X_test2, y_test2) \n",
        "    print(f\"Train Accuracy:\")\n",
        "    print(train_accuracy2[i])\n",
        "    print(f\"Test Accuracy:\")\n",
        "    print(test_accuracy2[i])\n",
        "\n",
        "#Getting Average Accuracy Score\n",
        "average_score_train2=Average(train_accuracy2)\n",
        "average_score_test2=Average(test_accuracy2)\n",
        "\n",
        "#prediction using K-NN\n",
        "y_pred2 = knn_model2.predict(X_test2)\n",
        "print(f\"The predictions for the data is {y_pred2}\")\n",
        "\n",
        "#Looking at accuracy by counting the number of misclassified cases\n",
        "count_misclassified2 = (y_test2 != y_pred2).sum()\n",
        "print('Misclassified samples in KNN: {}'.format(count_misclassified2))\n",
        "\n",
        "#Mean Square Error\n",
        "from sklearn.metrics import mean_squared_error\n",
        "from math import sqrt\n",
        "train_preds2 = knn_model2.predict(X_train2)\n",
        "mse2 = mean_squared_error(y_train2, train_preds2)\n",
        "rmse_a = sqrt(mse2)\n",
        "print(f\"Mean square error for training data is {rmse_a}\")\n",
        "\n",
        "#evaluating the predictive performance of our model\n",
        "test_preds2 = knn_model2.predict(X_test2)\n",
        "mse2 = mean_squared_error(y_test2, test_preds2)\n",
        "rmse_b = sqrt(mse2)\n",
        "print(f\"Mean square error for test data is {rmse_b}\")"
      ],
      "execution_count": 30,
      "outputs": [
        {
          "output_type": "stream",
          "text": [
            "Train Accuracy:\n",
            "1.0\n",
            "Test Accuracy:\n",
            "0.9830508474576272\n",
            "Train Accuracy:\n",
            "0.9887777777777778\n",
            "Test Accuracy:\n",
            "0.9451645064805583\n",
            "Train Accuracy:\n",
            "0.9897222222222222\n",
            "Test Accuracy:\n",
            "0.9536390827517448\n",
            "Train Accuracy:\n",
            "0.9818888888888889\n",
            "Test Accuracy:\n",
            "0.9302093718843469\n",
            "Train Accuracy:\n",
            "0.983\n",
            "Test Accuracy:\n",
            "0.9371884346959123\n",
            "Train Accuracy:\n",
            "0.9781111111111112\n",
            "Test Accuracy:\n",
            "0.9227318045862413\n",
            "Train Accuracy:\n",
            "0.9788333333333333\n",
            "Test Accuracy:\n",
            "0.9277168494516451\n",
            "Train Accuracy:\n",
            "0.9742777777777778\n",
            "Test Accuracy:\n",
            "0.9127617148554337\n",
            "The predictions for the data is [1 1 0 ... 1 1 1]\n",
            "Misclassified samples in KNN: 175\n",
            "Mean square error for training data is 0.16414763002993507\n",
            "Mean square error for test data is 0.29788218913554976\n"
          ],
          "name": "stdout"
        }
      ]
    },
    {
      "cell_type": "markdown",
      "metadata": {
        "id": "iJR4CdTL-MFw"
      },
      "source": [
        "# Parameter Tuning & Model Evaluation"
      ]
    },
    {
      "cell_type": "code",
      "metadata": {
        "colab": {
          "base_uri": "https://localhost:8080/"
        },
        "id": "qW50wM11-UXb",
        "outputId": "38f50bc1-55bd-4a35-ff56-572b17ae32e7"
      },
      "source": [
        "'''K prediction for Median Dataset'''\n",
        "\n",
        "#Predicting the best value of k \n",
        "from sklearn.model_selection import GridSearchCV\n",
        "parameters = {\"n_neighbors\": range(1, 20)}\n",
        "gridsearch = GridSearchCV(KNeighborsClassifier(), parameters)\n",
        "gridsearch.fit(X_train, y_train)\n",
        "\n",
        "#using .best_params_ to find the best performing k\n",
        "print(f\"The best value for k is {gridsearch.best_params_}\")\n",
        "\n",
        "#Seeing how this predicted k affects the training and testing performances\n",
        "train_preds_grid = gridsearch.predict(X_train)\n",
        "train_mse = mean_squared_error(y_train, train_preds_grid)\n",
        "train_rmse = sqrt(train_mse)\n",
        "test_preds_grid = gridsearch.predict(X_test)\n",
        "test_mse = mean_squared_error(y_test, test_preds_grid)\n",
        "test_rmse = sqrt(test_mse)\n",
        "train_rmse\n",
        "\n",
        "print(f\"Mean square error for test data is {test_rmse}\")"
      ],
      "execution_count": 31,
      "outputs": [
        {
          "output_type": "stream",
          "text": [
            "The best value for k is {'n_neighbors': 1}\n",
            "Mean square error for test data is 0.19231489470811083\n"
          ],
          "name": "stdout"
        }
      ]
    },
    {
      "cell_type": "code",
      "metadata": {
        "colab": {
          "base_uri": "https://localhost:8080/"
        },
        "id": "ym8dlTkl0u5g",
        "outputId": "888c10ce-83ea-4d2a-b4cc-26afc16f5fd8"
      },
      "source": [
        "'''K prediction for Remove Dataset'''\n",
        "\n",
        "#Predicting the best value of k \n",
        "from sklearn.model_selection import GridSearchCV\n",
        "parameters = {\"n_neighbors\": range(1, 20)}\n",
        "gridsearch = GridSearchCV(KNeighborsClassifier(), parameters)\n",
        "gridsearch.fit(X_train2, y_train2)\n",
        "\n",
        "#using .best_params_ to find the best performing k\n",
        "print(f\"The best value for k is {gridsearch.best_params_}\")\n",
        "\n",
        "#Seeing how this predicted k affects the training and testing performances\n",
        "train_preds_grid2 = gridsearch.predict(X_train2)\n",
        "train_mse2 = mean_squared_error(y_train2, train_preds_grid2)\n",
        "train_rmse2 = sqrt(train_mse2)\n",
        "test_preds_grid2 = gridsearch.predict(X_test2)\n",
        "test_mse2 = mean_squared_error(y_test2, test_preds_grid2)\n",
        "test_rmse2 = sqrt(test_mse2)\n",
        "train_rmse2\n",
        "\n",
        "print(f\"Mean square error for test data is {test_rmse2}\")"
      ],
      "execution_count": 32,
      "outputs": [
        {
          "output_type": "stream",
          "text": [
            "The best value for k is {'n_neighbors': 1}\n",
            "Mean square error for test data is 0.1358111409347334\n"
          ],
          "name": "stdout"
        }
      ]
    },
    {
      "cell_type": "code",
      "metadata": {
        "colab": {
          "base_uri": "https://localhost:8080/",
          "height": 426
        },
        "id": "vv-umcME-s4o",
        "outputId": "c2f57bc9-aec4-4309-917e-ac56b94fe37a"
      },
      "source": [
        "error = []\n",
        "\n",
        "# Calculating error for K values between 1 and 40 for MEDIAN DATASET\n",
        "for i in range(1, 30):\n",
        "    knn = KNeighborsClassifier(n_neighbors=i)\n",
        "    knn.fit(X_train, y_train)\n",
        "    pred_i = knn.predict(X_test)\n",
        "    error.append(np.mean(pred_i != y_test))\n",
        "    \n",
        "# plot the error values against K values using the elbow graph method\n",
        "plt.figure(figsize=(12, 6))\n",
        "plt.plot(range(1, 30), error, color='red', linestyle='dashed', marker='o',\n",
        "         markerfacecolor='blue', markersize=10)\n",
        "plt.title('Error Rate K Value')\n",
        "plt.xlabel('K Value')\n",
        "plt.ylabel('Mean Error')"
      ],
      "execution_count": 33,
      "outputs": [
        {
          "output_type": "execute_result",
          "data": {
            "text/plain": [
              "Text(0, 0.5, 'Mean Error')"
            ]
          },
          "metadata": {
            "tags": []
          },
          "execution_count": 33
        },
        {
          "output_type": "display_data",
          "data": {
            "image/png": "[encoded data removed]",
            "text/plain": [
              "<Figure size 864x432 with 1 Axes>"
            ]
          },
          "metadata": {
            "tags": [],
            "needs_background": "light"
          }
        }
      ]
    },
    {
      "cell_type": "code",
      "metadata": {
        "colab": {
          "base_uri": "https://localhost:8080/",
          "height": 426
        },
        "id": "ARTVFu-Die5x",
        "outputId": "35da045c-04d3-4ee0-9fcb-61cf8b1d8f7e"
      },
      "source": [
        "error2 = []\n",
        "\n",
        "# Calculating error for K values between 1 and 30 for REMOVE DATASET\n",
        "for i in range(1, 30):\n",
        "    knn2 = KNeighborsClassifier(n_neighbors=i)\n",
        "    knn2.fit(X_train2, y_train2)\n",
        "    pred2_i = knn2.predict(X_test2)\n",
        "    error2.append(np.mean(pred2_i != y_test2))\n",
        "    \n",
        "# plot the error values against K values using the elbow graph method\n",
        "plt.figure(figsize=(12, 6))\n",
        "plt.plot(range(1, 30), error2, color='blue', linestyle='dashed', marker='o', markerfacecolor='red', markersize=10)\n",
        "plt.title('Error Rate K Value')\n",
        "plt.xlabel('K Value')\n",
        "plt.ylabel('Mean Error')"
      ],
      "execution_count": 34,
      "outputs": [
        {
          "output_type": "execute_result",
          "data": {
            "text/plain": [
              "Text(0, 0.5, 'Mean Error')"
            ]
          },
          "metadata": {
            "tags": []
          },
          "execution_count": 34
        },
        {
          "output_type": "display_data",
          "data": {
            "image/png": "[encoded data removed]",
            "text/plain": [
              "<Figure size 864x432 with 1 Axes>"
            ]
          },
          "metadata": {
            "tags": [],
            "needs_background": "light"
          }
        }
      ]
    },
    {
      "cell_type": "code",
      "metadata": {
        "colab": {
          "base_uri": "https://localhost:8080/",
          "height": 522
        },
        "id": "ujTLCcBo_9va",
        "outputId": "8ddf6bc9-a3e6-4d4e-efb5-12e63330340a"
      },
      "source": [
        "'''Confusion Matrix for Remove Dataset'''\n",
        "#Evaluating the Algorithm using a confusion matrix and classification report\n",
        "from sklearn.metrics import classification_report, confusion_matrix\n",
        "y_pred = knn_model.predict(X_test)\n",
        "target_names = ['Control', 'Parkinsons', 'ALS','Cerebral Palsy']\n",
        "Classification_rep=classification_report(y_test, y_pred,target_names=target_names)\n",
        "print(Classification_rep)\n",
        "\n",
        "#Plotting Confusion Matrix\n",
        "from sklearn.metrics import plot_confusion_matrix\n",
        "plot_confusion_matrix(knn_model, X_test, y_test, display_labels=['Control', 'Parkinsons', 'ALS', 'Cerebral Palsy'])  \n",
        "plt.show() "
      ],
      "execution_count": 35,
      "outputs": [
        {
          "output_type": "stream",
          "text": [
            "                precision    recall  f1-score   support\n",
            "\n",
            "       Control       0.32      0.93      0.48       116\n",
            "    Parkinsons       1.00      0.89      0.94      2012\n",
            "           ALS       1.00      1.00      1.00         4\n",
            "Cerebral Palsy       1.00      1.00      1.00         4\n",
            "\n",
            "      accuracy                           0.89      2136\n",
            "     macro avg       0.83      0.95      0.85      2136\n",
            "  weighted avg       0.96      0.89      0.91      2136\n",
            "\n"
          ],
          "name": "stdout"
        },
        {
          "output_type": "display_data",
          "data": {
            "image/png": "[encoded data removed]",
            "text/plain": [
              "<Figure size 432x288 with 2 Axes>"
            ]
          },
          "metadata": {
            "tags": [],
            "needs_background": "light"
          }
        }
      ]
    },
    {
      "cell_type": "code",
      "metadata": {
        "colab": {
          "base_uri": "https://localhost:8080/",
          "height": 522
        },
        "id": "LzKjv-KMlSJ0",
        "outputId": "72986d2b-9e25-4982-e9e0-ff574eca902f"
      },
      "source": [
        "'''Confusion Matrix for Remove Dataset'''\n",
        "#Evaluating the Algorithm using a confusion matrix and classification report\n",
        "from sklearn.metrics import classification_report, confusion_matrix\n",
        "y_pred2 = knn_model2.predict(X_test2)\n",
        "Classification_rep2=classification_report(y_test2, y_pred2,target_names=target_names)\n",
        "print(Classification_rep2)\n",
        "\n",
        "#Plotting Confusion Matrix for Test set\n",
        "from sklearn.metrics import plot_confusion_matrix\n",
        "plot_confusion_matrix(knn_model2, X_test2, y_test2, display_labels=['Control', 'Parkinsons', 'ALS', 'Cerebral Palsy'])  \n",
        "plt.show() \n",
        "\n"
      ],
      "execution_count": 36,
      "outputs": [
        {
          "output_type": "stream",
          "text": [
            "                precision    recall  f1-score   support\n",
            "\n",
            "       Control       0.26      0.92      0.41        65\n",
            "    Parkinsons       1.00      0.91      0.95      1932\n",
            "           ALS       0.83      1.00      0.91         5\n",
            "Cerebral Palsy       1.00      1.00      1.00         4\n",
            "\n",
            "      accuracy                           0.91      2006\n",
            "     macro avg       0.77      0.96      0.82      2006\n",
            "  weighted avg       0.97      0.91      0.94      2006\n",
            "\n"
          ],
          "name": "stdout"
        },
        {
          "output_type": "display_data",
          "data": {
            "image/png": "[encoded data removed]",
            "text/plain": [
              "<Figure size 432x288 with 2 Axes>"
            ]
          },
          "metadata": {
            "tags": [],
            "needs_background": "light"
          }
        }
      ]
    },
    {
      "cell_type": "code",
      "metadata": {
        "id": "EgsnMFH3BDic",
        "colab": {
          "base_uri": "https://localhost:8080/"
        },
        "outputId": "bf87f164-7a72-4d13-eed0-469c8aeae1c9"
      },
      "source": [
        "'''Median Dataset Loglos'''\n",
        "#Loglos Evaluation\n",
        "from sklearn import model_selection\n",
        "# log loss (closer to 0 is better)\n",
        "for k in range(2,6,4):\n",
        "  kfold = model_selection.KFold(n_splits=k, shuffle=True)\n",
        "  results = model_selection.cross_val_score(knn_model, x, y, cv=kfold, scoring='neg_log_loss')\n",
        "  print(\"Logloss: %.3f (%.f)\" % (results.mean(), k))"
      ],
      "execution_count": 37,
      "outputs": [
        {
          "output_type": "stream",
          "text": [
            "Logloss: -0.626 (2)\n"
          ],
          "name": "stdout"
        }
      ]
    },
    {
      "cell_type": "code",
      "metadata": {
        "id": "6t7_ctep-meD",
        "colab": {
          "base_uri": "https://localhost:8080/"
        },
        "outputId": "a8e9374a-0472-48ef-af18-d8a97da39252"
      },
      "source": [
        "'''Remove Dataset Loglos'''\n",
        "#Loglos Evaluation\n",
        "from sklearn import model_selection\n",
        "# log loss (closer to 0 is better)\n",
        "for k in range(2,6,4):\n",
        "  kfold = model_selection.KFold(n_splits=k, shuffle=True)\n",
        "  results2 = model_selection.cross_val_score(knn_model2, X, Y, cv=kfold, scoring='neg_log_loss')\n",
        "  print(\"Logloss: %.3f (%.f)\" % (results2.mean(), k))"
      ],
      "execution_count": 38,
      "outputs": [
        {
          "output_type": "stream",
          "text": [
            "Logloss: -0.534 (2)\n"
          ],
          "name": "stdout"
        }
      ]
    },
    {
      "cell_type": "code",
      "metadata": {
        "id": "1K7DOB3_B21G",
        "colab": {
          "base_uri": "https://localhost:8080/"
        },
        "outputId": "2a237968-8e6e-4c59-b828-2d369ae7318d"
      },
      "source": [
        "'''Median Dataset ROC/AUC'''\n",
        "#Looking at the ROC of our Model\n",
        "from sklearn import metrics\n",
        "\n",
        "fpr, tpr, thresholds = metrics.roc_curve(y_test, y_pred, pos_label=3)\n",
        "auc=metrics.auc(fpr, tpr)\n",
        "print(f\"The False Positive Rate prediction is {fpr}\")\n",
        "print(f\"The True Positive Rate prediction is {tpr}\")\n",
        "print(f\"The Thresholds are {thresholds}\")\n",
        "print(f\"The Area Under the Curve is {auc}\")"
      ],
      "execution_count": 39,
      "outputs": [
        {
          "output_type": "stream",
          "text": [
            "The False Positive Rate prediction is [0.         0.         0.00187617 0.84146341 1.        ]\n",
            "The True Positive Rate prediction is [0. 1. 1. 1. 1.]\n",
            "The Thresholds are [4 3 2 1 0]\n",
            "The Area Under the Curve is 1.0\n"
          ],
          "name": "stdout"
        }
      ]
    },
    {
      "cell_type": "code",
      "metadata": {
        "id": "ng4p37nF9f2D",
        "colab": {
          "base_uri": "https://localhost:8080/"
        },
        "outputId": "476d583b-972e-48bf-88ba-0afa44fce48e"
      },
      "source": [
        "'''Remove Dataset ROC/AUC'''\n",
        "#Looking at the ROC of our Model\n",
        "fpr2, tpr2, thresholds2 = metrics.roc_curve(y_test2, y_pred2, pos_label=3)\n",
        "auc2=metrics.auc(fpr2, tpr2)\n",
        "print(f\"The False Positive Rate prediction is {fpr2}\")\n",
        "print(f\"The True Positive Rate prediction is {tpr2}\")\n",
        "print(f\"The Thresholds are {thresholds2}\")\n",
        "print(f\"The Area Under the Curve is {auc2}\")"
      ],
      "execution_count": 40,
      "outputs": [
        {
          "output_type": "stream",
          "text": [
            "The False Positive Rate prediction is [0.         0.         0.002997   0.88511489 1.        ]\n",
            "The True Positive Rate prediction is [0. 1. 1. 1. 1.]\n",
            "The Thresholds are [4 3 2 1 0]\n",
            "The Area Under the Curve is 1.0\n"
          ],
          "name": "stdout"
        }
      ]
    },
    {
      "cell_type": "markdown",
      "metadata": {
        "id": "TiARmz25GSLg"
      },
      "source": [
        "# Conclusion"
      ]
    },
    {
      "cell_type": "code",
      "metadata": {
        "id": "dwbsXRQ8Guld",
        "colab": {
          "base_uri": "https://localhost:8080/"
        },
        "outputId": "1d445cb1-2f81-4108-ca62-30df5d184376"
      },
      "source": [
        "from tabulate import tabulate\n",
        "print(f\"Median Dataset\")\n",
        "print(tabulate([['Train Accuracies (k=1-9)', train_accuracy], ['Average Training Accuracy Score', average_score_train],['Average Testing Accuracy Score', average_score_test],['Test Accuracies (k=1-9)', test_accuracy], ['Logloss', results],[\"Predictions\", y_pred],['Number of Misclassifications',count_misclassified],['Mean Square Error for Training',rmse1],['Mean Square Error for Test',rmse2],['Classification Report',Classification_rep],['False Positive Rate', fpr], ['True positive Rate', tpr], ['Thresholds', thresholds],['Area Under Curve (AUC)', auc]],headers=['Evaluations', 'Output']))"
      ],
      "execution_count": 43,
      "outputs": [
        {
          "output_type": "stream",
          "text": [
            "Median Dataset\n",
            "Evaluations                      Output\n",
            "-------------------------------  ------------------------------------------------------------------\n",
            "Train Accuracies (k=1-9)         [1.         0.98827778 0.98977778 0.9825     0.98427778 0.97777778\n",
            "                                  0.979      0.97272222]\n",
            "Average Training Accuracy Score  0.9842916666666667\n",
            "Average Testing Accuracy Score   0.919124531835206\n",
            "Test Accuracies (k=1-9)          [0.96301498 0.92322097 0.93492509 0.91151685 0.92322097 0.8988764\n",
            "                                  0.90964419 0.88857678]\n",
            "Logloss                          [-0.65106796 -0.6006184 ]\n",
            "Predictions                      [1 1 1 ... 1 1 1]\n",
            "Number of Misclassifications     238\n",
            "Mean Square Error for Training   0.17826322609494585\n",
            "Mean Square Error for Test       0.3338011698208722\n",
            "Classification Report            precision    recall  f1-score   support\n",
            "\n",
            "                                        Control       0.32      0.93      0.48       116\n",
            "                                     Parkinsons       1.00      0.89      0.94      2012\n",
            "                                            ALS       1.00      1.00      1.00         4\n",
            "                                 Cerebral Palsy       1.00      1.00      1.00         4\n",
            "\n",
            "                                       accuracy                           0.89      2136\n",
            "                                      macro avg       0.83      0.95      0.85      2136\n",
            "                                   weighted avg       0.96      0.89      0.91      2136\n",
            "False Positive Rate              [0.         0.         0.00187617 0.84146341 1.        ]\n",
            "True positive Rate               [0. 1. 1. 1. 1.]\n",
            "Thresholds                       [4 3 2 1 0]\n",
            "Area Under Curve (AUC)           1.0\n"
          ],
          "name": "stdout"
        }
      ]
    },
    {
      "cell_type": "code",
      "metadata": {
        "id": "x_iYI8DLIqTG",
        "colab": {
          "base_uri": "https://localhost:8080/"
        },
        "outputId": "f16e28c2-a511-4293-eeda-2b4d998d28ae"
      },
      "source": [
        "print(f\"Remove Dataset\")\n",
        "print(tabulate([['Train Accuracies (k=1-9)', train_accuracy2], ['Average Training Accuracy Score', average_score_train2],['Average Testing Accuracy Score', average_score_test2],['Test Accuracies (k=1-9)', test_accuracy2],['Logloss', results2],[\"Predictions\", y_pred2],['Number of Misclassifications',count_misclassified2],['Mean Square Error for Training',rmse_a],['Mean Square Error for Test',rmse_b],['Classification Report',Classification_rep2],['False Positive Rate', fpr2], ['True positive Rate', tpr2], ['Thresholds', thresholds2],['Area Under Curve (AUC)', auc2]],headers=['Evaluations', 'Output']))"
      ],
      "execution_count": 42,
      "outputs": [
        {
          "output_type": "stream",
          "text": [
            "Remove Dataset\n",
            "Evaluations                      Output\n",
            "-------------------------------  ------------------------------------------------------------------\n",
            "Train Accuracies (k=1-9)         [1.         0.98877778 0.98972222 0.98188889 0.983      0.97811111\n",
            "                                  0.97883333 0.97427778]\n",
            "Average Training Accuracy Score  0.9843263888888889\n",
            "Average Testing Accuracy Score   0.9390578265204387\n",
            "Test Accuracies (k=1-9)          [0.98305085 0.94516451 0.95363908 0.93020937 0.93718843 0.9227318\n",
            "                                  0.92771685 0.91276171]\n",
            "Logloss                          [-0.50396847 -0.5640178 ]\n",
            "Predictions                      [1 1 0 ... 1 1 1]\n",
            "Number of Misclassifications     175\n",
            "Mean Square Error for Training   0.16414763002993507\n",
            "Mean Square Error for Test       0.29788218913554976\n",
            "Classification Report            precision    recall  f1-score   support\n",
            "\n",
            "                                        Control       0.26      0.92      0.41        65\n",
            "                                     Parkinsons       1.00      0.91      0.95      1932\n",
            "                                            ALS       0.83      1.00      0.91         5\n",
            "                                 Cerebral Palsy       1.00      1.00      1.00         4\n",
            "\n",
            "                                       accuracy                           0.91      2006\n",
            "                                      macro avg       0.77      0.96      0.82      2006\n",
            "                                   weighted avg       0.97      0.91      0.94      2006\n",
            "False Positive Rate              [0.         0.         0.002997   0.88511489 1.        ]\n",
            "True positive Rate               [0. 1. 1. 1. 1.]\n",
            "Thresholds                       [4 3 2 1 0]\n",
            "Area Under Curve (AUC)           1.0\n"
          ],
          "name": "stdout"
        }
      ]
    },
    {
      "cell_type": "code",
      "metadata": {
        "id": "ISlR0ALs61zt"
      },
      "source": [
        "from performance_report import performance_report # performance_report.py on the repo\n",
        "# performance reports\n",
        "urls = [data, data2]\n",
        "titles = ['all_disorders_median_std',\n",
        "          'all_disorders_remove_std']\n",
        "for i in range(0,len(urls)):\n",
        "  performance_report(knn_model, x, y, X_test, y_test, y_pred, titles[i])\n",
        "  performance_report(knn_model2, X, Y, X_test2, y_test2, y_pred2, titles[i])"
      ],
      "execution_count": null,
      "outputs": []
    }
  ]
}
