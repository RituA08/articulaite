{
 "cells": [
  {
   "cell_type": "code",
   "execution_count": 1,
   "id": "c0571cbd",
   "metadata": {},
   "outputs": [],
   "source": [
    "import pandas as pd\n",
    "import numpy as np\n",
    "import matplotlib.pyplot as plt\n",
    "%matplotlib inline\n",
    "import seaborn as sns\n",
    "from sklearn.tree import DecisionTreeClassifier\n",
    "from sklearn.ensemble import RandomForestClassifier\n",
    "from sklearn.neighbors import KNeighborsClassifier\n",
    "from sklearn.naive_bayes import GaussianNB as gnb\n",
    "from sklearn.model_selection import cross_val_score\n",
    "from sklearn.model_selection import train_test_split\n",
    "from sklearn.metrics import accuracy_score, confusion_matrix\n",
    "from sklearn import tree\n",
    "from os import system"
   ]
  },
  {
   "cell_type": "code",
   "execution_count": 2,
   "id": "e1012053",
   "metadata": {},
   "outputs": [],
   "source": [
    "data = pd.read_csv('/Users/halo/AI4Good Practice/Project/Datasets/PD_median_std_all_datasets.csv')"
   ]
  },
  {
   "cell_type": "code",
   "execution_count": 3,
   "id": "6b29136d",
   "metadata": {},
   "outputs": [],
   "source": [
    "#Moving Status column to the last\n",
    "df1=data.pop('Status') \n",
    "data['Status'] = df1"
   ]
  },
  {
   "cell_type": "code",
   "execution_count": 4,
   "id": "bcfbffb0",
   "metadata": {},
   "outputs": [
    {
     "data": {
      "text/html": [
       "<div>\n",
       "<style scoped>\n",
       "    .dataframe tbody tr th:only-of-type {\n",
       "        vertical-align: middle;\n",
       "    }\n",
       "\n",
       "    .dataframe tbody tr th {\n",
       "        vertical-align: top;\n",
       "    }\n",
       "\n",
       "    .dataframe thead th {\n",
       "        text-align: right;\n",
       "    }\n",
       "</style>\n",
       "<table border=\"1\" class=\"dataframe\">\n",
       "  <thead>\n",
       "    <tr style=\"text-align: right;\">\n",
       "      <th></th>\n",
       "      <th>count</th>\n",
       "      <th>mean</th>\n",
       "      <th>std</th>\n",
       "      <th>min</th>\n",
       "      <th>25%</th>\n",
       "      <th>50%</th>\n",
       "      <th>75%</th>\n",
       "      <th>max</th>\n",
       "    </tr>\n",
       "  </thead>\n",
       "  <tbody>\n",
       "    <tr>\n",
       "      <th>Unnamed: 0</th>\n",
       "      <td>7066.0</td>\n",
       "      <td>3.532500e+03</td>\n",
       "      <td>2039.922834</td>\n",
       "      <td>0.000000</td>\n",
       "      <td>1766.250000</td>\n",
       "      <td>3532.500000</td>\n",
       "      <td>5298.750000</td>\n",
       "      <td>7065.000000</td>\n",
       "    </tr>\n",
       "    <tr>\n",
       "      <th>Gender</th>\n",
       "      <td>7066.0</td>\n",
       "      <td>3.330031e-01</td>\n",
       "      <td>0.471321</td>\n",
       "      <td>0.000000</td>\n",
       "      <td>0.000000</td>\n",
       "      <td>0.000000</td>\n",
       "      <td>1.000000</td>\n",
       "      <td>1.000000</td>\n",
       "    </tr>\n",
       "    <tr>\n",
       "      <th>MDVP:Jitter(%)</th>\n",
       "      <td>7066.0</td>\n",
       "      <td>1.157611e-15</td>\n",
       "      <td>1.000071</td>\n",
       "      <td>-1.000999</td>\n",
       "      <td>-0.457090</td>\n",
       "      <td>-0.191588</td>\n",
       "      <td>0.149046</td>\n",
       "      <td>17.396045</td>\n",
       "    </tr>\n",
       "    <tr>\n",
       "      <th>MDVP:Jitter(Abs)</th>\n",
       "      <td>7066.0</td>\n",
       "      <td>1.516226e-16</td>\n",
       "      <td>1.000071</td>\n",
       "      <td>-1.118584</td>\n",
       "      <td>-0.598383</td>\n",
       "      <td>-0.253889</td>\n",
       "      <td>0.281531</td>\n",
       "      <td>14.077927</td>\n",
       "    </tr>\n",
       "    <tr>\n",
       "      <th>Jitter:PPQ5</th>\n",
       "      <td>7066.0</td>\n",
       "      <td>1.626211e-16</td>\n",
       "      <td>1.000071</td>\n",
       "      <td>-0.824134</td>\n",
       "      <td>-0.386261</td>\n",
       "      <td>-0.183953</td>\n",
       "      <td>0.084868</td>\n",
       "      <td>18.439490</td>\n",
       "    </tr>\n",
       "    <tr>\n",
       "      <th>Jitter:DDP</th>\n",
       "      <td>7066.0</td>\n",
       "      <td>-2.125702e-16</td>\n",
       "      <td>1.000071</td>\n",
       "      <td>-0.882121</td>\n",
       "      <td>-0.440468</td>\n",
       "      <td>-0.197559</td>\n",
       "      <td>0.134785</td>\n",
       "      <td>18.173013</td>\n",
       "    </tr>\n",
       "    <tr>\n",
       "      <th>MDVP:Shimmer</th>\n",
       "      <td>7066.0</td>\n",
       "      <td>-2.966318e-16</td>\n",
       "      <td>1.000071</td>\n",
       "      <td>-1.160573</td>\n",
       "      <td>-0.593922</td>\n",
       "      <td>-0.283162</td>\n",
       "      <td>0.210582</td>\n",
       "      <td>7.751805</td>\n",
       "    </tr>\n",
       "    <tr>\n",
       "      <th>MDVP:Shimmer(dB)</th>\n",
       "      <td>7066.0</td>\n",
       "      <td>1.907322e-16</td>\n",
       "      <td>1.000071</td>\n",
       "      <td>-1.192021</td>\n",
       "      <td>-0.604778</td>\n",
       "      <td>-0.281041</td>\n",
       "      <td>0.212092</td>\n",
       "      <td>6.668002</td>\n",
       "    </tr>\n",
       "    <tr>\n",
       "      <th>Shimmer:APQ3</th>\n",
       "      <td>7066.0</td>\n",
       "      <td>-3.441214e-16</td>\n",
       "      <td>1.000071</td>\n",
       "      <td>-1.136386</td>\n",
       "      <td>-0.608285</td>\n",
       "      <td>-0.292269</td>\n",
       "      <td>0.251098</td>\n",
       "      <td>9.325606</td>\n",
       "    </tr>\n",
       "    <tr>\n",
       "      <th>Shimmer:APQ5</th>\n",
       "      <td>7066.0</td>\n",
       "      <td>-1.698595e-16</td>\n",
       "      <td>1.000071</td>\n",
       "      <td>-1.075888</td>\n",
       "      <td>-0.579911</td>\n",
       "      <td>-0.278599</td>\n",
       "      <td>0.197045</td>\n",
       "      <td>9.290697</td>\n",
       "    </tr>\n",
       "    <tr>\n",
       "      <th>Shimmer:APQ11</th>\n",
       "      <td>7066.0</td>\n",
       "      <td>-4.765309e-16</td>\n",
       "      <td>1.000071</td>\n",
       "      <td>-1.294826</td>\n",
       "      <td>-0.594494</td>\n",
       "      <td>-0.275065</td>\n",
       "      <td>0.205962</td>\n",
       "      <td>10.639565</td>\n",
       "    </tr>\n",
       "    <tr>\n",
       "      <th>Shimmer:DDA</th>\n",
       "      <td>7066.0</td>\n",
       "      <td>9.236339e-16</td>\n",
       "      <td>1.000071</td>\n",
       "      <td>-1.139634</td>\n",
       "      <td>-0.601780</td>\n",
       "      <td>-0.293024</td>\n",
       "      <td>0.218004</td>\n",
       "      <td>9.463401</td>\n",
       "    </tr>\n",
       "    <tr>\n",
       "      <th>RPDE</th>\n",
       "      <td>7066.0</td>\n",
       "      <td>-1.371674e-16</td>\n",
       "      <td>1.000071</td>\n",
       "      <td>-3.311330</td>\n",
       "      <td>-0.667199</td>\n",
       "      <td>0.048589</td>\n",
       "      <td>0.718537</td>\n",
       "      <td>3.870206</td>\n",
       "    </tr>\n",
       "    <tr>\n",
       "      <th>DFA</th>\n",
       "      <td>7066.0</td>\n",
       "      <td>1.088666e-15</td>\n",
       "      <td>1.000071</td>\n",
       "      <td>-3.376423</td>\n",
       "      <td>-0.801669</td>\n",
       "      <td>-0.103362</td>\n",
       "      <td>0.809209</td>\n",
       "      <td>2.824194</td>\n",
       "    </tr>\n",
       "    <tr>\n",
       "      <th>PPE</th>\n",
       "      <td>7066.0</td>\n",
       "      <td>8.272780e-16</td>\n",
       "      <td>1.000071</td>\n",
       "      <td>-1.393022</td>\n",
       "      <td>-0.590840</td>\n",
       "      <td>-0.303093</td>\n",
       "      <td>0.121416</td>\n",
       "      <td>3.217201</td>\n",
       "    </tr>\n",
       "    <tr>\n",
       "      <th>Status</th>\n",
       "      <td>7066.0</td>\n",
       "      <td>9.490518e-01</td>\n",
       "      <td>0.219908</td>\n",
       "      <td>0.000000</td>\n",
       "      <td>1.000000</td>\n",
       "      <td>1.000000</td>\n",
       "      <td>1.000000</td>\n",
       "      <td>1.000000</td>\n",
       "    </tr>\n",
       "  </tbody>\n",
       "</table>\n",
       "</div>"
      ],
      "text/plain": [
       "                   count          mean          std       min          25%  \\\n",
       "Unnamed: 0        7066.0  3.532500e+03  2039.922834  0.000000  1766.250000   \n",
       "Gender            7066.0  3.330031e-01     0.471321  0.000000     0.000000   \n",
       "MDVP:Jitter(%)    7066.0  1.157611e-15     1.000071 -1.000999    -0.457090   \n",
       "MDVP:Jitter(Abs)  7066.0  1.516226e-16     1.000071 -1.118584    -0.598383   \n",
       "Jitter:PPQ5       7066.0  1.626211e-16     1.000071 -0.824134    -0.386261   \n",
       "Jitter:DDP        7066.0 -2.125702e-16     1.000071 -0.882121    -0.440468   \n",
       "MDVP:Shimmer      7066.0 -2.966318e-16     1.000071 -1.160573    -0.593922   \n",
       "MDVP:Shimmer(dB)  7066.0  1.907322e-16     1.000071 -1.192021    -0.604778   \n",
       "Shimmer:APQ3      7066.0 -3.441214e-16     1.000071 -1.136386    -0.608285   \n",
       "Shimmer:APQ5      7066.0 -1.698595e-16     1.000071 -1.075888    -0.579911   \n",
       "Shimmer:APQ11     7066.0 -4.765309e-16     1.000071 -1.294826    -0.594494   \n",
       "Shimmer:DDA       7066.0  9.236339e-16     1.000071 -1.139634    -0.601780   \n",
       "RPDE              7066.0 -1.371674e-16     1.000071 -3.311330    -0.667199   \n",
       "DFA               7066.0  1.088666e-15     1.000071 -3.376423    -0.801669   \n",
       "PPE               7066.0  8.272780e-16     1.000071 -1.393022    -0.590840   \n",
       "Status            7066.0  9.490518e-01     0.219908  0.000000     1.000000   \n",
       "\n",
       "                          50%          75%          max  \n",
       "Unnamed: 0        3532.500000  5298.750000  7065.000000  \n",
       "Gender               0.000000     1.000000     1.000000  \n",
       "MDVP:Jitter(%)      -0.191588     0.149046    17.396045  \n",
       "MDVP:Jitter(Abs)    -0.253889     0.281531    14.077927  \n",
       "Jitter:PPQ5         -0.183953     0.084868    18.439490  \n",
       "Jitter:DDP          -0.197559     0.134785    18.173013  \n",
       "MDVP:Shimmer        -0.283162     0.210582     7.751805  \n",
       "MDVP:Shimmer(dB)    -0.281041     0.212092     6.668002  \n",
       "Shimmer:APQ3        -0.292269     0.251098     9.325606  \n",
       "Shimmer:APQ5        -0.278599     0.197045     9.290697  \n",
       "Shimmer:APQ11       -0.275065     0.205962    10.639565  \n",
       "Shimmer:DDA         -0.293024     0.218004     9.463401  \n",
       "RPDE                 0.048589     0.718537     3.870206  \n",
       "DFA                 -0.103362     0.809209     2.824194  \n",
       "PPE                 -0.303093     0.121416     3.217201  \n",
       "Status               1.000000     1.000000     1.000000  "
      ]
     },
     "execution_count": 4,
     "metadata": {},
     "output_type": "execute_result"
    }
   ],
   "source": [
    "data.describe().transpose()"
   ]
  },
  {
   "cell_type": "code",
   "execution_count": 5,
   "id": "b94fa9bb",
   "metadata": {},
   "outputs": [
    {
     "data": {
      "text/plain": [
       "1    6706\n",
       "0     360\n",
       "Name: Status, dtype: int64"
      ]
     },
     "execution_count": 5,
     "metadata": {},
     "output_type": "execute_result"
    }
   ],
   "source": [
    "# Fetching the number of PD patients\n",
    "data.Status.value_counts()"
   ]
  },
  {
   "cell_type": "code",
   "execution_count": 6,
   "id": "3cd88528",
   "metadata": {},
   "outputs": [
    {
     "name": "stdout",
     "output_type": "stream",
     "text": [
      "X_train length is 4946.\n",
      "X_test length is 1590.\n",
      "X_valid length is 530.\n"
     ]
    }
   ],
   "source": [
    "#Defining our labels\n",
    "X = data.drop(\"Status\",axis=1)\n",
    "Y = data[\"Status\"]\n",
    "\n",
    "# Splitting Data into 70% Training data and 30% Testing Data:\n",
    "X_train, X_Test, y_train,  y_Test = train_test_split(X, Y,train_size=0.7, test_size=0.3, random_state=42,stratify=Y)\n",
    "print(f\"X_train length is {len(X_train)}.\")\n",
    "\n",
    "#70% Training data and 20% Testing Data and 10% Validation Data\n",
    "X_test, X_valid, y_test, y_valid = train_test_split(X_Test, y_Test, train_size=0.75,test_size=0.25, random_state=101, stratify=y_Test)\n",
    "print(f\"X_test length is {len(X_test)}.\")\n",
    "print(f\"X_valid length is {len(X_valid)}.\")"
   ]
  },
  {
   "cell_type": "code",
   "execution_count": 7,
   "id": "afded846",
   "metadata": {},
   "outputs": [
    {
     "data": {
      "text/plain": [
       "(array([0, 1]), array([ 252, 4694]))"
      ]
     },
     "execution_count": 7,
     "metadata": {},
     "output_type": "execute_result"
    }
   ],
   "source": [
    "#Seeing the number/percentage of the split\n",
    "np.unique(y_train, return_counts=True)"
   ]
  },
  {
   "cell_type": "markdown",
   "id": "14ef929c",
   "metadata": {},
   "source": [
    "# K-Nearest Neighbor Classification"
   ]
  },
  {
   "cell_type": "markdown",
   "id": "6f6aa7f3",
   "metadata": {},
   "source": [
    "The KNeighborsRegressor computes the mean of the nearest neighbor labels"
   ]
  },
  {
   "cell_type": "code",
   "execution_count": 8,
   "id": "7894157f",
   "metadata": {},
   "outputs": [
    {
     "name": "stdout",
     "output_type": "stream",
     "text": [
      "The fitting score is 0.980503144654088\n",
      "Mean square error for training data is 0.06516022741331395\n",
      "Mean square error for test data is 0.13963114031587634\n"
     ]
    }
   ],
   "source": [
    "#k-NN\n",
    "from sklearn.neighbors import KNeighborsClassifier\n",
    "knn_model = KNeighborsClassifier(n_neighbors=2)\n",
    "\n",
    "#fiting training data on model\n",
    "knn_model.fit(X_train, y_train)\n",
    "score= knn_model.score(X_test,y_test)\n",
    "print(f\"The fitting score is {score}\")\n",
    "\n",
    "#Mean Square Error\n",
    "from sklearn.metrics import mean_squared_error\n",
    "from math import sqrt\n",
    "train_preds = knn_model.predict(X_train)\n",
    "mse = mean_squared_error(y_train, train_preds)\n",
    "rmse1 = sqrt(mse)\n",
    "print(f\"Mean square error for training data is {rmse1}\")\n",
    "\n",
    "#evaluating the predictive performance of our model\n",
    "test_preds = knn_model.predict(X_test)\n",
    "mse = mean_squared_error(y_test, test_preds)\n",
    "rmse2 = sqrt(mse)\n",
    "print(f\"Mean square error for test data is {rmse2}\")"
   ]
  },
  {
   "cell_type": "code",
   "execution_count": 9,
   "id": "60b176ce",
   "metadata": {},
   "outputs": [
    {
     "name": "stdout",
     "output_type": "stream",
     "text": [
      "The prediction for the data is [1 1 1 ... 1 1 1]\n",
      "Misclassified samples in KNN: 31\n"
     ]
    }
   ],
   "source": [
    "#prediction using K-NN\n",
    "y_pred = knn_model.predict(X_test)\n",
    "print(f\"The prediction for the data is {y_pred}\")\n",
    "#Looking at accuracy by counting the number of misclassified cases\n",
    "count_misclassified = (y_test != y_pred).sum()\n",
    "print('Misclassified samples in KNN: {}'.format(count_misclassified))"
   ]
  },
  {
   "cell_type": "markdown",
   "id": "05ba9934",
   "metadata": {},
   "source": [
    "# Parameter Tuning & Model Evaluation"
   ]
  },
  {
   "cell_type": "code",
   "execution_count": 10,
   "id": "f16c9954",
   "metadata": {},
   "outputs": [
    {
     "name": "stdout",
     "output_type": "stream",
     "text": [
      "The best value for k is {'n_neighbors': 1}\n",
      "Mean square error for test data is 0.12027222790416517\n"
     ]
    }
   ],
   "source": [
    "#Predicting the best value of k\n",
    "from sklearn.model_selection import GridSearchCV\n",
    "parameters = {\"n_neighbors\": range(1, 50)}\n",
    "gridsearch = GridSearchCV(KNeighborsClassifier(), parameters)\n",
    "gridsearch.fit(X_train, y_train)\n",
    "\n",
    "#using .best_params_ to find the best performing k\n",
    "print(f\"The best value for k is {gridsearch.best_params_}\")\n",
    "\n",
    "#Seeing how this predicted k affects the training and testing performances\n",
    "train_preds_grid = gridsearch.predict(X_train)\n",
    "train_mse = mean_squared_error(y_train, train_preds_grid)\n",
    "train_rmse = sqrt(train_mse)\n",
    "test_preds_grid = gridsearch.predict(X_test)\n",
    "test_mse = mean_squared_error(y_test, test_preds_grid)\n",
    "test_rmse = sqrt(test_mse)\n",
    "train_rmse\n",
    "\n",
    "print(f\"Mean square error for test data is {test_rmse}\")"
   ]
  },
  {
   "cell_type": "code",
   "execution_count": 11,
   "id": "c604e456",
   "metadata": {},
   "outputs": [
    {
     "data": {
      "text/plain": [
       "Text(0, 0.5, 'Mean Error')"
      ]
     },
     "execution_count": 11,
     "metadata": {},
     "output_type": "execute_result"
    },
    {
     "data": {
      "image/png": "[encoded data removed]",
      "text/plain": [
       "<Figure size 864x432 with 1 Axes>"
      ]
     },
     "metadata": {
      "needs_background": "light"
     },
     "output_type": "display_data"
    }
   ],
   "source": [
    "error = []\n",
    "\n",
    "# Calculating error for K values between 1 and 40\n",
    "for i in range(1, 40):\n",
    "    knn = KNeighborsClassifier(n_neighbors=i)\n",
    "    knn.fit(X_train, y_train)\n",
    "    pred_i = knn.predict(X_test)\n",
    "    error.append(np.mean(pred_i != y_test))\n",
    "    \n",
    "# plot the error values against K values using the elbow graph method\n",
    "plt.figure(figsize=(12, 6))\n",
    "plt.plot(range(1, 40), error, color='red', linestyle='dashed', marker='o',\n",
    "         markerfacecolor='blue', markersize=10)\n",
    "plt.title('Error Rate K Value')\n",
    "plt.xlabel('K Value')\n",
    "plt.ylabel('Mean Error')"
   ]
  },
  {
   "cell_type": "code",
   "execution_count": 13,
   "id": "49449a68",
   "metadata": {},
   "outputs": [
    {
     "name": "stdout",
     "output_type": "stream",
     "text": [
      "The rate of the mean squared error is 0.12027222790416517\n"
     ]
    }
   ],
   "source": [
    "#Taking the weighted average of neighbors based on distance\n",
    "#Gridsearch \n",
    "parameters = {\n",
    "    \"n_neighbors\": range(1, 50),\n",
    "    \"weights\": [\"uniform\", \"distance\"],\n",
    "}\n",
    "gridsearch = GridSearchCV(KNeighborsClassifier(), parameters)\n",
    "gridsearch.fit(X_train, y_train)\n",
    "\n",
    "\n",
    "\n",
    "gridsearch.best_params_\n",
    "\n",
    "test_preds_grid = gridsearch.predict(X_test)\n",
    "test_mse = mean_squared_error(y_test, test_preds_grid)\n",
    "test_rmse = sqrt(test_mse)\n",
    "print(f\"The rate of the mean squared error is {test_rmse}\")"
   ]
  },
  {
   "cell_type": "code",
   "execution_count": 14,
   "id": "2f0aaa92",
   "metadata": {},
   "outputs": [
    {
     "name": "stdout",
     "output_type": "stream",
     "text": [
      "[[  73    8]\n",
      " [  23 1486]]\n",
      "              precision    recall  f1-score   support\n",
      "\n",
      "           0       0.76      0.90      0.82        81\n",
      "           1       0.99      0.98      0.99      1509\n",
      "\n",
      "    accuracy                           0.98      1590\n",
      "   macro avg       0.88      0.94      0.91      1590\n",
      "weighted avg       0.98      0.98      0.98      1590\n",
      "\n"
     ]
    }
   ],
   "source": [
    "#Evaluating the Algorithm using a confusion matrix and classification report\n",
    "from sklearn.metrics import classification_report, confusion_matrix\n",
    "y_pred = knn_model.predict(X_test)\n",
    "print(confusion_matrix(y_test, y_pred))\n",
    "print(classification_report(y_test, y_pred))"
   ]
  },
  {
   "cell_type": "code",
   "execution_count": 16,
   "id": "61998896",
   "metadata": {},
   "outputs": [
    {
     "data": {
      "image/png": "[encoded data removed]",
      "text/plain": [
       "<Figure size 432x288 with 2 Axes>"
      ]
     },
     "metadata": {
      "needs_background": "light"
     },
     "output_type": "display_data"
    }
   ],
   "source": [
    "#Plotting Confusion Matrix\n",
    "from sklearn.metrics import plot_confusion_matrix\n",
    "plot_confusion_matrix(knn_model, X_test, y_test, display_labels=['Control', 'Parkinsons'])  \n",
    "plt.show() "
   ]
  },
  {
   "cell_type": "code",
   "execution_count": 17,
   "id": "b60b72d3",
   "metadata": {},
   "outputs": [
    {
     "name": "stdout",
     "output_type": "stream",
     "text": [
      "Misclassified samples in KNN: 31\n"
     ]
    }
   ],
   "source": [
    "#Looking at accuracy by counting the number of misclassified cases\n",
    "count_misclassified = (y_test != y_pred).sum()\n",
    "print('Misclassified samples in KNN: {}'.format(count_misclassified))"
   ]
  },
  {
   "cell_type": "code",
   "execution_count": 18,
   "id": "dd857236",
   "metadata": {},
   "outputs": [
    {
     "name": "stdout",
     "output_type": "stream",
     "text": [
      "The False Positive Rate prediction is [0.         0.93962264 1.        ]\n",
      "The True Positive Rate prediction is [nan nan nan]\n",
      "The Thresholds are [2 1 0]\n"
     ]
    },
    {
     "name": "stderr",
     "output_type": "stream",
     "text": [
      "/Users/halo/opt/anaconda3/envs/training/lib/python3.8/site-packages/sklearn/metrics/_ranking.py:949: UndefinedMetricWarning: No positive samples in y_true, true positive value should be meaningless\n",
      "  warnings.warn(\"No positive samples in y_true, \"\n"
     ]
    }
   ],
   "source": [
    "#Looking at the ROC of our Model\n",
    "from sklearn import metrics\n",
    "\n",
    "fpr, tpr, thresholds = metrics.roc_curve(y_test, y_pred, pos_label=2)\n",
    "print(f\"The False Positive Rate prediction is {fpr}\")\n",
    "print(f\"The True Positive Rate prediction is {tpr}\")\n",
    "print(f\"The Thresholds are {thresholds}\")"
   ]
  },
  {
   "cell_type": "code",
   "execution_count": 19,
   "id": "d4aa9afc",
   "metadata": {},
   "outputs": [
    {
     "data": {
      "text/plain": [
       "0.9429963429300738"
      ]
     },
     "execution_count": 19,
     "metadata": {},
     "output_type": "execute_result"
    }
   ],
   "source": [
    "#Compute (AUC) Area Under the Receiver Operating Characteristic Curve (ROC AUC) from prediction scores\n",
    "from sklearn.metrics import roc_auc_score\n",
    "roc_auc_score(y_test, y_pred, multi_class='ovr')"
   ]
  },
  {
   "cell_type": "code",
   "execution_count": 20,
   "id": "29ea8ed6",
   "metadata": {},
   "outputs": [
    {
     "data": {
      "image/png": "[encoded data removed]",
      "text/plain": [
       "<Figure size 432x288 with 1 Axes>"
      ]
     },
     "metadata": {
      "needs_background": "light"
     },
     "output_type": "display_data"
    }
   ],
   "source": [
    "#Plotting ROC\n",
    "metrics.plot_roc_curve(knn_model, X_test, y_test)  \n",
    "plt.show()"
   ]
  },
  {
   "cell_type": "code",
   "execution_count": 21,
   "id": "4601f5d5",
   "metadata": {},
   "outputs": [
    {
     "name": "stdout",
     "output_type": "stream",
     "text": [
      "Logloss: -0.367 (2)\n",
      "Logloss: -0.161 (6)\n",
      "Logloss: -0.135 (10)\n",
      "Logloss: -0.136 (14)\n",
      "Logloss: -0.110 (18)\n",
      "Logloss: -0.096 (22)\n",
      "Logloss: -0.101 (26)\n"
     ]
    }
   ],
   "source": [
    "from sklearn import model_selection\n",
    "# log loss (closer to 0 is better)\n",
    "for k in range(2,30,4):\n",
    "  kfold = model_selection.KFold(n_splits=k, shuffle=True)\n",
    "  results = model_selection.cross_val_score(knn_model, X, Y, cv=kfold, scoring='neg_log_loss')\n",
    "  print(\"Logloss: %.3f (%.f)\" % (results.mean(), k))"
   ]
  },
  {
   "cell_type": "code",
   "execution_count": null,
   "id": "82c03620",
   "metadata": {},
   "outputs": [],
   "source": []
  }
 ],
 "metadata": {
  "kernelspec": {
   "display_name": "Python 3",
   "language": "python",
   "name": "python3"
  },
  "language_info": {
   "codemirror_mode": {
    "name": "ipython",
    "version": 3
   },
   "file_extension": ".py",
   "mimetype": "text/x-python",
   "name": "python",
   "nbconvert_exporter": "python",
   "pygments_lexer": "ipython3",
   "version": "3.8.2"
  }
 },
 "nbformat": 4,
 "nbformat_minor": 5
}
