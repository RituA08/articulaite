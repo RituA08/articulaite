{
  "nbformat": 4,
  "nbformat_minor": 0,
  "metadata": {
    "colab": {
      "name": "k-NN Binary Classifier.ipynb",
      "provenance": [],
      "authorship_tag": "ABX9TyOKlX2fg8ubAR85y8jFOeT7",
      "include_colab_link": true
    },
    "kernelspec": {
      "name": "python3",
      "display_name": "Python 3"
    },
    "language_info": {
      "name": "python"
    }
  },
  "cells": [
    {
      "cell_type": "markdown",
      "metadata": {
        "id": "view-in-github",
        "colab_type": "text"
      },
      "source": [
        "<a href=\"https://colab.research.google.com/github/cpappas18/articulaite/blob/main/k_NN_Binary_Classifier.ipynb\" target=\"_parent\"><img src=\"https://colab.research.google.com/assets/colab-badge.svg\" alt=\"Open In Colab\"/></a>"
      ]
    },
    {
      "cell_type": "code",
      "metadata": {
        "id": "i22VknVDJ556",
        "colab": {
          "base_uri": "https://localhost:8080/"
        },
        "outputId": "dc6d0e8d-d34f-4124-e08c-030815fe13c8"
      },
      "source": [
        "import matplotlib.pyplot as plt\n",
        "import numpy as np\n",
        "import pandas as pd\n",
        "from smote import smote_binary  # smote.py on the repo\n",
        "from performance_report import performance_report # performance_report.py on the repo\n",
        "from sklearn.utils.testing import ignore_warnings # to remove warnings\n",
        "from sklearn.exceptions import ConvergenceWarning"
      ],
      "execution_count": null,
      "outputs": [
        {
          "output_type": "stream",
          "text": [
            "/usr/local/lib/python3.7/dist-packages/sklearn/externals/six.py:31: FutureWarning: The module is deprecated in version 0.21 and will be removed in version 0.23 since we've dropped support for Python 2.7. Please rely on the official version of six (https://pypi.org/project/six/).\n",
            "  \"(https://pypi.org/project/six/).\", FutureWarning)\n",
            "/usr/local/lib/python3.7/dist-packages/sklearn/utils/deprecation.py:144: FutureWarning: The sklearn.neighbors.base module is  deprecated in version 0.22 and will be removed in version 0.24. The corresponding classes / functions should instead be imported from sklearn.neighbors. Anything that cannot be imported from sklearn.neighbors is now part of the private API.\n",
            "  warnings.warn(message, FutureWarning)\n",
            "/usr/local/lib/python3.7/dist-packages/sklearn/utils/deprecation.py:144: FutureWarning: The sklearn.utils.testing module is  deprecated in version 0.22 and will be removed in version 0.24. The corresponding classes / functions should instead be imported from sklearn.utils. Anything that cannot be imported from sklearn.utils is now part of the private API.\n",
            "  warnings.warn(message, FutureWarning)\n"
          ],
          "name": "stderr"
        }
      ]
    },
    {
      "cell_type": "code",
      "metadata": {
        "id": "Ouj-rUjWKKlu"
      },
      "source": [
        "@ignore_warnings(category=ConvergenceWarning)\n",
        "def knn_pred(url):\n",
        "\n",
        "  # importing the dataset\n",
        "  df = pd.read_csv(url)\n",
        "\n",
        "  # balancing the dataset \n",
        "  smote_binary(df, num_samples_dict=None)   # smote_binary() returns [df, row_count]\n",
        "  df = smote[0]\n",
        "  \n",
        "  # fitting the k-NN model\n",
        "  from sklearn.neighbors import KNeighborsClassifier\n",
        "  from sklearn.model_selection import train_test_split\n",
        "\n",
        "  X = df.iloc[:,1:]\n",
        "  y = df.iloc[:,0]\n",
        "\n",
        "  X_train, X_test, y_train, y_test = train_test_split(X, y, test_size=0.2)\n",
        "  knn_model = KNeighborsClassifier(n_neighbors=2)\n",
        "  knn_model.fit(X_train, y_train)\n",
        "\n",
        "  y_pred = knn_model.predict(X_test)\n",
        "\n",
        "  return knn_model, X, y, X_test, y_test, y_pred"
      ],
      "execution_count": null,
      "outputs": []
    },
    {
      "cell_type": "code",
      "metadata": {
        "id": "ZnxqIrAYFkc-"
      },
      "source": [
        "# performance reports\n",
        "urls = ['https://raw.githubusercontent.com/cpappas18/Dysarthria-Classifier/main/PD_remove_std_all_datasets.csv',\n",
        "        'https://raw.githubusercontent.com/cpappas18/Dysarthria-Classifier/main/PD_median_std_all_datasets.csv']\n",
        "titles = ['PD_remove_std_all',\n",
        "          'PD_median_std_all']\n",
        "\n",
        "for i in range(0,len(urls)):\n",
        "  knn_model, X, y, X_test, y_test, y_pred = knn_pred(urls[i])\n",
        "  performance_report(knn_model, X, y, X_test, y_test, y_pred, titles[i])"
      ],
      "execution_count": null,
      "outputs": []
    }
  ]
}
